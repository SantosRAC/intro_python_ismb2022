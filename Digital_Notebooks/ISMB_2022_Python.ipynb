{
  "cells": [
    {
      "cell_type": "markdown",
      "metadata": {
        "id": "s_Kl7WHx0PvV"
      },
      "source": [
        "# Introduction to Python programming for bioscientists\n",
        "*Tutorial in the 30th Conference on Intelligent Systems for Molecular Biology (ISMB 2022)*\n\n",
        "[![Open in Colab](https://colab.research.google.com/assets/colab-badge.svg)](https://colab.research.google.com/github/SantosRAC/intro_python_ismb2022/blob/main/ISBM_2022_Python.ipynb)\n",
        "### Instructors\n",
        "- Pedro de Carvalho Braga Ilídio Silva\n",
        "    * Master student, University of São Paulo, Brazil (ilidio@alumni.usp.br)\n",
        "- Hemanoel Passarelli Araujo\n",
        "    * PhD candidate, Federal University of Minas Gerais, Brazil (passarelli@ufmg.br)\n",
        "- Vinícius Henrique Franceschini dos Santos\n",
        "    * University of São Paulo, Brazil (vinicius6.santos@usp.br)\n",
        "- Dr. Renato Augusto Corrêa dos Santos\n",
        "    * Post-doctoral researcher, University of São Paulo, Brazil (renatoacsantos@gmail.com)\n",
        "\n",
        "### Learning Objectives for Tutorial\n",
        "\n",
        "Programming skills have become crucial for bioscientists. In this tutorial, we will introduce Python basic concepts and we will compare SARS-CoV-2 sequences to show how powerful the Biopython toolkit can be to analyze biological data.\n",
        "\n",
        "The main objectives are:\n",
        "\n",
        "- To introduce digital notebooks on Google Colab;\n",
        "- To present the basic logic and data structures in Python;\n",
        "- To provide hands-on experience in analyzing biological sequences using Biopython."
      ]
    },
    {
      "cell_type": "markdown",
      "metadata": {
        "id": "NBJOVW8f0PvY"
      },
      "source": [
        "### Notebook structure\n",
        "<div id='table-of-contents' />\n",
        "This notebook is structured into six modules (M):\n",
        "\n",
        "**First day**\n",
        "- [M1](#m1): Introduction to Python variables and basic types (study-load: 80 minutes);\n",
        "- [M2](#m2): Logical operations and additional data structures (study-load: 50 minutes);\n",
        "- [M3](#m3): Loading content from files (study-load: 50 minutes);\n",
        "\n",
        "**Second day**\n",
        "- [M4](#m4): Functions (study-load: 80 minutes);\n",
        "- [M5](#m5): Interacting with the operating system (study-load: 50 minutes);\n",
        "- [M6](#m6): Biopython, file parsing, and multiple sequence analysis (study-load: 50 minutes);\n"
      ]
    },
    {
      "cell_type": "markdown",
      "metadata": {
        "id": "JtdPtTjS0PvZ"
      },
      "source": [
        "## First day - July 6th, 2022"
      ]
    },
    {
      "cell_type": "markdown",
      "metadata": {
        "id": "lwHuJiaQ0PvY"
      },
      "source": [
        "### Practical Project: COVID-19 and SARS-CoV-2\n",
        "\n",
        "Coronaviruses are RNA viruses able to infect humans and other animals. The severe acute respiratory syndrome coronavirus 2 (SARS-CoV-2) caused the coronavirus disease in 2019 (COVID-19) and new virus lineages still emerge in 2022. \n",
        "\n",
        "The large amount of data generated during the pandemics allowed us to better understand the SARS-CoV-2 genome and the main genetic mechanisms of virus transmission. It is normal for viruses to change over time and accumulate mutations and this set of mutations in a genome can be used to define a viral lineage. \n",
        "\n",
        "The SARS-CoV-2 genome comprises about 30 Kbp and contains four structural proteins, including spike (S), envelope (E), membrane (M), and nucleocapsid (N) proteins. SARS-CoV-2 viruses rely on their S protein to interact with the human ACE2 receptor, making it possible for the viral particles to enter the cell and start the infection. The S protein has two subunits: S1 and S2. The S1 subunit is located in the N-terminus of the S protein and engages with the ACE2 human receptor, while the S2 subunit mediates the fusion of the viral envelope with the host cell's membrane.  \n",
        "\n",
        "The combination of mutations in the S protein is of special importance to discriminating SARS-CoV-2 lineages. See in the image below the main variants of concern of SARS-CoV-2:\n",
        "\n",
        "<!--![sars-cov-2](sars-cov-2-aln.jpg)-->\n",
        "![sars-cov-2](https://viralzone.expasy.org/resources/Variants_graph.svg)\n",
        "**Image and sequences source:** https://viralzone.expasy.org/9556\n",
        "\n",
        "In this tutorial, we will use the spike protein sequences of several SARS-CoV-2 strains to explore Python's potential for working with biological data.\n"
      ]
    },
    {
      "cell_type": "markdown",
      "metadata": {
        "id": "8nSM0FmZ0Pva"
      },
      "source": [
        "<div id='m1' />\n",
        "\n",
        "### M1: Introduction to Python variables and basic types\n",
        "\n",
        "[Back to table of contents](#table-of-contents)\n",
        "\n",
        "**Estimated study load**: 80 minutes\n",
        "\n",
        "**Learning objectives**\n",
        "\n",
        " * Running minimal Python code;\n",
        " * Basics of Python notebooks;\n",
        " * Basics of variables, numeric operations and strings;\n",
        " * `type()` and `print()` built-in functions."
      ]
    },
    {
      "cell_type": "markdown",
      "metadata": {
        "id": "v8eNlb_NW5_X"
      },
      "source": [
        "Imagine the following scenario. You work for a biomedical laboratory with an ongoing research project on sequencing and cataloging the genome of SARS-CoV-2 samples collected from the local population. You receive a file containing the spike protein sequence of a newly sequenced sample. You are asked to determine which virus strain infected the patient whom the sample was taken, leveraging data for subsequent epidemiologic analyses.\n",
        "\n",
        "The sequenced protein is represented in the code cell below. Pieces of textual information in the code cells will always be represented between single or double quotes (`'` or `\"`)."
      ]
    },
    {
      "cell_type": "code",
      "execution_count": null,
      "metadata": {
        "id": "QJBsEo6od1B3",
        "colab": {
          "base_uri": "https://localhost:8080/",
          "height": 250
        },
        "outputId": "3e2a70c5-8ff8-48bf-ca03-cdc5aba7acd8"
      },
      "outputs": [
        {
          "output_type": "execute_result",
          "data": {
            "text/plain": [
              "'MFVFLVLLPLVSSQCVNLRTRTQLPPAYTNSFTRGVYYPDKVFRSSVLHSTQDLFLPFFSNVTWFHAIHVSGTNGTKRFDNPVLPFNDGVYFASTEKSNIIRGWIFGTTLDSKTQSLLIVNNATNVVIKVCEFQFCNDPFLDVYYHKNNKSWMESGVYSSANNCTFEYVSQPFLMDLEGKQGNFKNLREFVFKNIDGYFKIYSKHTPINLVRDLPQGFSALEPLVDLPIGINITRFQTLLALHRSYLTPGDSSSGWTAGAAAYYVGYLQPRTFLLKYNENGTITDAVDCALDPLSETKCTLKSFTVEKGIYQTSNFRVQPTESIVRFPNITNLCPFGEVFNATRFASVYAWNRKRISNCVADYSVLYNSASFSTFKCYGVSPTKLNDLCFTNVYADSFVIRGDEVRQIAPGQTGKIADYNYKLPDDFTGCVIAWNSNNLDSKVGGNYNYRYRLFRKSNLKPFERDISTEIYQAGSKPCNGVEGFNCYFPLQSYGFQPTNGVGYQPYRVVVLSFELLHAPATVCGPKKSTNLVKNKCVNFNFNGLTGTGVLTESNKKFLPFQQFGRDIADTTDAVRDPQTLEILDITPCSFGGVSVITPGTNTSNQVAVLYQGVNCTEVPVAIHADQLTPTWRVYSTGSNVFQTRAGCLIGAEHVNNSYECDIPIGAGICASYQTQTNSRRRARSVASQSIIAYTMSLGAENSVAYSNNSIAIPTNFTISVTTEILPVSMTKTSVDCTMYICGDSTECSNLLLQYGSFCTQLNRALTGIAVEQDKNTQEVFAQVKQIYKTPPIKDFGGFNFSQILPDPSKPSKRSFIEDLLFNKVTLADAGFIKQYGDCLGDIAARDLICAQKFNGLTVLPPLLTDEMIAQYTSALLAGTITSGWTFGAGAALQIPFAMQMAYRFNGIGVTQNVLYENQKLIANQFNSAIGKIQDSLSSTASALGKLQNVVNQNAQALNTLVKQLSSNFGAISSVLNDILSRLDKVEAEVQIDRLITGRLQSLQTYVTQQLIRAAEIRASANLAATKMSECVLGQSKRVDFCGKGYHLMSFPQSAPHGVVFLHVTYVPAQEKNFTTAPAICHDGKAHFPREGVFVSNGTHWFVTQRNFYEPQIITTDNTFVSGNCDVVIGIVNNTVYDPLQPELDSFKEELDKYFKNHTSPDVDLGDISGINASVVNIQKEIDRLNEVAKNLNESLIDLQELGKYEQYIKWPWYIWLGFIAGLIAIVMVTIMLCCMTSCCSCLKGCCSCGSCCKFDEDDSEPVLKGVKLHYT'"
            ],
            "application/vnd.google.colaboratory.intrinsic+json": {
              "type": "string"
            }
          },
          "metadata": {},
          "execution_count": 1
        }
      ],
      "source": [
        "\"MFVFLVLLPLVSSQCVNLRTRTQLPPAYTNSFTRGVYYPDKVFRSSVLHSTQDLFLPFFSNVTWFHAIHVSGTNGTKRFDNPVLPFNDGVYFASTEKSNIIRGWIFGTTLDSKTQSLLIVNNATNVVIKVCEFQFCNDPFLDVYYHKNNKSWMESGVYSSANNCTFEYVSQPFLMDLEGKQGNFKNLREFVFKNIDGYFKIYSKHTPINLVRDLPQGFSALEPLVDLPIGINITRFQTLLALHRSYLTPGDSSSGWTAGAAAYYVGYLQPRTFLLKYNENGTITDAVDCALDPLSETKCTLKSFTVEKGIYQTSNFRVQPTESIVRFPNITNLCPFGEVFNATRFASVYAWNRKRISNCVADYSVLYNSASFSTFKCYGVSPTKLNDLCFTNVYADSFVIRGDEVRQIAPGQTGKIADYNYKLPDDFTGCVIAWNSNNLDSKVGGNYNYRYRLFRKSNLKPFERDISTEIYQAGSKPCNGVEGFNCYFPLQSYGFQPTNGVGYQPYRVVVLSFELLHAPATVCGPKKSTNLVKNKCVNFNFNGLTGTGVLTESNKKFLPFQQFGRDIADTTDAVRDPQTLEILDITPCSFGGVSVITPGTNTSNQVAVLYQGVNCTEVPVAIHADQLTPTWRVYSTGSNVFQTRAGCLIGAEHVNNSYECDIPIGAGICASYQTQTNSRRRARSVASQSIIAYTMSLGAENSVAYSNNSIAIPTNFTISVTTEILPVSMTKTSVDCTMYICGDSTECSNLLLQYGSFCTQLNRALTGIAVEQDKNTQEVFAQVKQIYKTPPIKDFGGFNFSQILPDPSKPSKRSFIEDLLFNKVTLADAGFIKQYGDCLGDIAARDLICAQKFNGLTVLPPLLTDEMIAQYTSALLAGTITSGWTFGAGAALQIPFAMQMAYRFNGIGVTQNVLYENQKLIANQFNSAIGKIQDSLSSTASALGKLQNVVNQNAQALNTLVKQLSSNFGAISSVLNDILSRLDKVEAEVQIDRLITGRLQSLQTYVTQQLIRAAEIRASANLAATKMSECVLGQSKRVDFCGKGYHLMSFPQSAPHGVVFLHVTYVPAQEKNFTTAPAICHDGKAHFPREGVFVSNGTHWFVTQRNFYEPQIITTDNTFVSGNCDVVIGIVNNTVYDPLQPELDSFKEELDKYFKNHTSPDVDLGDISGINASVVNIQKEIDRLNEVAKNLNESLIDLQELGKYEQYIKWPWYIWLGFIAGLIAIVMVTIMLCCMTSCCSCLKGCCSCGSCCKFDEDDSEPVLKGVKLHYT\""
      ]
    },
    {
      "cell_type": "markdown",
      "metadata": {
        "id": "8ajhGIUncuDs"
      },
      "source": [
        "As mentioned in the project introduction, you know that what defines different viral lineages are specific mutations in the spike protein, especially in some important regions such as the RBD, the receptor-binding domain. An idea then strikes you: you only need to find a specific sequence motif to determine the strain you are dealing with. For the Omicron variant, for example, the following sequence segment must be present in the sequenced protein:"
      ]
    },
    {
      "cell_type": "code",
      "execution_count": null,
      "metadata": {
        "colab": {
          "base_uri": "https://localhost:8080/",
          "height": 35
        },
        "id": "EcskpJhAdLrN",
        "outputId": "89648fc8-cf3b-46b5-9468-298e97a39b86"
      },
      "outputs": [
        {
          "output_type": "execute_result",
          "data": {
            "text/plain": [
              "'RLFRKSNLKPFERDISTEIYQAGNKPCNGVAGFNCYFPLRSYSFRPTYGV'"
            ],
            "application/vnd.google.colaboratory.intrinsic+json": {
              "type": "string"
            }
          },
          "metadata": {},
          "execution_count": 2
        }
      ],
      "source": [
        "\"RLFRKSNLKPFERDISTEIYQAGNKPCNGVAGFNCYFPLRSYSFRPTYGV\""
      ]
    },
    {
      "cell_type": "markdown",
      "metadata": {
        "id": "707nMGqvgNHF"
      },
      "source": [
        "Despite it, manually searching for subsequences, additionally for all main variants, can be very time-consuming. Impressively, however, as we are using Python, it becomes just a matter of asking it: \"is A in B?\". We just have to write: (sequence A) in (sequence B), and a `True` or `False` output will tell us the validity of our affirmation."
      ]
    },
    {
      "cell_type": "code",
      "execution_count": null,
      "metadata": {
        "colab": {
          "base_uri": "https://localhost:8080/"
        },
        "id": "UrwzNoAxiC40",
        "outputId": "525d09ef-f7ee-4ab4-fed4-2b5e7e948f6e"
      },
      "outputs": [
        {
          "output_type": "execute_result",
          "data": {
            "text/plain": [
              "False"
            ]
          },
          "metadata": {},
          "execution_count": 3
        }
      ],
      "source": [
        "\"RLFRKSNLKPFERDISTEIYQAGNKPCNGVAGFNCYFPLRSYSFRPTYGV\" in \"MFVFLVLLPLVSSQCVNLRTRTQLPPAYTNSFTRGVYYPDKVFRSSVLHSTQDLFLPFFSNVTWFHAIHVSGTNGTKRFDNPVLPFNDGVYFASTEKSNIIRGWIFGTTLDSKTQSLLIVNNATNVVIKVCEFQFCNDPFLDVYYHKNNKSWMESGVYSSANNCTFEYVSQPFLMDLEGKQGNFKNLREFVFKNIDGYFKIYSKHTPINLVRDLPQGFSALEPLVDLPIGINITRFQTLLALHRSYLTPGDSSSGWTAGAAAYYVGYLQPRTFLLKYNENGTITDAVDCALDPLSETKCTLKSFTVEKGIYQTSNFRVQPTESIVRFPNITNLCPFGEVFNATRFASVYAWNRKRISNCVADYSVLYNSASFSTFKCYGVSPTKLNDLCFTNVYADSFVIRGDEVRQIAPGQTGKIADYNYKLPDDFTGCVIAWNSNNLDSKVGGNYNYRYRLFRKSNLKPFERDISTEIYQAGSKPCNGVEGFNCYFPLQSYGFQPTNGVGYQPYRVVVLSFELLHAPATVCGPKKSTNLVKNKCVNFNFNGLTGTGVLTESNKKFLPFQQFGRDIADTTDAVRDPQTLEILDITPCSFGGVSVITPGTNTSNQVAVLYQGVNCTEVPVAIHADQLTPTWRVYSTGSNVFQTRAGCLIGAEHVNNSYECDIPIGAGICASYQTQTNSRRRARSVASQSIIAYTMSLGAENSVAYSNNSIAIPTNFTISVTTEILPVSMTKTSVDCTMYICGDSTECSNLLLQYGSFCTQLNRALTGIAVEQDKNTQEVFAQVKQIYKTPPIKDFGGFNFSQILPDPSKPSKRSFIEDLLFNKVTLADAGFIKQYGDCLGDIAARDLICAQKFNGLTVLPPLLTDEMIAQYTSALLAGTITSGWTFGAGAALQIPFAMQMAYRFNGIGVTQNVLYENQKLIANQFNSAIGKIQDSLSSTASALGKLQNVVNQNAQALNTLVKQLSSNFGAISSVLNDILSRLDKVEAEVQIDRLITGRLQSLQTYVTQQLIRAAEIRASANLAATKMSECVLGQSKRVDFCGKGYHLMSFPQSAPHGVVFLHVTYVPAQEKNFTTAPAICHDGKAHFPREGVFVSNGTHWFVTQRNFYEPQIITTDNTFVSGNCDVVIGIVNNTVYDPLQPELDSFKEELDKYFKNHTSPDVDLGDISGINASVVNIQKEIDRLNEVAKNLNESLIDLQELGKYEQYIKWPWYIWLGFIAGLIAIVMVTIMLCCMTSCCSCLKGCCSCGSCCKFDEDDSEPVLKGVKLHYT\""
      ]
    },
    {
      "cell_type": "markdown",
      "metadata": {
        "id": "KoUI2q0fiQYi"
      },
      "source": [
        "It must not be the Omicron variant then!\n",
        "\n",
        "Since the very long lines make it difficult for us to read and reuse the sequences, we can define \"aliases\" for each piece of text using the \"equal\" sign (`=`):"
      ]
    },
    {
      "cell_type": "code",
      "execution_count": null,
      "metadata": {
        "id": "0cL2mIE1bdDJ"
      },
      "outputs": [],
      "source": [
        "omicron_rbd_segment = \"RLFRKSNLKPFERDISTEIYQAGNKPCNGVAGFNCYFPLRSYSFRPTYGV\"\n",
        "sequenced_protein = \"MFVFLVLLPLVSSQCVNLRTRTQLPPAYTNSFTRGVYYPDKVFRSSVLHSTQDLFLPFFSNVTWFHAIHVSGTNGTKRFDNPVLPFNDGVYFASTEKSNIIRGWIFGTTLDSKTQSLLIVNNATNVVIKVCEFQFCNDPFLDVYYHKNNKSWMESGVYSSANNCTFEYVSQPFLMDLEGKQGNFKNLREFVFKNIDGYFKIYSKHTPINLVRDLPQGFSALEPLVDLPIGINITRFQTLLALHRSYLTPGDSSSGWTAGAAAYYVGYLQPRTFLLKYNENGTITDAVDCALDPLSETKCTLKSFTVEKGIYQTSNFRVQPTESIVRFPNITNLCPFGEVFNATRFASVYAWNRKRISNCVADYSVLYNSASFSTFKCYGVSPTKLNDLCFTNVYADSFVIRGDEVRQIAPGQTGKIADYNYKLPDDFTGCVIAWNSNNLDSKVGGNYNYRYRLFRKSNLKPFERDISTEIYQAGSKPCNGVEGFNCYFPLQSYGFQPTNGVGYQPYRVVVLSFELLHAPATVCGPKKSTNLVKNKCVNFNFNGLTGTGVLTESNKKFLPFQQFGRDIADTTDAVRDPQTLEILDITPCSFGGVSVITPGTNTSNQVAVLYQGVNCTEVPVAIHADQLTPTWRVYSTGSNVFQTRAGCLIGAEHVNNSYECDIPIGAGICASYQTQTNSRRRARSVASQSIIAYTMSLGAENSVAYSNNSIAIPTNFTISVTTEILPVSMTKTSVDCTMYICGDSTECSNLLLQYGSFCTQLNRALTGIAVEQDKNTQEVFAQVKQIYKTPPIKDFGGFNFSQILPDPSKPSKRSFIEDLLFNKVTLADAGFIKQYGDCLGDIAARDLICAQKFNGLTVLPPLLTDEMIAQYTSALLAGTITSGWTFGAGAALQIPFAMQMAYRFNGIGVTQNVLYENQKLIANQFNSAIGKIQDSLSSTASALGKLQNVVNQNAQALNTLVKQLSSNFGAISSVLNDILSRLDKVEAEVQIDRLITGRLQSLQTYVTQQLIRAAEIRASANLAATKMSECVLGQSKRVDFCGKGYHLMSFPQSAPHGVVFLHVTYVPAQEKNFTTAPAICHDGKAHFPREGVFVSNGTHWFVTQRNFYEPQIITTDNTFVSGNCDVVIGIVNNTVYDPLQPELDSFKEELDKYFKNHTSPDVDLGDISGINASVVNIQKEIDRLNEVAKNLNESLIDLQELGKYEQYIKWPWYIWLGFIAGLIAIVMVTIMLCCMTSCCSCLKGCCSCGSCCKFDEDDSEPVLKGVKLHYT\""
      ]
    },
    {
      "cell_type": "markdown",
      "metadata": {
        "id": "y_qmUY-7i4rn"
      },
      "source": [
        "The previous test, if the Omicron's sequence segment was present in our sequenced spike protein, can now be rewritten much more concisely:"
      ]
    },
    {
      "cell_type": "code",
      "execution_count": null,
      "metadata": {
        "colab": {
          "base_uri": "https://localhost:8080/"
        },
        "id": "GopZyiF7jI4Y",
        "outputId": "453d9242-6632-4e27-e4cf-d5535d1e7101"
      },
      "outputs": [
        {
          "output_type": "execute_result",
          "data": {
            "text/plain": [
              "False"
            ]
          },
          "metadata": {},
          "execution_count": 5
        }
      ],
      "source": [
        "omicron_rbd_segment in sequenced_protein"
      ]
    },
    {
      "cell_type": "markdown",
      "metadata": {
        "id": "vAPlpeNpktC6"
      },
      "source": [
        "If you find such sequence segments for all SARS-CoV-2 variants, you can achieve our original goal. You then go ahead and search in public databases for those motifs, naming them as below. "
      ]
    },
    {
      "cell_type": "code",
      "execution_count": null,
      "metadata": {
        "id": "pmJazElGlycD"
      },
      "outputs": [],
      "source": [
        "alpha_rbd_segment = \"RLFRKSNLKPFERDISTEIYQAGSTPCNGVEGFNCYFPLQSYGFQPTYGV\"\n",
        "beta_rbd_segment = \"RLFRKSNLKPFERDISTEIYQAGSTPCNGVKGFNCYFPLQSYGFQPTYGV\"\n",
        "gamma_rbd_segment = \"YLYRLFRKSNLKPFERDISTEIYQAGSTPCNGVKGFNCYFPLQSYGFQPT\"\n",
        "delta_rbd_segment = \"YRLFRKSNLKPFERDISTEIYQAGSKPCNGVEGFNCYFPLQSYGFQPTNG\""
      ]
    },
    {
      "cell_type": "markdown",
      "metadata": {
        "id": "q_tlU5RJpoWM"
      },
      "source": [
        "You are ready to check each variant."
      ]
    },
    {
      "cell_type": "code",
      "execution_count": null,
      "metadata": {
        "colab": {
          "base_uri": "https://localhost:8080/"
        },
        "id": "ZHqOykcLn_t5",
        "outputId": "84bdd72c-76b1-4c99-b39e-0347359b01fd"
      },
      "outputs": [
        {
          "output_type": "execute_result",
          "data": {
            "text/plain": [
              "False"
            ]
          },
          "metadata": {},
          "execution_count": 7
        }
      ],
      "source": [
        "alpha_rbd_segment in sequenced_protein"
      ]
    },
    {
      "cell_type": "code",
      "execution_count": null,
      "metadata": {
        "colab": {
          "base_uri": "https://localhost:8080/"
        },
        "id": "BngmR-7joA6W",
        "outputId": "af573c95-c8b4-44a2-d7d6-7e65f08d4fec"
      },
      "outputs": [
        {
          "output_type": "execute_result",
          "data": {
            "text/plain": [
              "False"
            ]
          },
          "metadata": {},
          "execution_count": 8
        }
      ],
      "source": [
        "beta_rbd_segment in sequenced_protein"
      ]
    },
    {
      "cell_type": "code",
      "execution_count": null,
      "metadata": {
        "colab": {
          "base_uri": "https://localhost:8080/"
        },
        "id": "kbL33AYCoBgL",
        "outputId": "a83eab83-69b7-4928-aa88-0766160fadfc"
      },
      "outputs": [
        {
          "output_type": "execute_result",
          "data": {
            "text/plain": [
              "False"
            ]
          },
          "metadata": {},
          "execution_count": 9
        }
      ],
      "source": [
        "gamma_rbd_segment in sequenced_protein"
      ]
    },
    {
      "cell_type": "code",
      "execution_count": null,
      "metadata": {
        "colab": {
          "base_uri": "https://localhost:8080/"
        },
        "id": "1aqJMFMFoCNC",
        "outputId": "aa2ddd41-fb6e-4ce8-a99f-ed45501db39d"
      },
      "outputs": [
        {
          "output_type": "execute_result",
          "data": {
            "text/plain": [
              "True"
            ]
          },
          "metadata": {},
          "execution_count": 10
        }
      ],
      "source": [
        "delta_rbd_segment in sequenced_protein"
      ]
    },
    {
      "cell_type": "markdown",
      "metadata": {
        "id": "c-CYDPaMpzny"
      },
      "source": [
        "You've found it! The source patient has likely been infected with a Delta-strain SARS-CoV-2.\n",
        "\n",
        "At this point, we are only scratching the surface of all the power a programming language gives you (Python, in our case). Throughout this tutorial, we will show several examples of biological analyses that can be efficiently automated, gently introducing you to the journey of computer programming, where you become able to unlock all the capabilities of your personal computer and make it do all the tedious computational jobs for you."
      ]
    },
    {
      "cell_type": "markdown",
      "metadata": {
        "id": "H409n7MAPnxY"
      },
      "source": [
        "> **NOTE:** Programming empowers you."
      ]
    },
    {
      "cell_type": "markdown",
      "metadata": {
        "id": "eToGtknn0Pvb"
      },
      "source": [
        "#### Quick view of Google Colab's functionalities\n",
        "\n",
        "At this stage, we will follow the steps on the complementary notebook about digital notebooks on Google Colaboratory."
      ]
    },
    {
      "cell_type": "markdown",
      "metadata": {
        "id": "9HJyBEmE0Pvb"
      },
      "source": [
        "#### What variables are and how to define them in Python\n",
        "\n",
        "What we called \"aliases\" in the previous section are formally called **variables**. Variables are identifiers that \"point to\" or \"store\" many types of information.\n",
        "\n",
        "Variables have:\n",
        "* **Name:** the identifier we give to them. E.g. `delta_rbd_segment`, `omicron_rbd_segment`;\n",
        "    \n",
        "* **Type:** the kind of the information it represents. E.g. a number, an integer number, a piece of text, etc.;\n",
        "    \n",
        "* **Value:** the actual information it is holding. E.g. `3.14159`, `256` or maybe `\"Hi there!\"`.\n"
      ]
    },
    {
      "cell_type": "markdown",
      "metadata": {
        "id": "w-ZekQgrHF11"
      },
      "source": [
        "> **NOTE:** Variables have **name**, **value** and **type**."
      ]
    },
    {
      "cell_type": "markdown",
      "metadata": {
        "id": "jRk7rSEAG0iz"
      },
      "source": [
        "There are some rules we must follow when naming variables:\n",
        "* Variable names can only have letters, numbers and underscores;\n",
        "* Consequently, they must NOT have whitespaces;\n",
        "* Although they can contain numbers, they CANNOT start with them; \n",
        "* They must NOT be reserved, special words of the Python language (we will see some of these reserved words soon)."
      ]
    },
    {
      "cell_type": "markdown",
      "metadata": {
        "id": "COQ1WiJKHNYc"
      },
      "source": [
        "Here are some examples using **incorrect** variable names, so that the code cells will naturally throw an error when we run them. As we have seen earlier, the `=` sign is what we use to assign values to variables."
      ]
    },
    {
      "cell_type": "code",
      "execution_count": null,
      "metadata": {
        "colab": {
          "base_uri": "https://localhost:8080/",
          "height": 133
        },
        "id": "pX7yJ-WICWGw",
        "outputId": "d79ab6de-ed77-4dba-c38d-760292afd466"
      },
      "outputs": [
        {
          "output_type": "error",
          "ename": "SyntaxError",
          "evalue": "ignored",
          "traceback": [
            "\u001b[0;36m  File \u001b[0;32m\"<ipython-input-11-65f8c1732d4a>\"\u001b[0;36m, line \u001b[0;32m1\u001b[0m\n\u001b[0;31m    genome size = 29000\u001b[0m\n\u001b[0m              ^\u001b[0m\n\u001b[0;31mSyntaxError\u001b[0m\u001b[0;31m:\u001b[0m invalid syntax\n"
          ]
        }
      ],
      "source": [
        "genome size = 29000"
      ]
    },
    {
      "cell_type": "code",
      "execution_count": null,
      "metadata": {
        "id": "5NBWJNDB0Pvd"
      },
      "outputs": [],
      "source": [
        "number-of-colonies-in-our-plate = 32"
      ]
    },
    {
      "cell_type": "code",
      "execution_count": null,
      "metadata": {
        "id": "4HOidp-KA3Jv"
      },
      "outputs": [],
      "source": [
        "my_solution_concentration_in_g/cm^3 = 0.45"
      ]
    },
    {
      "cell_type": "code",
      "execution_count": null,
      "metadata": {
        "id": "UOWFziLaCHl2"
      },
      "outputs": [],
      "source": [
        "3D_structure_of_our_protein = \"our_amazing_protein.pdb\""
      ]
    },
    {
      "cell_type": "markdown",
      "metadata": {
        "id": "HIMI5jgCDuga"
      },
      "source": [
        "See if you can come up with valid alternatives for the variable names above.\n",
        "\n",
        "Multiple possibilities exist to visually separate words when defining a variable, namely what we call `camelCase`, `PascalCase` or `snake_case`. We conventionally adopt the last option as the preferred one."
      ]
    },
    {
      "cell_type": "code",
      "execution_count": null,
      "metadata": {
        "id": "xriONsNmUhCX"
      },
      "outputs": [],
      "source": [
        "coronavirusGenomeSize = 29000  # camelCase"
      ]
    },
    {
      "cell_type": "code",
      "execution_count": null,
      "metadata": {
        "id": "2QxqsgmKU1ub"
      },
      "outputs": [],
      "source": [
        "CoronavirusGenomeSize = 29000  # PascalCase"
      ]
    },
    {
      "cell_type": "code",
      "execution_count": null,
      "metadata": {
        "id": "VgQd5ONs0Pvf"
      },
      "outputs": [],
      "source": [
        "coronavirus_genome_size = 29000  # snake_case"
      ]
    },
    {
      "cell_type": "markdown",
      "metadata": {
        "id": "BERP8D8rJA1G"
      },
      "source": [
        "> **Side note:** All text written after the `#` character in each line is ignored by Python. This is very useful for writing **comments** in our code, explaining to other people how some of our confusing lines of code work."
      ]
    },
    {
      "cell_type": "markdown",
      "metadata": {
        "id": "21lW1mgQOA8P"
      },
      "source": [
        "> **Side note:** Even if shorter names are easier to write multiple times, try your best to provide variable names that are as descriptive as possible, ensuring your code is always easy to be understood by other programmers."
      ]
    },
    {
      "cell_type": "markdown",
      "metadata": {
        "id": "DODVBl7p0Pve"
      },
      "source": [
        "#### PEP8 conventions\n",
        "\n",
        "The most accepted Python code style conventions (such as using `snake_case` for variables) are defined in a document called [PEP8](https://peps.python.org/pep-0008/). These are the standards we will follow in this tutorial. If you have any doubts regarding spacing, indentation, and other seemingly arbitrary code formatting options, you can always search for what [PEP8](https://peps.python.org/pep-0008/) states about it."
      ]
    },
    {
      "cell_type": "markdown",
      "metadata": {
        "id": "NL8aGWtZIwE8"
      },
      "source": [
        "> **NOTE**: [PEP8](https://peps.python.org/pep-0008/) is the main standard for Python code formatting."
      ]
    },
    {
      "cell_type": "markdown",
      "metadata": {
        "id": "jf_X_yRp0Pvg"
      },
      "source": [
        "#### Working with numbers\n",
        "\n",
        "There are three different types of numbers in Python:\n",
        "* Integers;\n",
        "* Floating-point numbers;\n",
        "* Complex numbers (we are not going to provide examples of how to work with complex numbers in this activity)."
      ]
    },
    {
      "cell_type": "markdown",
      "metadata": {
        "id": "g4IuFyAI0Pvg"
      },
      "source": [
        "This is an integer in Python:"
      ]
    },
    {
      "cell_type": "code",
      "execution_count": null,
      "metadata": {
        "id": "tITPeUPH0Pvg",
        "outputId": "159f303a-ab5c-4e69-dfcf-052764aea516",
        "colab": {
          "base_uri": "https://localhost:8080/"
        }
      },
      "outputs": [
        {
          "output_type": "execute_result",
          "data": {
            "text/plain": [
              "10"
            ]
          },
          "metadata": {},
          "execution_count": 15
        }
      ],
      "source": [
        "10"
      ]
    },
    {
      "cell_type": "markdown",
      "metadata": {
        "id": "6S_wZHcq0Pvh"
      },
      "source": [
        "Remember that variables have a type and a value.\n",
        "\n",
        "We can check what type our data is by using the `type` function (we will use this function several times over the two days)."
      ]
    },
    {
      "cell_type": "code",
      "execution_count": null,
      "metadata": {
        "id": "pEqT7TQX0Pvi",
        "outputId": "2d1bade6-3f83-4b5b-e605-d032de26da4d",
        "colab": {
          "base_uri": "https://localhost:8080/"
        }
      },
      "outputs": [
        {
          "output_type": "execute_result",
          "data": {
            "text/plain": [
              "int"
            ]
          },
          "metadata": {},
          "execution_count": 16
        }
      ],
      "source": [
        "type(10)"
      ]
    },
    {
      "cell_type": "markdown",
      "metadata": {
        "id": "6HfzklIv4fiI"
      },
      "source": [
        "> **Side note:** As you might have noticed, we use functions writing their names directly followed by parentheses. We will see them in detail tomorrow (even learning how to build our own!), but for now it is enough to know many of them take input values specified inside the parentheses (`10` in this case) and output some information about them. In our case, the function `type` outputs the type of the value we provide to it."
      ]
    },
    {
      "cell_type": "markdown",
      "metadata": {
        "id": "hJ34UlVEJYo4"
      },
      "source": [
        "> **NOTE:** Numbers in Python can be mainly integers (represented by `int`) or decimal (a.k.a. floating-point, `float`)."
      ]
    },
    {
      "cell_type": "markdown",
      "metadata": {
        "id": "LwHTTaqv0Pvj"
      },
      "source": [
        "##### Arithmetic operations\n",
        "\n",
        "Like a calculator, Python can also be used to carry out many different arithmetic operations:\n",
        "\n",
        "| **Operator** | **Description** | **Example** |\n",
        "|------|------|------|\n",
        "|  +   | Add the values  |  |\n",
        "|  -   | Subtract the right value from the left value |  |\n",
        "|  *   | Multiply the left and right values |  |\n",
        "|  /   | Divide the left value by the right value |  |\n",
        "|  //  | Integer division |  |\n",
        "|  %   | Modulus - returns any remainder |  |\n",
        "|  **  | Exponent (or power of) |  |\n",
        "\n",
        "(Table was obtained from Hunt, 2021, but similar tables are easily found on the internet)"
      ]
    },
    {
      "cell_type": "markdown",
      "metadata": {
        "id": "GLFzlp3lZP-p"
      },
      "source": [
        "The following are gene positions on the Wuhan [reference genome](https://www.ncbi.nlm.nih.gov/nuccore/NC_045512.2/) (with a total size of 29,903 bp). Remember we are looking to an enveloped positive-sense single-stranded RNA virus.\n",
        "\n",
        "| star | end | gene name |\n",
        "|------|-----|-----------|\n",
        "|25393\t| 26220 | ORF3a |\n",
        "|26245\t| 26472 |\tE |\n",
        "|26523\t| 27191\t| M |\n",
        "|27202\t| 27387\t| ORF6 |\n",
        "|27394\t| 27759\t| ORF7a |\n",
        "|27756\t| 27887\t| ORF7b |\n",
        "|27894\t| 28259\t| ORF8 |\n",
        "|28274\t| 29533\t| N |\n",
        "|29558\t| 29674\t| ORF10 |"
      ]
    },
    {
      "cell_type": "markdown",
      "metadata": {
        "id": "Ij5mAB5vchyd"
      },
      "source": [
        "Let's work with ORF3a. What is the gene length given the start and end position in the genome?"
      ]
    },
    {
      "cell_type": "code",
      "execution_count": null,
      "metadata": {
        "colab": {
          "base_uri": "https://localhost:8080/"
        },
        "id": "BLNKBYhAbt3P",
        "outputId": "5eb44726-39d8-4adc-b574-3fcfbe7bacde"
      },
      "outputs": [
        {
          "output_type": "execute_result",
          "data": {
            "text/plain": [
              "827"
            ]
          },
          "metadata": {},
          "execution_count": 17
        }
      ],
      "source": [
        "26220 - 25393"
      ]
    },
    {
      "cell_type": "markdown",
      "metadata": {
        "id": "pJKHf4uwwHsw"
      },
      "source": [
        "Notice that we must add `1` to the result, since start and end positions are considered part of the gene. For instance, the number of integers from `2` to `5` is `4` (they are `2`, `3`, `4` and `5`) and not `5 - 2 = 3`."
      ]
    },
    {
      "cell_type": "code",
      "execution_count": null,
      "metadata": {
        "colab": {
          "base_uri": "https://localhost:8080/"
        },
        "id": "TgnEL7ny0Pvj",
        "outputId": "c8d426b4-ad5f-4678-c7e0-78dd3523768b"
      },
      "outputs": [
        {
          "output_type": "execute_result",
          "data": {
            "text/plain": [
              "828"
            ]
          },
          "metadata": {},
          "execution_count": 18
        }
      ],
      "source": [
        "26220 - 25393 + 1"
      ]
    },
    {
      "cell_type": "markdown",
      "metadata": {
        "id": "AeEO5Vo0xYwk"
      },
      "source": [
        "How many amino acids will the translated peptide sequence have?"
      ]
    },
    {
      "cell_type": "code",
      "execution_count": null,
      "metadata": {
        "colab": {
          "base_uri": "https://localhost:8080/"
        },
        "id": "YNRjbMrtYsK2",
        "outputId": "11e24163-af41-442c-e58e-8aa4965c2b52"
      },
      "outputs": [
        {
          "output_type": "execute_result",
          "data": {
            "text/plain": [
              "276.0"
            ]
          },
          "metadata": {},
          "execution_count": 19
        }
      ],
      "source": [
        "828 / 3"
      ]
    },
    {
      "cell_type": "markdown",
      "metadata": {
        "id": "CEWHlSbfb8_-"
      },
      "source": [
        "Almost. If you check the [NCBI identifier](https://www.ncbi.nlm.nih.gov/protein/1796318599) for this protein, the product of ORF3a, you will notice that it actually has 275 aa. We forgot to exclude the stop codon from our calculations!"
      ]
    },
    {
      "cell_type": "code",
      "execution_count": null,
      "metadata": {
        "colab": {
          "base_uri": "https://localhost:8080/"
        },
        "id": "freVX6y9b8ij",
        "outputId": "c470f5d0-9d00-4f12-dc71-a59cea25eca0"
      },
      "outputs": [
        {
          "output_type": "execute_result",
          "data": {
            "text/plain": [
              "275.0"
            ]
          },
          "metadata": {},
          "execution_count": 20
        }
      ],
      "source": [
        "828 / 3 - 1"
      ]
    },
    {
      "cell_type": "markdown",
      "metadata": {
        "id": "6rErKJO68-Dq"
      },
      "source": [
        "There we go."
      ]
    },
    {
      "cell_type": "markdown",
      "metadata": {
        "id": "YFXyA1umNR91"
      },
      "source": [
        "> **NOTE:** Basic arithmetic operations can be carried on in Python with `+`, `-`, `*`, `/`, `**` and others."
      ]
    },
    {
      "cell_type": "markdown",
      "metadata": {
        "id": "1tyRTnPgdMqS"
      },
      "source": [
        " Here is one more example: let's calculate the ORF3a's length relative to the total genome size (29,903 bp):\n"
      ]
    },
    {
      "cell_type": "code",
      "execution_count": null,
      "metadata": {
        "colab": {
          "base_uri": "https://localhost:8080/"
        },
        "id": "vcfVs4bfdKEB",
        "outputId": "221982ba-3f06-48fa-d45c-7929d5cb6925"
      },
      "outputs": [
        {
          "output_type": "execute_result",
          "data": {
            "text/plain": [
              "827.0000334414607"
            ]
          },
          "metadata": {},
          "execution_count": 21
        }
      ],
      "source": [
        "26220 - 25393 + 1 / 29903"
      ]
    },
    {
      "cell_type": "markdown",
      "metadata": {
        "id": "tFAhcbD0zbi5"
      },
      "source": [
        "Wait, we actually calculated"
      ]
    },
    {
      "cell_type": "code",
      "execution_count": null,
      "metadata": {
        "colab": {
          "base_uri": "https://localhost:8080/"
        },
        "id": "q3RRz_WyzhoG",
        "outputId": "47975080-710f-408e-ea94-1e57785af3e3"
      },
      "outputs": [
        {
          "output_type": "execute_result",
          "data": {
            "text/plain": [
              "827.0000334414607"
            ]
          },
          "metadata": {},
          "execution_count": 22
        }
      ],
      "source": [
        "26220 - 25393 + (1 / 29903)"
      ]
    },
    {
      "cell_type": "markdown",
      "metadata": {
        "id": "R9IRGwgO16pH"
      },
      "source": [
        "As usual in arithmetic, multiplication/division operations are calculated before addition/subtraction. We must use parentheses to specify a different order:"
      ]
    },
    {
      "cell_type": "code",
      "execution_count": null,
      "metadata": {
        "colab": {
          "base_uri": "https://localhost:8080/"
        },
        "id": "RdXGcCuQc10s",
        "outputId": "542a3ae5-d21f-463f-e67d-131c71fc0e56"
      },
      "outputs": [
        {
          "output_type": "execute_result",
          "data": {
            "text/plain": [
              "0.027689529478647626"
            ]
          },
          "metadata": {},
          "execution_count": 23
        }
      ],
      "source": [
        "(26220 - 25393 + 1) / 29903"
      ]
    },
    {
      "cell_type": "markdown",
      "metadata": {
        "id": "k1rEmdAk277g"
      },
      "source": [
        "Converting to a percentage value:"
      ]
    },
    {
      "cell_type": "code",
      "execution_count": null,
      "metadata": {
        "colab": {
          "base_uri": "https://localhost:8080/"
        },
        "id": "_HtPpL7odwsr",
        "outputId": "d1142b89-e388-4232-aa7a-ca87aa04db36"
      },
      "outputs": [
        {
          "output_type": "execute_result",
          "data": {
            "text/plain": [
              "2.7689529478647628"
            ]
          },
          "metadata": {},
          "execution_count": 24
        }
      ],
      "source": [
        "((26220 - 25393 + 1) / 29903) * 100"
      ]
    },
    {
      "cell_type": "markdown",
      "metadata": {
        "id": "SceJzWExYsWC"
      },
      "source": [
        "Visually, it seems to make sense:\n",
        "\n",
        "![SARS-CoV-2 genome (Viralzone EXPASy)](https://viralzone.expasy.org/resources/SARS_genome.png)\n",
        "\n",
        "Source: [SARS-CoV-2 genome (Viralzone EXPASy)](https://viralzone.expasy.org/resources/SARS_genome.png)"
      ]
    },
    {
      "cell_type": "markdown",
      "metadata": {
        "id": "LJh0dqlzLbPD"
      },
      "source": [
        "> **NOTE:** Usual operation precedence rules are always followed in Python arithmetic expressions."
      ]
    },
    {
      "cell_type": "markdown",
      "metadata": {
        "id": "7jobBKC10Pvk"
      },
      "source": [
        "#### Looking for help"
      ]
    },
    {
      "cell_type": "markdown",
      "metadata": {
        "id": "wApw28tc9V8A"
      },
      "source": [
        "Python provides us with a `help` function that can be called on any object to display information about it."
      ]
    },
    {
      "cell_type": "code",
      "execution_count": null,
      "metadata": {
        "colab": {
          "base_uri": "https://localhost:8080/"
        },
        "id": "Mq9NeAdA0Pvk",
        "outputId": "09cc15fc-d954-400a-cec7-71bcceb98e6f"
      },
      "outputs": [
        {
          "output_type": "stream",
          "name": "stdout",
          "text": [
            "Help on int object:\n",
            "\n",
            "class int(object)\n",
            " |  int([x]) -> integer\n",
            " |  int(x, base=10) -> integer\n",
            " |  \n",
            " |  Convert a number or string to an integer, or return 0 if no arguments\n",
            " |  are given.  If x is a number, return x.__int__().  For floating point\n",
            " |  numbers, this truncates towards zero.\n",
            " |  \n",
            " |  If x is not a number or if base is given, then x must be a string,\n",
            " |  bytes, or bytearray instance representing an integer literal in the\n",
            " |  given base.  The literal can be preceded by '+' or '-' and be surrounded\n",
            " |  by whitespace.  The base defaults to 10.  Valid bases are 0 and 2-36.\n",
            " |  Base 0 means to interpret the base from the string as an integer literal.\n",
            " |  >>> int('0b100', base=0)\n",
            " |  4\n",
            " |  \n",
            " |  Methods defined here:\n",
            " |  \n",
            " |  __abs__(self, /)\n",
            " |      abs(self)\n",
            " |  \n",
            " |  __add__(self, value, /)\n",
            " |      Return self+value.\n",
            " |  \n",
            " |  __and__(self, value, /)\n",
            " |      Return self&value.\n",
            " |  \n",
            " |  __bool__(self, /)\n",
            " |      self != 0\n",
            " |  \n",
            " |  __ceil__(...)\n",
            " |      Ceiling of an Integral returns itself.\n",
            " |  \n",
            " |  __divmod__(self, value, /)\n",
            " |      Return divmod(self, value).\n",
            " |  \n",
            " |  __eq__(self, value, /)\n",
            " |      Return self==value.\n",
            " |  \n",
            " |  __float__(self, /)\n",
            " |      float(self)\n",
            " |  \n",
            " |  __floor__(...)\n",
            " |      Flooring an Integral returns itself.\n",
            " |  \n",
            " |  __floordiv__(self, value, /)\n",
            " |      Return self//value.\n",
            " |  \n",
            " |  __format__(self, format_spec, /)\n",
            " |      Default object formatter.\n",
            " |  \n",
            " |  __ge__(self, value, /)\n",
            " |      Return self>=value.\n",
            " |  \n",
            " |  __getattribute__(self, name, /)\n",
            " |      Return getattr(self, name).\n",
            " |  \n",
            " |  __getnewargs__(self, /)\n",
            " |  \n",
            " |  __gt__(self, value, /)\n",
            " |      Return self>value.\n",
            " |  \n",
            " |  __hash__(self, /)\n",
            " |      Return hash(self).\n",
            " |  \n",
            " |  __index__(self, /)\n",
            " |      Return self converted to an integer, if self is suitable for use as an index into a list.\n",
            " |  \n",
            " |  __int__(self, /)\n",
            " |      int(self)\n",
            " |  \n",
            " |  __invert__(self, /)\n",
            " |      ~self\n",
            " |  \n",
            " |  __le__(self, value, /)\n",
            " |      Return self<=value.\n",
            " |  \n",
            " |  __lshift__(self, value, /)\n",
            " |      Return self<<value.\n",
            " |  \n",
            " |  __lt__(self, value, /)\n",
            " |      Return self<value.\n",
            " |  \n",
            " |  __mod__(self, value, /)\n",
            " |      Return self%value.\n",
            " |  \n",
            " |  __mul__(self, value, /)\n",
            " |      Return self*value.\n",
            " |  \n",
            " |  __ne__(self, value, /)\n",
            " |      Return self!=value.\n",
            " |  \n",
            " |  __neg__(self, /)\n",
            " |      -self\n",
            " |  \n",
            " |  __or__(self, value, /)\n",
            " |      Return self|value.\n",
            " |  \n",
            " |  __pos__(self, /)\n",
            " |      +self\n",
            " |  \n",
            " |  __pow__(self, value, mod=None, /)\n",
            " |      Return pow(self, value, mod).\n",
            " |  \n",
            " |  __radd__(self, value, /)\n",
            " |      Return value+self.\n",
            " |  \n",
            " |  __rand__(self, value, /)\n",
            " |      Return value&self.\n",
            " |  \n",
            " |  __rdivmod__(self, value, /)\n",
            " |      Return divmod(value, self).\n",
            " |  \n",
            " |  __repr__(self, /)\n",
            " |      Return repr(self).\n",
            " |  \n",
            " |  __rfloordiv__(self, value, /)\n",
            " |      Return value//self.\n",
            " |  \n",
            " |  __rlshift__(self, value, /)\n",
            " |      Return value<<self.\n",
            " |  \n",
            " |  __rmod__(self, value, /)\n",
            " |      Return value%self.\n",
            " |  \n",
            " |  __rmul__(self, value, /)\n",
            " |      Return value*self.\n",
            " |  \n",
            " |  __ror__(self, value, /)\n",
            " |      Return value|self.\n",
            " |  \n",
            " |  __round__(...)\n",
            " |      Rounding an Integral returns itself.\n",
            " |      Rounding with an ndigits argument also returns an integer.\n",
            " |  \n",
            " |  __rpow__(self, value, mod=None, /)\n",
            " |      Return pow(value, self, mod).\n",
            " |  \n",
            " |  __rrshift__(self, value, /)\n",
            " |      Return value>>self.\n",
            " |  \n",
            " |  __rshift__(self, value, /)\n",
            " |      Return self>>value.\n",
            " |  \n",
            " |  __rsub__(self, value, /)\n",
            " |      Return value-self.\n",
            " |  \n",
            " |  __rtruediv__(self, value, /)\n",
            " |      Return value/self.\n",
            " |  \n",
            " |  __rxor__(self, value, /)\n",
            " |      Return value^self.\n",
            " |  \n",
            " |  __sizeof__(self, /)\n",
            " |      Returns size in memory, in bytes.\n",
            " |  \n",
            " |  __str__(self, /)\n",
            " |      Return str(self).\n",
            " |  \n",
            " |  __sub__(self, value, /)\n",
            " |      Return self-value.\n",
            " |  \n",
            " |  __truediv__(self, value, /)\n",
            " |      Return self/value.\n",
            " |  \n",
            " |  __trunc__(...)\n",
            " |      Truncating an Integral returns itself.\n",
            " |  \n",
            " |  __xor__(self, value, /)\n",
            " |      Return self^value.\n",
            " |  \n",
            " |  bit_length(self, /)\n",
            " |      Number of bits necessary to represent self in binary.\n",
            " |      \n",
            " |      >>> bin(37)\n",
            " |      '0b100101'\n",
            " |      >>> (37).bit_length()\n",
            " |      6\n",
            " |  \n",
            " |  conjugate(...)\n",
            " |      Returns self, the complex conjugate of any int.\n",
            " |  \n",
            " |  to_bytes(self, /, length, byteorder, *, signed=False)\n",
            " |      Return an array of bytes representing an integer.\n",
            " |      \n",
            " |      length\n",
            " |        Length of bytes object to use.  An OverflowError is raised if the\n",
            " |        integer is not representable with the given number of bytes.\n",
            " |      byteorder\n",
            " |        The byte order used to represent the integer.  If byteorder is 'big',\n",
            " |        the most significant byte is at the beginning of the byte array.  If\n",
            " |        byteorder is 'little', the most significant byte is at the end of the\n",
            " |        byte array.  To request the native byte order of the host system, use\n",
            " |        `sys.byteorder' as the byte order value.\n",
            " |      signed\n",
            " |        Determines whether two's complement is used to represent the integer.\n",
            " |        If signed is False and a negative integer is given, an OverflowError\n",
            " |        is raised.\n",
            " |  \n",
            " |  ----------------------------------------------------------------------\n",
            " |  Class methods defined here:\n",
            " |  \n",
            " |  from_bytes(bytes, byteorder, *, signed=False) from builtins.type\n",
            " |      Return the integer represented by the given array of bytes.\n",
            " |      \n",
            " |      bytes\n",
            " |        Holds the array of bytes to convert.  The argument must either\n",
            " |        support the buffer protocol or be an iterable object producing bytes.\n",
            " |        Bytes and bytearray are examples of built-in objects that support the\n",
            " |        buffer protocol.\n",
            " |      byteorder\n",
            " |        The byte order used to represent the integer.  If byteorder is 'big',\n",
            " |        the most significant byte is at the beginning of the byte array.  If\n",
            " |        byteorder is 'little', the most significant byte is at the end of the\n",
            " |        byte array.  To request the native byte order of the host system, use\n",
            " |        `sys.byteorder' as the byte order value.\n",
            " |      signed\n",
            " |        Indicates whether two's complement is used to represent the integer.\n",
            " |  \n",
            " |  ----------------------------------------------------------------------\n",
            " |  Static methods defined here:\n",
            " |  \n",
            " |  __new__(*args, **kwargs) from builtins.type\n",
            " |      Create and return a new object.  See help(type) for accurate signature.\n",
            " |  \n",
            " |  ----------------------------------------------------------------------\n",
            " |  Data descriptors defined here:\n",
            " |  \n",
            " |  denominator\n",
            " |      the denominator of a rational number in lowest terms\n",
            " |  \n",
            " |  imag\n",
            " |      the imaginary part of a complex number\n",
            " |  \n",
            " |  numerator\n",
            " |      the numerator of a rational number in lowest terms\n",
            " |  \n",
            " |  real\n",
            " |      the real part of a complex number\n",
            "\n"
          ]
        }
      ],
      "source": [
        "help(290)"
      ]
    },
    {
      "cell_type": "code",
      "execution_count": null,
      "metadata": {
        "colab": {
          "base_uri": "https://localhost:8080/"
        },
        "id": "_V_3kE5pIoNj",
        "outputId": "37ebc1b1-89b5-4b33-d784-84f6642f391a"
      },
      "outputs": [
        {
          "output_type": "stream",
          "name": "stdout",
          "text": [
            "Help on class int in module builtins:\n",
            "\n",
            "class int(object)\n",
            " |  int([x]) -> integer\n",
            " |  int(x, base=10) -> integer\n",
            " |  \n",
            " |  Convert a number or string to an integer, or return 0 if no arguments\n",
            " |  are given.  If x is a number, return x.__int__().  For floating point\n",
            " |  numbers, this truncates towards zero.\n",
            " |  \n",
            " |  If x is not a number or if base is given, then x must be a string,\n",
            " |  bytes, or bytearray instance representing an integer literal in the\n",
            " |  given base.  The literal can be preceded by '+' or '-' and be surrounded\n",
            " |  by whitespace.  The base defaults to 10.  Valid bases are 0 and 2-36.\n",
            " |  Base 0 means to interpret the base from the string as an integer literal.\n",
            " |  >>> int('0b100', base=0)\n",
            " |  4\n",
            " |  \n",
            " |  Methods defined here:\n",
            " |  \n",
            " |  __abs__(self, /)\n",
            " |      abs(self)\n",
            " |  \n",
            " |  __add__(self, value, /)\n",
            " |      Return self+value.\n",
            " |  \n",
            " |  __and__(self, value, /)\n",
            " |      Return self&value.\n",
            " |  \n",
            " |  __bool__(self, /)\n",
            " |      self != 0\n",
            " |  \n",
            " |  __ceil__(...)\n",
            " |      Ceiling of an Integral returns itself.\n",
            " |  \n",
            " |  __divmod__(self, value, /)\n",
            " |      Return divmod(self, value).\n",
            " |  \n",
            " |  __eq__(self, value, /)\n",
            " |      Return self==value.\n",
            " |  \n",
            " |  __float__(self, /)\n",
            " |      float(self)\n",
            " |  \n",
            " |  __floor__(...)\n",
            " |      Flooring an Integral returns itself.\n",
            " |  \n",
            " |  __floordiv__(self, value, /)\n",
            " |      Return self//value.\n",
            " |  \n",
            " |  __format__(self, format_spec, /)\n",
            " |      Default object formatter.\n",
            " |  \n",
            " |  __ge__(self, value, /)\n",
            " |      Return self>=value.\n",
            " |  \n",
            " |  __getattribute__(self, name, /)\n",
            " |      Return getattr(self, name).\n",
            " |  \n",
            " |  __getnewargs__(self, /)\n",
            " |  \n",
            " |  __gt__(self, value, /)\n",
            " |      Return self>value.\n",
            " |  \n",
            " |  __hash__(self, /)\n",
            " |      Return hash(self).\n",
            " |  \n",
            " |  __index__(self, /)\n",
            " |      Return self converted to an integer, if self is suitable for use as an index into a list.\n",
            " |  \n",
            " |  __int__(self, /)\n",
            " |      int(self)\n",
            " |  \n",
            " |  __invert__(self, /)\n",
            " |      ~self\n",
            " |  \n",
            " |  __le__(self, value, /)\n",
            " |      Return self<=value.\n",
            " |  \n",
            " |  __lshift__(self, value, /)\n",
            " |      Return self<<value.\n",
            " |  \n",
            " |  __lt__(self, value, /)\n",
            " |      Return self<value.\n",
            " |  \n",
            " |  __mod__(self, value, /)\n",
            " |      Return self%value.\n",
            " |  \n",
            " |  __mul__(self, value, /)\n",
            " |      Return self*value.\n",
            " |  \n",
            " |  __ne__(self, value, /)\n",
            " |      Return self!=value.\n",
            " |  \n",
            " |  __neg__(self, /)\n",
            " |      -self\n",
            " |  \n",
            " |  __or__(self, value, /)\n",
            " |      Return self|value.\n",
            " |  \n",
            " |  __pos__(self, /)\n",
            " |      +self\n",
            " |  \n",
            " |  __pow__(self, value, mod=None, /)\n",
            " |      Return pow(self, value, mod).\n",
            " |  \n",
            " |  __radd__(self, value, /)\n",
            " |      Return value+self.\n",
            " |  \n",
            " |  __rand__(self, value, /)\n",
            " |      Return value&self.\n",
            " |  \n",
            " |  __rdivmod__(self, value, /)\n",
            " |      Return divmod(value, self).\n",
            " |  \n",
            " |  __repr__(self, /)\n",
            " |      Return repr(self).\n",
            " |  \n",
            " |  __rfloordiv__(self, value, /)\n",
            " |      Return value//self.\n",
            " |  \n",
            " |  __rlshift__(self, value, /)\n",
            " |      Return value<<self.\n",
            " |  \n",
            " |  __rmod__(self, value, /)\n",
            " |      Return value%self.\n",
            " |  \n",
            " |  __rmul__(self, value, /)\n",
            " |      Return value*self.\n",
            " |  \n",
            " |  __ror__(self, value, /)\n",
            " |      Return value|self.\n",
            " |  \n",
            " |  __round__(...)\n",
            " |      Rounding an Integral returns itself.\n",
            " |      Rounding with an ndigits argument also returns an integer.\n",
            " |  \n",
            " |  __rpow__(self, value, mod=None, /)\n",
            " |      Return pow(value, self, mod).\n",
            " |  \n",
            " |  __rrshift__(self, value, /)\n",
            " |      Return value>>self.\n",
            " |  \n",
            " |  __rshift__(self, value, /)\n",
            " |      Return self>>value.\n",
            " |  \n",
            " |  __rsub__(self, value, /)\n",
            " |      Return value-self.\n",
            " |  \n",
            " |  __rtruediv__(self, value, /)\n",
            " |      Return value/self.\n",
            " |  \n",
            " |  __rxor__(self, value, /)\n",
            " |      Return value^self.\n",
            " |  \n",
            " |  __sizeof__(self, /)\n",
            " |      Returns size in memory, in bytes.\n",
            " |  \n",
            " |  __str__(self, /)\n",
            " |      Return str(self).\n",
            " |  \n",
            " |  __sub__(self, value, /)\n",
            " |      Return self-value.\n",
            " |  \n",
            " |  __truediv__(self, value, /)\n",
            " |      Return self/value.\n",
            " |  \n",
            " |  __trunc__(...)\n",
            " |      Truncating an Integral returns itself.\n",
            " |  \n",
            " |  __xor__(self, value, /)\n",
            " |      Return self^value.\n",
            " |  \n",
            " |  bit_length(self, /)\n",
            " |      Number of bits necessary to represent self in binary.\n",
            " |      \n",
            " |      >>> bin(37)\n",
            " |      '0b100101'\n",
            " |      >>> (37).bit_length()\n",
            " |      6\n",
            " |  \n",
            " |  conjugate(...)\n",
            " |      Returns self, the complex conjugate of any int.\n",
            " |  \n",
            " |  to_bytes(self, /, length, byteorder, *, signed=False)\n",
            " |      Return an array of bytes representing an integer.\n",
            " |      \n",
            " |      length\n",
            " |        Length of bytes object to use.  An OverflowError is raised if the\n",
            " |        integer is not representable with the given number of bytes.\n",
            " |      byteorder\n",
            " |        The byte order used to represent the integer.  If byteorder is 'big',\n",
            " |        the most significant byte is at the beginning of the byte array.  If\n",
            " |        byteorder is 'little', the most significant byte is at the end of the\n",
            " |        byte array.  To request the native byte order of the host system, use\n",
            " |        `sys.byteorder' as the byte order value.\n",
            " |      signed\n",
            " |        Determines whether two's complement is used to represent the integer.\n",
            " |        If signed is False and a negative integer is given, an OverflowError\n",
            " |        is raised.\n",
            " |  \n",
            " |  ----------------------------------------------------------------------\n",
            " |  Class methods defined here:\n",
            " |  \n",
            " |  from_bytes(bytes, byteorder, *, signed=False) from builtins.type\n",
            " |      Return the integer represented by the given array of bytes.\n",
            " |      \n",
            " |      bytes\n",
            " |        Holds the array of bytes to convert.  The argument must either\n",
            " |        support the buffer protocol or be an iterable object producing bytes.\n",
            " |        Bytes and bytearray are examples of built-in objects that support the\n",
            " |        buffer protocol.\n",
            " |      byteorder\n",
            " |        The byte order used to represent the integer.  If byteorder is 'big',\n",
            " |        the most significant byte is at the beginning of the byte array.  If\n",
            " |        byteorder is 'little', the most significant byte is at the end of the\n",
            " |        byte array.  To request the native byte order of the host system, use\n",
            " |        `sys.byteorder' as the byte order value.\n",
            " |      signed\n",
            " |        Indicates whether two's complement is used to represent the integer.\n",
            " |  \n",
            " |  ----------------------------------------------------------------------\n",
            " |  Static methods defined here:\n",
            " |  \n",
            " |  __new__(*args, **kwargs) from builtins.type\n",
            " |      Create and return a new object.  See help(type) for accurate signature.\n",
            " |  \n",
            " |  ----------------------------------------------------------------------\n",
            " |  Data descriptors defined here:\n",
            " |  \n",
            " |  denominator\n",
            " |      the denominator of a rational number in lowest terms\n",
            " |  \n",
            " |  imag\n",
            " |      the imaginary part of a complex number\n",
            " |  \n",
            " |  numerator\n",
            " |      the numerator of a rational number in lowest terms\n",
            " |  \n",
            " |  real\n",
            " |      the real part of a complex number\n",
            "\n"
          ]
        }
      ],
      "source": [
        "help(int) # or help(int())"
      ]
    },
    {
      "cell_type": "code",
      "execution_count": null,
      "metadata": {
        "colab": {
          "base_uri": "https://localhost:8080/"
        },
        "id": "0qF-TpeBIR_Y",
        "outputId": "5b1abcaa-59fe-4731-91c0-d3a32209f744"
      },
      "outputs": [
        {
          "output_type": "stream",
          "name": "stdout",
          "text": [
            "Help on class type in module builtins:\n",
            "\n",
            "class type(object)\n",
            " |  type(object_or_name, bases, dict)\n",
            " |  type(object) -> the object's type\n",
            " |  type(name, bases, dict) -> a new type\n",
            " |  \n",
            " |  Methods defined here:\n",
            " |  \n",
            " |  __call__(self, /, *args, **kwargs)\n",
            " |      Call self as a function.\n",
            " |  \n",
            " |  __delattr__(self, name, /)\n",
            " |      Implement delattr(self, name).\n",
            " |  \n",
            " |  __dir__(self, /)\n",
            " |      Specialized __dir__ implementation for types.\n",
            " |  \n",
            " |  __getattribute__(self, name, /)\n",
            " |      Return getattr(self, name).\n",
            " |  \n",
            " |  __init__(self, /, *args, **kwargs)\n",
            " |      Initialize self.  See help(type(self)) for accurate signature.\n",
            " |  \n",
            " |  __instancecheck__(self, instance, /)\n",
            " |      Check if an object is an instance.\n",
            " |  \n",
            " |  __repr__(self, /)\n",
            " |      Return repr(self).\n",
            " |  \n",
            " |  __setattr__(self, name, value, /)\n",
            " |      Implement setattr(self, name, value).\n",
            " |  \n",
            " |  __sizeof__(self, /)\n",
            " |      Return memory consumption of the type object.\n",
            " |  \n",
            " |  __subclasscheck__(self, subclass, /)\n",
            " |      Check if a class is a subclass.\n",
            " |  \n",
            " |  __subclasses__(self, /)\n",
            " |      Return a list of immediate subclasses.\n",
            " |  \n",
            " |  mro(self, /)\n",
            " |      Return a type's method resolution order.\n",
            " |  \n",
            " |  ----------------------------------------------------------------------\n",
            " |  Class methods defined here:\n",
            " |  \n",
            " |  __prepare__(...)\n",
            " |      __prepare__() -> dict\n",
            " |      used to create the namespace for the class statement\n",
            " |  \n",
            " |  ----------------------------------------------------------------------\n",
            " |  Static methods defined here:\n",
            " |  \n",
            " |  __new__(*args, **kwargs)\n",
            " |      Create and return a new object.  See help(type) for accurate signature.\n",
            " |  \n",
            " |  ----------------------------------------------------------------------\n",
            " |  Data descriptors defined here:\n",
            " |  \n",
            " |  __abstractmethods__\n",
            " |  \n",
            " |  __dict__\n",
            " |  \n",
            " |  __text_signature__\n",
            " |  \n",
            " |  ----------------------------------------------------------------------\n",
            " |  Data and other attributes defined here:\n",
            " |  \n",
            " |  __base__ = <class 'object'>\n",
            " |      The most base type\n",
            " |  \n",
            " |  __bases__ = (<class 'object'>,)\n",
            " |  \n",
            " |  __basicsize__ = 864\n",
            " |  \n",
            " |  __dictoffset__ = 264\n",
            " |  \n",
            " |  __flags__ = 2148291584\n",
            " |  \n",
            " |  __itemsize__ = 40\n",
            " |  \n",
            " |  __mro__ = (<class 'type'>, <class 'object'>)\n",
            " |  \n",
            " |  __weakrefoffset__ = 368\n",
            "\n"
          ]
        }
      ],
      "source": [
        "help(type(int))"
      ]
    },
    {
      "cell_type": "markdown",
      "metadata": {
        "id": "y8ZdMGADJlFv"
      },
      "source": [
        "However, as Python beginners, you will likely find a lot of confusing information in the output, so alternative ways of searching for help can be more useful.\n",
        "\n",
        "Whenever you have doubts about something you want to do with Python, or if you don't understand codes written somewhere on the internet, you will probably Google it:\n",
        "\n",
        "For example, let's try \"how to define variable python\".\n",
        "\n",
        "One of the first results will show a [Stack Overflow page on \"python-variable-declaration\"](https://stackoverflow.com/questions/11007627/python-variable-declaration). Stack Overflow is a largely known forum for asking programming-related questions, and, being Python one of the most popular languages out there, chances are high your question was already asked and answered by some other people.\n",
        "\n",
        "There are many other useful resources as results in the same Google search. Here are only some examples:\n",
        " * [Software Carpentry](https://software-carpentry.org/lessons/index.html)\n",
        " * [w3schools](https://www.w3schools.com)\n",
        " * [Tutorials Point](https://www.tutorialspoint.com)\n",
        " * [Guru99](https://www.guru99.com)\n",
        " * [Learn Python](https://www.learnpython.org)\n",
        "\n",
        "It is also important to remember that detailed and consistent information about every aspect of Python programming (data strctures, statements, etc.) will be available in the [official Python documentation](https://docs.python.org/3/)."
      ]
    },
    {
      "cell_type": "markdown",
      "metadata": {
        "id": "i0LWaB5O0Pvk"
      },
      "source": [
        "#### Strings in Python\n",
        "\n",
        "The \"pieces of text\" we are often using in our code are usually called **strings** in the programming realm, since they are understood as sequences (or strings) of characters.\n",
        "\n",
        "We can define a string in Python using either a single (`'`) or a double quotation mark (`\"`):"
      ]
    },
    {
      "cell_type": "code",
      "execution_count": null,
      "metadata": {
        "id": "hQFFf0FH0Pvl"
      },
      "outputs": [],
      "source": [
        "virus_acronym = \"SARS-CoV-2\"  # Correct\n",
        "virus_acronym = 'SARS-CoV-2'  # Correct"
      ]
    },
    {
      "cell_type": "markdown",
      "metadata": {
        "id": "jqRGQenG0Pvl"
      },
      "source": [
        "Nevertheless, note that using both single and double quotation marks at the same time is not possible:"
      ]
    },
    {
      "cell_type": "code",
      "execution_count": null,
      "metadata": {
        "colab": {
          "base_uri": "https://localhost:8080/",
          "height": 133
        },
        "id": "udCQpAEC0Pvl",
        "outputId": "ca4421c7-2af1-442e-dee9-b49abed4cea6"
      },
      "outputs": [
        {
          "output_type": "error",
          "ename": "SyntaxError",
          "evalue": "ignored",
          "traceback": [
            "\u001b[0;36m  File \u001b[0;32m\"<ipython-input-29-b5838f47dcc7>\"\u001b[0;36m, line \u001b[0;32m1\u001b[0m\n\u001b[0;31m    virus_acronym = \"SARS-CoV-2'\u001b[0m\n\u001b[0m                                ^\u001b[0m\n\u001b[0;31mSyntaxError\u001b[0m\u001b[0;31m:\u001b[0m EOL while scanning string literal\n"
          ]
        }
      ],
      "source": [
        "virus_acronym = \"SARS-CoV-2'"
      ]
    },
    {
      "cell_type": "markdown",
      "metadata": {
        "id": "YTYATrY90Pvm"
      },
      "source": [
        "The main reason for both cases being possible is that sometimes we want to use quotes within a string:"
      ]
    },
    {
      "cell_type": "code",
      "execution_count": null,
      "metadata": {
        "id": "-8EoNbqV0Pvm"
      },
      "outputs": [],
      "source": [
        "dna_synthesis_direction = \"5'-AGATGTA-3'\""
      ]
    },
    {
      "cell_type": "markdown",
      "metadata": {
        "id": "HjVHLQuQ0Pvm"
      },
      "source": [
        "Let's check the type of this variable:"
      ]
    },
    {
      "cell_type": "code",
      "execution_count": null,
      "metadata": {
        "colab": {
          "base_uri": "https://localhost:8080/",
          "height": 35
        },
        "id": "pAtI4CJb0Pvn",
        "outputId": "07c55995-831f-426f-c59d-397cf6de104c"
      },
      "outputs": [
        {
          "output_type": "execute_result",
          "data": {
            "text/plain": [
              "\"5'-AGATGTA-3'\""
            ],
            "application/vnd.google.colaboratory.intrinsic+json": {
              "type": "string"
            }
          },
          "metadata": {},
          "execution_count": 31
        }
      ],
      "source": [
        "dna_synthesis_direction"
      ]
    },
    {
      "cell_type": "code",
      "execution_count": null,
      "metadata": {
        "colab": {
          "base_uri": "https://localhost:8080/"
        },
        "id": "u8V6EtX30Pvn",
        "outputId": "17282509-939c-4bc4-8404-c80bfbede54d"
      },
      "outputs": [
        {
          "output_type": "execute_result",
          "data": {
            "text/plain": [
              "str"
            ]
          },
          "metadata": {},
          "execution_count": 32
        }
      ],
      "source": [
        "type(dna_synthesis_direction)"
      ]
    },
    {
      "cell_type": "markdown",
      "metadata": {
        "id": "bEyIubD40Pvn"
      },
      "source": [
        "`str` not only indicates that the variable is pointing to a string, but it also can work as a function that converts an object from one type to a string. Let's convert an integer variable to a string:"
      ]
    },
    {
      "cell_type": "code",
      "execution_count": null,
      "metadata": {
        "colab": {
          "base_uri": "https://localhost:8080/"
        },
        "id": "Nh6NaRcu0Pvo",
        "outputId": "9a46b32c-8950-4f15-da3d-288a0d3ffaca"
      },
      "outputs": [
        {
          "output_type": "execute_result",
          "data": {
            "text/plain": [
              "int"
            ]
          },
          "metadata": {},
          "execution_count": 33
        }
      ],
      "source": [
        "ORF3a_start_position = 25393\n",
        "type(ORF3a_start_position)"
      ]
    },
    {
      "cell_type": "code",
      "execution_count": null,
      "metadata": {
        "colab": {
          "base_uri": "https://localhost:8080/",
          "height": 35
        },
        "id": "c_qjSU1I0Pvo",
        "outputId": "c8441566-3c06-4e49-e561-a4a84b99cdd7"
      },
      "outputs": [
        {
          "output_type": "execute_result",
          "data": {
            "text/plain": [
              "'25393'"
            ],
            "application/vnd.google.colaboratory.intrinsic+json": {
              "type": "string"
            }
          },
          "metadata": {},
          "execution_count": 34
        }
      ],
      "source": [
        "str(ORF3a_start_position)"
      ]
    },
    {
      "cell_type": "code",
      "execution_count": null,
      "metadata": {
        "colab": {
          "base_uri": "https://localhost:8080/"
        },
        "id": "SMOHfFcxWqPa",
        "outputId": "cd1f8083-30f2-4215-87c4-968e75a71b59"
      },
      "outputs": [
        {
          "output_type": "execute_result",
          "data": {
            "text/plain": [
              "str"
            ]
          },
          "metadata": {},
          "execution_count": 35
        }
      ],
      "source": [
        "ORF3a_start_position_as_text = str(ORF3a_start_position)\n",
        "type(ORF3a_start_position_as_text)"
      ]
    },
    {
      "cell_type": "markdown",
      "metadata": {
        "id": "fZbqHbjwtwe9"
      },
      "source": [
        "> **NOTE**: Strings represent textual information in programming languages."
      ]
    },
    {
      "cell_type": "markdown",
      "metadata": {
        "id": "-d6heg8ukww1"
      },
      "source": [
        "Several operations can be carried out with strings. Let's see some examples.\n",
        "\n",
        "As we said previously, elements in strings are ordered and can be accessed using indices:"
      ]
    },
    {
      "cell_type": "code",
      "execution_count": 3,
      "metadata": {
        "id": "iBsYT_LwOkgB"
      },
      "outputs": [],
      "source": [
        "virus_strain = \"respiratory syndrome coronavirus 2\""
      ]
    },
    {
      "cell_type": "code",
      "execution_count": null,
      "metadata": {
        "colab": {
          "base_uri": "https://localhost:8080/",
          "height": 35
        },
        "id": "Yvr8sPqzktRY",
        "outputId": "8be65ce2-3d74-4379-fe7c-96ed9974852b"
      },
      "outputs": [
        {
          "output_type": "execute_result",
          "data": {
            "text/plain": [
              "'r'"
            ],
            "application/vnd.google.colaboratory.intrinsic+json": {
              "type": "string"
            }
          },
          "metadata": {},
          "execution_count": 37
        }
      ],
      "source": [
        "virus_strain[0]  # In Python, indexing starts in zero"
      ]
    },
    {
      "cell_type": "markdown",
      "metadata": {
        "id": "qYAiGPPMlYRj"
      },
      "source": [
        "We can also extract substrings from our original string. This is the basic syntax:"
      ]
    },
    {
      "cell_type": "code",
      "execution_count": null,
      "metadata": {
        "colab": {
          "base_uri": "https://localhost:8080/",
          "height": 35
        },
        "id": "_-HhQ2kcpAv8",
        "outputId": "b855ea61-7f09-4fde-d029-64e2afa4c840"
      },
      "outputs": [
        {
          "output_type": "execute_result",
          "data": {
            "text/plain": [
              "'respi'"
            ],
            "application/vnd.google.colaboratory.intrinsic+json": {
              "type": "string"
            }
          },
          "metadata": {},
          "execution_count": 38
        }
      ],
      "source": [
        "virus_strain[0:5]  # 'respiratory syndrome coronavirus 2'"
      ]
    },
    {
      "cell_type": "markdown",
      "metadata": {
        "id": "mJbq9JFupJCK"
      },
      "source": [
        "Note that the initial value is inclusive (`index 0` or 'r') and the stop value is exclusive (`index 5` in this string is 'r').\n",
        "\n",
        "Let's see what happens if we leave the first or the last element blank:"
      ]
    },
    {
      "cell_type": "code",
      "execution_count": null,
      "metadata": {
        "colab": {
          "base_uri": "https://localhost:8080/",
          "height": 35
        },
        "id": "9f1b1V4-p7oG",
        "outputId": "90a64201-f237-4a3c-ad45-de1dfbea809f"
      },
      "outputs": [
        {
          "output_type": "execute_result",
          "data": {
            "text/plain": [
              "'ratory syndrome coronavirus 2'"
            ],
            "application/vnd.google.colaboratory.intrinsic+json": {
              "type": "string"
            }
          },
          "metadata": {},
          "execution_count": 39
        }
      ],
      "source": [
        "virus_strain[5:]"
      ]
    },
    {
      "cell_type": "code",
      "execution_count": null,
      "metadata": {
        "colab": {
          "base_uri": "https://localhost:8080/",
          "height": 35
        },
        "id": "B7l7OqMAqETv",
        "outputId": "5214f6a5-b5b1-4e8e-f6d5-ddfd5214f764"
      },
      "outputs": [
        {
          "output_type": "execute_result",
          "data": {
            "text/plain": [
              "'respi'"
            ],
            "application/vnd.google.colaboratory.intrinsic+json": {
              "type": "string"
            }
          },
          "metadata": {},
          "execution_count": 40
        }
      ],
      "source": [
        "virus_strain[:5]"
      ]
    },
    {
      "cell_type": "markdown",
      "metadata": {
        "id": "8kcNjwsxqgPT"
      },
      "source": [
        "Notice that rules regarding `inclusive` and `exclusive` positions are maintained."
      ]
    },
    {
      "cell_type": "markdown",
      "metadata": {
        "id": "sRNtFJXrp8dn"
      },
      "source": [
        "Additionally, a third argument can be used to indicate steps:"
      ]
    },
    {
      "cell_type": "code",
      "execution_count": null,
      "metadata": {
        "colab": {
          "base_uri": "https://localhost:8080/",
          "height": 35
        },
        "id": "cpYPg7tAlWPJ",
        "outputId": "c31ddd07-c9a1-4a72-aaef-edf6762c3794"
      },
      "outputs": [
        {
          "output_type": "execute_result",
          "data": {
            "text/plain": [
              "'rsi'"
            ],
            "application/vnd.google.colaboratory.intrinsic+json": {
              "type": "string"
            }
          },
          "metadata": {},
          "execution_count": 41
        }
      ],
      "source": [
        "# virus_strain[From:To:Step]\n",
        "virus_strain[0:5:2]  # 'respiratory syndrome coronavirus 2'"
      ]
    },
    {
      "cell_type": "markdown",
      "metadata": {
        "id": "F1tWvVaFo8ij"
      },
      "source": [
        "Some operations can be used with strings as we saw previously for integers and floats. Let's suppose we want to add an acronym to our string.\n",
        "\n",
        "Creating a new string:"
      ]
    },
    {
      "cell_type": "code",
      "execution_count": 2,
      "metadata": {
        "id": "RIAXQuT2j8Ke"
      },
      "outputs": [],
      "source": [
        "virus_strain_acronym = \"(SARS-CoV-2)\""
      ]
    },
    {
      "cell_type": "markdown",
      "metadata": {
        "id": "1VYwd0fcrBLr"
      },
      "source": [
        "We can concatenate these variables to create a new string:"
      ]
    },
    {
      "cell_type": "code",
      "execution_count": null,
      "metadata": {
        "colab": {
          "base_uri": "https://localhost:8080/",
          "height": 35
        },
        "id": "cZzOxp2rrAKS",
        "outputId": "3216b83b-b8b1-4c47-fbae-b173a039bf6b"
      },
      "outputs": [
        {
          "output_type": "execute_result",
          "data": {
            "text/plain": [
              "'respiratory syndrome coronavirus 2(SARS-CoV-2)'"
            ],
            "application/vnd.google.colaboratory.intrinsic+json": {
              "type": "string"
            }
          },
          "metadata": {},
          "execution_count": 43
        }
      ],
      "source": [
        "virus_strain + virus_strain_acronym"
      ]
    },
    {
      "cell_type": "markdown",
      "metadata": {
        "id": "oPO5r9gfrvme"
      },
      "source": [
        "An important consideration is that strings are not mutable, so we do not expect this operation to change anything in the original strings (`virus_strain` and `virus_strain_acronym`)."
      ]
    },
    {
      "cell_type": "code",
      "execution_count": null,
      "metadata": {
        "colab": {
          "base_uri": "https://localhost:8080/",
          "height": 35
        },
        "id": "qhGdzrxqrJz9",
        "outputId": "901d782f-0fbc-483c-ef4b-b2a75f903812"
      },
      "outputs": [
        {
          "output_type": "execute_result",
          "data": {
            "text/plain": [
              "'respiratory syndrome coronavirus 2'"
            ],
            "application/vnd.google.colaboratory.intrinsic+json": {
              "type": "string"
            }
          },
          "metadata": {},
          "execution_count": 44
        }
      ],
      "source": [
        "virus_strain"
      ]
    },
    {
      "cell_type": "code",
      "execution_count": null,
      "metadata": {
        "colab": {
          "base_uri": "https://localhost:8080/",
          "height": 35
        },
        "id": "Dg4ZMVMZrLhi",
        "outputId": "c1628b3c-a920-4e40-f8d2-c7dd24edc875"
      },
      "outputs": [
        {
          "output_type": "execute_result",
          "data": {
            "text/plain": [
              "'(SARS-CoV-2)'"
            ],
            "application/vnd.google.colaboratory.intrinsic+json": {
              "type": "string"
            }
          },
          "metadata": {},
          "execution_count": 45
        }
      ],
      "source": [
        "virus_strain_acronym"
      ]
    },
    {
      "cell_type": "code",
      "execution_count": null,
      "metadata": {
        "id": "e0yotX6XuKLF"
      },
      "outputs": [],
      "source": [
        "full_virus_name = virus_strain + virus_strain_acronym"
      ]
    },
    {
      "cell_type": "code",
      "execution_count": null,
      "metadata": {
        "colab": {
          "base_uri": "https://localhost:8080/",
          "height": 35
        },
        "id": "2Kunr1pDuRE_",
        "outputId": "7cc67dd3-ac98-4985-a1f4-a31999388ac1"
      },
      "outputs": [
        {
          "output_type": "execute_result",
          "data": {
            "text/plain": [
              "'respiratory syndrome coronavirus 2(SARS-CoV-2)'"
            ],
            "application/vnd.google.colaboratory.intrinsic+json": {
              "type": "string"
            }
          },
          "metadata": {},
          "execution_count": 47
        }
      ],
      "source": [
        "full_virus_name"
      ]
    },
    {
      "cell_type": "markdown",
      "metadata": {
        "id": "rdmDLmiCXZ6E"
      },
      "source": [
        "> **NOTE:** Strings are immutable!"
      ]
    },
    {
      "cell_type": "markdown",
      "metadata": {
        "id": "izfOqV-yuKAJ"
      },
      "source": [
        "We could save this string to a new variable (`full_virus_name`, let's say) if we want to use it later:"
      ]
    },
    {
      "cell_type": "markdown",
      "metadata": {
        "id": "NeLFevBZuhri"
      },
      "source": [
        "Whitespaces are also considered characters in strings. We can fix it:"
      ]
    },
    {
      "cell_type": "code",
      "execution_count": null,
      "metadata": {
        "id": "6teZZOM_uoA5"
      },
      "outputs": [],
      "source": [
        "full_virus_name = virus_strain + \" \" + virus_strain_acronym"
      ]
    },
    {
      "cell_type": "code",
      "execution_count": null,
      "metadata": {
        "colab": {
          "base_uri": "https://localhost:8080/",
          "height": 35
        },
        "id": "gMijLhDOuqa-",
        "outputId": "5e4dbfaa-e883-4750-885f-65ad3c2b4d12"
      },
      "outputs": [
        {
          "output_type": "execute_result",
          "data": {
            "text/plain": [
              "'respiratory syndrome coronavirus 2 (SARS-CoV-2)'"
            ],
            "application/vnd.google.colaboratory.intrinsic+json": {
              "type": "string"
            }
          },
          "metadata": {},
          "execution_count": 49
        }
      ],
      "source": [
        "full_virus_name"
      ]
    },
    {
      "cell_type": "markdown",
      "metadata": {
        "id": "sZWaAQawr9iC"
      },
      "source": [
        "Similarly, it is not possible to change a given character in a string:"
      ]
    },
    {
      "cell_type": "code",
      "execution_count": null,
      "metadata": {
        "colab": {
          "base_uri": "https://localhost:8080/",
          "height": 35
        },
        "id": "ahYhoClIr-Gd",
        "outputId": "c7a52c07-b62e-434b-9e17-7990e84bd3dd"
      },
      "outputs": [
        {
          "output_type": "execute_result",
          "data": {
            "text/plain": [
              "'r'"
            ],
            "application/vnd.google.colaboratory.intrinsic+json": {
              "type": "string"
            }
          },
          "metadata": {},
          "execution_count": 50
        }
      ],
      "source": [
        "virus_strain[0]"
      ]
    },
    {
      "cell_type": "code",
      "execution_count": null,
      "metadata": {
        "colab": {
          "base_uri": "https://localhost:8080/",
          "height": 169
        },
        "id": "zjMP6B12sEhH",
        "outputId": "f776927a-a94d-4013-9884-f6fcbe90f1c0"
      },
      "outputs": [
        {
          "output_type": "error",
          "ename": "TypeError",
          "evalue": "ignored",
          "traceback": [
            "\u001b[0;31m---------------------------------------------------------------------------\u001b[0m",
            "\u001b[0;31mTypeError\u001b[0m                                 Traceback (most recent call last)",
            "\u001b[0;32m<ipython-input-51-b74ecbb0d807>\u001b[0m in \u001b[0;36m<module>\u001b[0;34m()\u001b[0m\n\u001b[0;32m----> 1\u001b[0;31m \u001b[0mvirus_strain\u001b[0m\u001b[0;34m[\u001b[0m\u001b[0;36m0\u001b[0m\u001b[0;34m]\u001b[0m \u001b[0;34m=\u001b[0m \u001b[0;34m'R'\u001b[0m\u001b[0;34m\u001b[0m\u001b[0;34m\u001b[0m\u001b[0m\n\u001b[0m",
            "\u001b[0;31mTypeError\u001b[0m: 'str' object does not support item assignment"
          ]
        }
      ],
      "source": [
        "virus_strain[0] = 'R'"
      ]
    },
    {
      "cell_type": "code",
      "execution_count": null,
      "metadata": {
        "colab": {
          "base_uri": "https://localhost:8080/",
          "height": 53
        },
        "id": "QP5OVz92tKjR",
        "outputId": "bbe3a6c3-ecdb-4d6b-be32-c8182180dd64"
      },
      "outputs": [
        {
          "output_type": "execute_result",
          "data": {
            "text/plain": [
              "'respiratory syndrome coronavirus 2respiratory syndrome coronavirus 2respiratory syndrome coronavirus 2'"
            ],
            "application/vnd.google.colaboratory.intrinsic+json": {
              "type": "string"
            }
          },
          "metadata": {},
          "execution_count": 52
        }
      ],
      "source": [
        "virus_strain * 3"
      ]
    },
    {
      "cell_type": "markdown",
      "metadata": {
        "id": "xI_QJO2nmocv"
      },
      "source": [
        "Several functions are available to manipulate strings (see the language documentation for [text sequences](https://docs.python.org/3/library/stdtypes.html#string-methods)). Notice that the way we use them is slightly different, with a dot (`.`) separating the function from the target string."
      ]
    },
    {
      "cell_type": "markdown",
      "metadata": {
        "id": "DrOJq9saHA8M"
      },
      "source": [
        "> **Side note:** These functions we use with dots receive a different name - they are called **methods**, as we will better explain tomorrow."
      ]
    },
    {
      "cell_type": "code",
      "execution_count": null,
      "metadata": {
        "colab": {
          "base_uri": "https://localhost:8080/",
          "height": 35
        },
        "id": "eIx6tCGUm_Ze",
        "outputId": "8973ca9f-26e0-4aa9-d883-1735e3d8ab56"
      },
      "outputs": [
        {
          "output_type": "execute_result",
          "data": {
            "text/plain": [
              "'RESPIRATORY SYNDROME CORONAVIRUS 2'"
            ],
            "application/vnd.google.colaboratory.intrinsic+json": {
              "type": "string"
            }
          },
          "metadata": {},
          "execution_count": 53
        }
      ],
      "source": [
        "virus_strain.upper()"
      ]
    },
    {
      "cell_type": "code",
      "execution_count": null,
      "metadata": {
        "colab": {
          "base_uri": "https://localhost:8080/",
          "height": 35
        },
        "id": "MiD-AWDnsK4I",
        "outputId": "1670e21f-fe8e-447b-a8d9-143f532b7e42"
      },
      "outputs": [
        {
          "output_type": "execute_result",
          "data": {
            "text/plain": [
              "'Respiratory syndrome coronavirus 2'"
            ],
            "application/vnd.google.colaboratory.intrinsic+json": {
              "type": "string"
            }
          },
          "metadata": {},
          "execution_count": 54
        }
      ],
      "source": [
        "virus_strain.capitalize()"
      ]
    },
    {
      "cell_type": "markdown",
      "metadata": {
        "id": "trtp09LrsyJi"
      },
      "source": [
        "We have not learned what a list is yet, but here is another option for concatenating our two strings using whitespace as the separator:"
      ]
    },
    {
      "cell_type": "code",
      "execution_count": 5,
      "metadata": {
        "id": "aNpzHiDkskFe",
        "colab": {
          "base_uri": "https://localhost:8080/",
          "height": 35
        },
        "outputId": "dbfeb9f1-7f65-40e7-ec27-dd172624f763"
      },
      "outputs": [
        {
          "output_type": "execute_result",
          "data": {
            "text/plain": [
              "'respiratory syndrome coronavirus 2 (SARS-CoV-2)'"
            ],
            "application/vnd.google.colaboratory.intrinsic+json": {
              "type": "string"
            }
          },
          "metadata": {},
          "execution_count": 5
        }
      ],
      "source": [
        "' '.join([virus_strain, virus_strain_acronym])"
      ]
    },
    {
      "cell_type": "code",
      "execution_count": null,
      "metadata": {
        "id": "lJSFH_dQtARf"
      },
      "outputs": [],
      "source": [
        "full_virus_name = ' '.join([virus_strain, virus_strain_acronym])"
      ]
    },
    {
      "cell_type": "code",
      "execution_count": null,
      "metadata": {
        "colab": {
          "base_uri": "https://localhost:8080/",
          "height": 35
        },
        "id": "uK-dWtlUtBwl",
        "outputId": "441c1c5c-2305-4816-ce50-e4e8a30ca0c7"
      },
      "outputs": [
        {
          "output_type": "execute_result",
          "data": {
            "text/plain": [
              "'respiratory syndrome coronavirus 2 (SARS-CoV-2)'"
            ],
            "application/vnd.google.colaboratory.intrinsic+json": {
              "type": "string"
            }
          },
          "metadata": {},
          "execution_count": 57
        }
      ],
      "source": [
        "full_virus_name"
      ]
    },
    {
      "cell_type": "markdown",
      "metadata": {
        "id": "2DNrednMeblB"
      },
      "source": [
        "#### `print` and some other built-in functions"
      ]
    },
    {
      "cell_type": "markdown",
      "metadata": {
        "id": "rKxAbUKBXs8N"
      },
      "source": [
        "Let's define some variables."
      ]
    },
    {
      "cell_type": "code",
      "execution_count": null,
      "metadata": {
        "id": "fi9-jCL-e8tI"
      },
      "outputs": [],
      "source": [
        "virus1 = 'alpha'\n",
        "virus2 = 'beta'\n",
        "virus3 = 'delta'"
      ]
    },
    {
      "cell_type": "markdown",
      "metadata": {
        "id": "aMSNlcGnfGe2"
      },
      "source": [
        "Now, let's check their values:"
      ]
    },
    {
      "cell_type": "code",
      "execution_count": null,
      "metadata": {
        "colab": {
          "base_uri": "https://localhost:8080/",
          "height": 35
        },
        "id": "NJhfWppwfHZs",
        "outputId": "ea8eabb7-8373-4ecb-9b41-4c075de2a772"
      },
      "outputs": [
        {
          "output_type": "execute_result",
          "data": {
            "text/plain": [
              "'alpha'"
            ],
            "application/vnd.google.colaboratory.intrinsic+json": {
              "type": "string"
            }
          },
          "metadata": {},
          "execution_count": 59
        }
      ],
      "source": [
        "virus1"
      ]
    },
    {
      "cell_type": "markdown",
      "metadata": {
        "id": "1CHICj_cYU0G"
      },
      "source": [
        "Maybe checking two variables in the same cell would be nice, to avoid clicking \"run\" so many times:"
      ]
    },
    {
      "cell_type": "code",
      "execution_count": null,
      "metadata": {
        "colab": {
          "base_uri": "https://localhost:8080/",
          "height": 35
        },
        "id": "fO1mAYaIfI5e",
        "outputId": "3b028c33-d079-4868-87b6-cde5dab2a309"
      },
      "outputs": [
        {
          "output_type": "execute_result",
          "data": {
            "text/plain": [
              "'beta'"
            ],
            "application/vnd.google.colaboratory.intrinsic+json": {
              "type": "string"
            }
          },
          "metadata": {},
          "execution_count": 60
        }
      ],
      "source": [
        "virus1\n",
        "virus2"
      ]
    },
    {
      "cell_type": "markdown",
      "metadata": {
        "id": "lEhaX8PgfPtg"
      },
      "source": [
        "Notice, however, that no more than one value is always printed as the output of a cell. One way to solve this problem is using a function called print."
      ]
    },
    {
      "cell_type": "code",
      "execution_count": null,
      "metadata": {
        "colab": {
          "base_uri": "https://localhost:8080/"
        },
        "id": "TrHCe3dHfXKe",
        "outputId": "95ffed28-9772-408d-a3cb-1affe653d5dd"
      },
      "outputs": [
        {
          "output_type": "stream",
          "name": "stdout",
          "text": [
            "alpha\n",
            "beta\n"
          ]
        }
      ],
      "source": [
        "print(virus1)\n",
        "print(virus2)"
      ]
    },
    {
      "cell_type": "markdown",
      "metadata": {
        "id": "_QTdAFMxZAoJ"
      },
      "source": [
        "`print` can as many values as you want. You should inform them separated with commas, and `print` will output them in the order you specified using a whitespaces as separators."
      ]
    },
    {
      "cell_type": "code",
      "execution_count": null,
      "metadata": {
        "colab": {
          "base_uri": "https://localhost:8080/"
        },
        "id": "zVnZorhyfP33",
        "outputId": "ab84386d-0b35-4279-ce25-ff2cec137781"
      },
      "outputs": [
        {
          "output_type": "stream",
          "name": "stdout",
          "text": [
            "alpha beta\n"
          ]
        }
      ],
      "source": [
        "print(virus1, virus2)"
      ]
    },
    {
      "cell_type": "code",
      "execution_count": null,
      "metadata": {
        "colab": {
          "base_uri": "https://localhost:8080/",
          "height": 35
        },
        "id": "p8cX4Jv2XOf7",
        "outputId": "29c1521e-b788-46c4-d8ae-f5f3037c4dc9"
      },
      "outputs": [
        {
          "output_type": "execute_result",
          "data": {
            "text/plain": [
              "'25393'"
            ],
            "application/vnd.google.colaboratory.intrinsic+json": {
              "type": "string"
            }
          },
          "metadata": {},
          "execution_count": 63
        }
      ],
      "source": [
        "ORF3a_start_position = 25393\n",
        "str(ORF3a_start_position)"
      ]
    },
    {
      "cell_type": "code",
      "execution_count": null,
      "metadata": {
        "colab": {
          "base_uri": "https://localhost:8080/"
        },
        "id": "4MesW4q6lb3q",
        "outputId": "d568fd86-26db-458d-9f74-a29285ab1616"
      },
      "outputs": [
        {
          "output_type": "stream",
          "name": "stdout",
          "text": [
            "ORF3a starts in position 25393 of the SARS-CoV-2 reference genome\n"
          ]
        }
      ],
      "source": [
        "print(\"ORF3a starts in position\", ORF3a_start_position, \"of the SARS-CoV-2 reference genome\")"
      ]
    },
    {
      "cell_type": "markdown",
      "metadata": {
        "id": "N-xitoYsuWRt"
      },
      "source": [
        "\n",
        "> **NOTE**: `print` can be useful to force cells into showing the output we desire."
      ]
    },
    {
      "cell_type": "markdown",
      "metadata": {
        "id": "_KH7Ji9C0Pvp"
      },
      "source": [
        "<div id='m2' />\n",
        "\n",
        "### M2: Logical operations and additional data structures\n",
        "[Back to table of contents](#table-of-contents)\n",
        "\n",
        "**Estimated study load**: 50 minutes\n",
        "\n",
        "**Learning objectives**\n",
        "* Introduce booleans in Python\n",
        "* Introduce sequences and compare lists and tuples with strings\n",
        "* Introduce `for` loops and control structures with `if`\n",
        "* Introduce dictionaries and a comparative analysis between sequence indexing and dictionary keys"
      ]
    },
    {
      "cell_type": "markdown",
      "metadata": {
        "id": "SponwZouSzEE"
      },
      "source": [
        "#### Booleans in Python\n",
        "\n",
        "**Boolean** variables are variables that represent either validity or invalidity of an expression. They hold the information either that something is true, or that something is false. Only these two values are possible, and often will result from logical expressions that we will see ahead. These two possible values are represented in Python by:\n",
        " * `True`\n",
        " * `False`\n"
      ]
    },
    {
      "cell_type": "code",
      "execution_count": null,
      "metadata": {
        "colab": {
          "base_uri": "https://localhost:8080/"
        },
        "id": "wSkVcQGBYEOi",
        "outputId": "5b7505a4-ca2c-4aa4-cdcd-f1c6c2ad3877"
      },
      "outputs": [
        {
          "output_type": "execute_result",
          "data": {
            "text/plain": [
              "False"
            ]
          },
          "metadata": {},
          "execution_count": 65
        }
      ],
      "source": [
        "False"
      ]
    },
    {
      "cell_type": "code",
      "execution_count": null,
      "metadata": {
        "id": "NAsOmn_M92Xs",
        "colab": {
          "base_uri": "https://localhost:8080/"
        },
        "outputId": "f392586c-382c-47b8-a405-f4aa04c7a9ff"
      },
      "outputs": [
        {
          "output_type": "stream",
          "name": "stdout",
          "text": [
            "True\n"
          ]
        }
      ],
      "source": [
        "python_is_awesome = True\n",
        "print(python_is_awesome)"
      ]
    },
    {
      "cell_type": "markdown",
      "metadata": {
        "id": "98T4fFPW9V05"
      },
      "source": [
        " Notice that the boolean values are not textual information, and thus are not surrounded by quotes as if they were strings. They are reserved keywords of Python to represent those specific on/off, true/false, yes/no meanings. As such, Python will raise an exception if we try to use it as variable names, for example. "
      ]
    },
    {
      "cell_type": "code",
      "execution_count": null,
      "metadata": {
        "colab": {
          "base_uri": "https://localhost:8080/",
          "height": 35
        },
        "id": "CscnWYnGS0HI",
        "outputId": "664dd0d2-bfba-45a5-d094-1749f6fe23a2"
      },
      "outputs": [
        {
          "output_type": "execute_result",
          "data": {
            "text/plain": [
              "'False'"
            ],
            "application/vnd.google.colaboratory.intrinsic+json": {
              "type": "string"
            }
          },
          "metadata": {},
          "execution_count": 67
        }
      ],
      "source": [
        "'False'  # This is not a boolean value! It's a string."
      ]
    },
    {
      "cell_type": "code",
      "execution_count": null,
      "metadata": {
        "colab": {
          "base_uri": "https://localhost:8080/",
          "height": 133
        },
        "id": "TXaAYdWkYGsZ",
        "outputId": "16a2a9ab-70f1-460b-f3d9-c93aa9dda95a"
      },
      "outputs": [
        {
          "output_type": "error",
          "ename": "SyntaxError",
          "evalue": "ignored",
          "traceback": [
            "\u001b[0;36m  File \u001b[0;32m\"<ipython-input-68-bcedffa6fa39>\"\u001b[0;36m, line \u001b[0;32m1\u001b[0m\n\u001b[0;31m    False = \"We don't like bioinformatics.\"\u001b[0m\n\u001b[0m                                           ^\u001b[0m\n\u001b[0;31mSyntaxError\u001b[0m\u001b[0;31m:\u001b[0m can't assign to keyword\n"
          ]
        }
      ],
      "source": [
        "False = \"We don't like bioinformatics.\""
      ]
    },
    {
      "cell_type": "markdown",
      "metadata": {
        "id": "vb65LB7g_Doi"
      },
      "source": [
        "> **Side note:** Since Python is case-sensitive, make sure to write these tokens capitalized. Deviations in most cases will cause Python to interpret the word as an undefined variable name, generating errors."
      ]
    },
    {
      "cell_type": "code",
      "execution_count": null,
      "metadata": {
        "colab": {
          "base_uri": "https://localhost:8080/",
          "height": 169
        },
        "id": "BcUWjandYIgG",
        "outputId": "47722e15-c65e-41bd-ccc7-2bf09a33e4ee"
      },
      "outputs": [
        {
          "output_type": "error",
          "ename": "NameError",
          "evalue": "ignored",
          "traceback": [
            "\u001b[0;31m---------------------------------------------------------------------------\u001b[0m",
            "\u001b[0;31mNameError\u001b[0m                                 Traceback (most recent call last)",
            "\u001b[0;32m<ipython-input-69-d5612866378f>\u001b[0m in \u001b[0;36m<module>\u001b[0;34m()\u001b[0m\n\u001b[0;32m----> 1\u001b[0;31m \u001b[0mFALSE\u001b[0m\u001b[0;34m\u001b[0m\u001b[0;34m\u001b[0m\u001b[0m\n\u001b[0m",
            "\u001b[0;31mNameError\u001b[0m: name 'FALSE' is not defined"
          ]
        }
      ],
      "source": [
        "FALSE"
      ]
    },
    {
      "cell_type": "code",
      "execution_count": null,
      "metadata": {
        "colab": {
          "base_uri": "https://localhost:8080/",
          "height": 169
        },
        "id": "Nu1-EKO8_v7e",
        "outputId": "de9284d4-699a-4f40-e335-908ec2015809"
      },
      "outputs": [
        {
          "output_type": "error",
          "ename": "NameError",
          "evalue": "ignored",
          "traceback": [
            "\u001b[0;31m---------------------------------------------------------------------------\u001b[0m",
            "\u001b[0;31mNameError\u001b[0m                                 Traceback (most recent call last)",
            "\u001b[0;32m<ipython-input-70-6e9551a5e141>\u001b[0m in \u001b[0;36m<module>\u001b[0;34m()\u001b[0m\n\u001b[0;32m----> 1\u001b[0;31m \u001b[0mpython_is_awesome\u001b[0m \u001b[0;34m=\u001b[0m \u001b[0mtrue\u001b[0m\u001b[0;34m\u001b[0m\u001b[0;34m\u001b[0m\u001b[0m\n\u001b[0m",
            "\u001b[0;31mNameError\u001b[0m: name 'true' is not defined"
          ]
        }
      ],
      "source": [
        "python_is_awesome = true"
      ]
    },
    {
      "cell_type": "markdown",
      "metadata": {
        "id": "y7hm2GGex-4h"
      },
      "source": [
        "But how would we use boolean variables? As we mentioned, they often come up as results of logical expressions.\n",
        "\n",
        "Several operators can be used to test if a condition is `True`. For instance, let's first remember we previously assigned the value `29000` to our variable `coronavirus_genome_size`. We did it like so:"
      ]
    },
    {
      "cell_type": "code",
      "execution_count": null,
      "metadata": {
        "id": "BadO_IVdx_Ls"
      },
      "outputs": [],
      "source": [
        "coronavirus_genome_size = 29000"
      ]
    },
    {
      "cell_type": "markdown",
      "metadata": {
        "id": "USS3jum4AvhU"
      },
      "source": [
        "Let's convert this amount of base pairs to the kilobases (kb) unit."
      ]
    },
    {
      "cell_type": "code",
      "execution_count": null,
      "metadata": {
        "colab": {
          "base_uri": "https://localhost:8080/"
        },
        "id": "panoFrW71WW4",
        "outputId": "a4d8e706-cf66-44c6-dc84-37a5b6f4b2bc"
      },
      "outputs": [
        {
          "output_type": "execute_result",
          "data": {
            "text/plain": [
              "29.0"
            ]
          },
          "metadata": {},
          "execution_count": 72
        }
      ],
      "source": [
        "coronavirus_genome_size_kb = 29000 / 1000\n",
        "coronavirus_genome_size_kb"
      ]
    },
    {
      "cell_type": "markdown",
      "metadata": {
        "id": "nmCICIZYzfYa"
      },
      "source": [
        "Are these virus RNA genomes large?\n",
        "\n",
        "A [recent study](https://doi.org/10.1016/j.tibs.2021.05.006) analyzing factors involved in the increase of genome size lists several other viruses.\n",
        "\n",
        " * Flaviviridae (e.g., DENV-1): 10-11Kb\n",
        " * Arteriviridae (e.g., EAV): 12-16Kb\n",
        " * Coronaviridae (e.g., SARS-CoV-2): 21-32Kb\n",
        " * Mononiviridae (e.g., PSCNV): > 41Kb"
      ]
    },
    {
      "cell_type": "code",
      "execution_count": null,
      "metadata": {
        "id": "dcrILBjpybZH"
      },
      "outputs": [],
      "source": [
        "denv1 = 10.5\n",
        "eav = 14\n",
        "pscnv = 41.0"
      ]
    },
    {
      "cell_type": "markdown",
      "metadata": {
        "id": "n-FC_9Lt2UX5"
      },
      "source": [
        "Assuming the values assigned here for different viruses, we can make comparisons to ask whether the SARS-CoV-2 genome is larger than some of these other viruses:"
      ]
    },
    {
      "cell_type": "code",
      "execution_count": null,
      "metadata": {
        "colab": {
          "base_uri": "https://localhost:8080/"
        },
        "id": "Roak479i2T3Z",
        "outputId": "984fde86-8579-468a-977c-0037bf98320f"
      },
      "outputs": [
        {
          "output_type": "execute_result",
          "data": {
            "text/plain": [
              "True"
            ]
          },
          "metadata": {},
          "execution_count": 74
        }
      ],
      "source": [
        "coronavirus_genome_size_kb > denv1"
      ]
    },
    {
      "cell_type": "code",
      "execution_count": null,
      "metadata": {
        "colab": {
          "base_uri": "https://localhost:8080/"
        },
        "id": "f1q4liyf2krk",
        "outputId": "adc53cd5-00c0-4752-a8ed-471e962c89d7"
      },
      "outputs": [
        {
          "output_type": "execute_result",
          "data": {
            "text/plain": [
              "True"
            ]
          },
          "metadata": {},
          "execution_count": 75
        }
      ],
      "source": [
        "coronavirus_genome_size_kb > eav"
      ]
    },
    {
      "cell_type": "code",
      "execution_count": null,
      "metadata": {
        "colab": {
          "base_uri": "https://localhost:8080/"
        },
        "id": "gPOBnHl62sZW",
        "outputId": "08c59138-4a90-43ba-c6d7-2f4cb0bcf4b2"
      },
      "outputs": [
        {
          "output_type": "execute_result",
          "data": {
            "text/plain": [
              "False"
            ]
          },
          "metadata": {},
          "execution_count": 76
        }
      ],
      "source": [
        "coronavirus_genome_size_kb > pscnv"
      ]
    },
    {
      "cell_type": "code",
      "execution_count": null,
      "metadata": {
        "id": "rddjhThP2_CB"
      },
      "outputs": [],
      "source": [
        "sarscov2_variant1 = 29\n",
        "sarscov2_variant2 = 29"
      ]
    },
    {
      "cell_type": "markdown",
      "metadata": {
        "id": "GNVdqzBYBu0v"
      },
      "source": [
        "There are also the logical operators `==`, `>=` and `<=` to represent \"equals\", \"greater than or equal to\" and \"less than or equal to\", respectively."
      ]
    },
    {
      "cell_type": "code",
      "execution_count": null,
      "metadata": {
        "colab": {
          "base_uri": "https://localhost:8080/"
        },
        "id": "jnxCx4gG3K4K",
        "outputId": "d8b32d4d-c003-4788-bc1c-9e4e0a98d7da"
      },
      "outputs": [
        {
          "output_type": "execute_result",
          "data": {
            "text/plain": [
              "True"
            ]
          },
          "metadata": {},
          "execution_count": 78
        }
      ],
      "source": [
        "sarscov2_variant1 == sarscov2_variant2"
      ]
    },
    {
      "cell_type": "code",
      "execution_count": null,
      "metadata": {
        "colab": {
          "base_uri": "https://localhost:8080/"
        },
        "id": "1NCdVdHN3Orc",
        "outputId": "f27a9091-8c15-4263-ef84-ebc696fa86d4"
      },
      "outputs": [
        {
          "output_type": "execute_result",
          "data": {
            "text/plain": [
              "True"
            ]
          },
          "metadata": {},
          "execution_count": 79
        }
      ],
      "source": [
        "sarscov2_variant1 >= sarscov2_variant2"
      ]
    },
    {
      "cell_type": "code",
      "execution_count": null,
      "metadata": {
        "colab": {
          "base_uri": "https://localhost:8080/"
        },
        "id": "FdZtTWyS3Qzc",
        "outputId": "eefc9149-7b3d-48bd-ab29-73251d04abd5"
      },
      "outputs": [
        {
          "output_type": "execute_result",
          "data": {
            "text/plain": [
              "True"
            ]
          },
          "metadata": {},
          "execution_count": 80
        }
      ],
      "source": [
        "sarscov2_variant1 <= sarscov2_variant2"
      ]
    },
    {
      "cell_type": "code",
      "execution_count": null,
      "metadata": {
        "id": "jOipXKUQ3Gap"
      },
      "outputs": [],
      "source": [
        "sarscov2_variant1 = 29.01\n",
        "sarscov2_variant2 = 29.03"
      ]
    },
    {
      "cell_type": "code",
      "execution_count": null,
      "metadata": {
        "colab": {
          "base_uri": "https://localhost:8080/"
        },
        "id": "WM-weVE73T8X",
        "outputId": "f4e70551-0ec4-4413-da23-ac90896f662c"
      },
      "outputs": [
        {
          "output_type": "execute_result",
          "data": {
            "text/plain": [
              "False"
            ]
          },
          "metadata": {},
          "execution_count": 82
        }
      ],
      "source": [
        "sarscov2_variant1 == sarscov2_variant2"
      ]
    },
    {
      "cell_type": "markdown",
      "metadata": {
        "id": "OzEaEZaQCbVt"
      },
      "source": [
        "> **Side note:** a common mistake we sometimes make even after gaining some programming experience is to write `=` (variable assignment) when we actually mean `==` (comparison). If we had written ```SARSCoV2_variant1 = SARSCoV2_variant2``` in the cell above, we would have redefined the first variable to have the same value as the second!"
      ]
    },
    {
      "cell_type": "code",
      "execution_count": null,
      "metadata": {
        "colab": {
          "base_uri": "https://localhost:8080/"
        },
        "id": "obBjG3mO3WLc",
        "outputId": "b3339c3a-0dd7-434e-e721-b3765748f237"
      },
      "outputs": [
        {
          "output_type": "execute_result",
          "data": {
            "text/plain": [
              "False"
            ]
          },
          "metadata": {},
          "execution_count": 83
        }
      ],
      "source": [
        "sarscov2_variant1 >= sarscov2_variant2"
      ]
    },
    {
      "cell_type": "code",
      "execution_count": null,
      "metadata": {
        "colab": {
          "base_uri": "https://localhost:8080/"
        },
        "id": "szY5zn623XlH",
        "outputId": "36db37aa-bd2b-46f8-942c-35a17ebf8202"
      },
      "outputs": [
        {
          "output_type": "execute_result",
          "data": {
            "text/plain": [
              "True"
            ]
          },
          "metadata": {},
          "execution_count": 84
        }
      ],
      "source": [
        "sarscov2_variant1 <= sarscov2_variant2"
      ]
    },
    {
      "cell_type": "markdown",
      "metadata": {
        "id": "WIO9pDyxu2oX"
      },
      "source": [
        "> **NOTE**: Booleans are results of comparisons."
      ]
    },
    {
      "cell_type": "markdown",
      "metadata": {
        "id": "CqdmrURD3kc-"
      },
      "source": [
        "Evaluations can get very complicated. We will not go deep into them in this course, but let's see briefly some other operators that can be combined to answer more complex questions:"
      ]
    },
    {
      "cell_type": "code",
      "execution_count": null,
      "metadata": {
        "colab": {
          "base_uri": "https://localhost:8080/"
        },
        "id": "bgEQ7eRR32TM",
        "outputId": "0a43d1a3-0182-49da-be9f-696fd437cf42"
      },
      "outputs": [
        {
          "output_type": "execute_result",
          "data": {
            "text/plain": [
              "True"
            ]
          },
          "metadata": {},
          "execution_count": 85
        }
      ],
      "source": [
        "# Using 'and', for the output to be True, the results of the two tests MUST be true:\n",
        "(denv1 < coronavirus_genome_size) and (eav < coronavirus_genome_size)"
      ]
    },
    {
      "cell_type": "code",
      "execution_count": null,
      "metadata": {
        "colab": {
          "base_uri": "https://localhost:8080/"
        },
        "id": "1_mCHIAJ4W0y",
        "outputId": "99eaed98-7cd4-447b-df44-e9617cb47829"
      },
      "outputs": [
        {
          "output_type": "execute_result",
          "data": {
            "text/plain": [
              "False"
            ]
          },
          "metadata": {},
          "execution_count": 86
        }
      ],
      "source": [
        "(denv1 < coronavirus_genome_size) and (eav > coronavirus_genome_size)"
      ]
    },
    {
      "cell_type": "code",
      "execution_count": null,
      "metadata": {
        "colab": {
          "base_uri": "https://localhost:8080/"
        },
        "id": "SqQ5tRbW4aLl",
        "outputId": "1189a5a9-3639-41f3-93b0-42a72f62dd31"
      },
      "outputs": [
        {
          "output_type": "stream",
          "name": "stdout",
          "text": [
            "True\n",
            "False\n"
          ]
        }
      ],
      "source": [
        "print(denv1 < coronavirus_genome_size)\n",
        "print(eav > coronavirus_genome_size)"
      ]
    },
    {
      "cell_type": "code",
      "execution_count": null,
      "metadata": {
        "colab": {
          "base_uri": "https://localhost:8080/"
        },
        "id": "ZqnE1Qcy4aW-",
        "outputId": "0cad9bc4-b2b3-44b8-aa5f-f8fce6f836d7"
      },
      "outputs": [
        {
          "output_type": "execute_result",
          "data": {
            "text/plain": [
              "True"
            ]
          },
          "metadata": {},
          "execution_count": 88
        }
      ],
      "source": [
        "# Using 'or', for the output to be True, the results of AT LEAST ONE of\n",
        "# the two tests MUST be true:\n",
        "(denv1 < coronavirus_genome_size) or (eav < coronavirus_genome_size)"
      ]
    },
    {
      "cell_type": "code",
      "execution_count": null,
      "metadata": {
        "colab": {
          "base_uri": "https://localhost:8080/"
        },
        "id": "p0lJ6xlp4rqV",
        "outputId": "724c981b-2a6d-4166-88e2-a6e18f5e4c60"
      },
      "outputs": [
        {
          "output_type": "execute_result",
          "data": {
            "text/plain": [
              "True"
            ]
          },
          "metadata": {},
          "execution_count": 89
        }
      ],
      "source": [
        "(denv1 < coronavirus_genome_size) or (eav > coronavirus_genome_size)"
      ]
    },
    {
      "cell_type": "code",
      "execution_count": null,
      "metadata": {
        "colab": {
          "base_uri": "https://localhost:8080/"
        },
        "id": "aB7PD4Wh4yBT",
        "outputId": "950c3a87-33b0-4df8-a7f8-34600aa728f9"
      },
      "outputs": [
        {
          "output_type": "stream",
          "name": "stdout",
          "text": [
            "True\n",
            "False\n"
          ]
        }
      ],
      "source": [
        "print(denv1 < coronavirus_genome_size)\n",
        "print(eav > coronavirus_genome_size)"
      ]
    },
    {
      "cell_type": "code",
      "execution_count": null,
      "metadata": {
        "colab": {
          "base_uri": "https://localhost:8080/"
        },
        "id": "U09y88QJ42Ae",
        "outputId": "f910d5f7-7e32-41e9-a1aa-bbdc71225b3d"
      },
      "outputs": [
        {
          "output_type": "execute_result",
          "data": {
            "text/plain": [
              "False"
            ]
          },
          "metadata": {},
          "execution_count": 91
        }
      ],
      "source": [
        "(denv1 > coronavirus_genome_size) or (eav > coronavirus_genome_size)"
      ]
    },
    {
      "cell_type": "markdown",
      "metadata": {
        "id": "W2k_r3aGPw43"
      },
      "source": [
        "#### Sequences in Python (we will focus on lists now)\n",
        "\n",
        "Python sequences are objects ordered by position.\n",
        "They are iterable, meaning it is possible to get each of their elements at a time.\n",
        "\n",
        "Python sequences include:\n",
        " * Strings (i.e., we can read each character at a time) - strings were previously studied and are considered 'text sequences'\n",
        " * Lists\n",
        " * Tuples\n",
        " * Ranges (we are not going to provide examples of how to work with ranges in this activity)\n"
      ]
    },
    {
      "cell_type": "markdown",
      "metadata": {
        "id": "Eds72gaUCbVn"
      },
      "source": [
        "Besides continuing to learn about strings, in the present tutorial we will solely focus on **lists**, since we consider it the most flexible and general-purpose Python sequence type. This is what a Python list looks like:"
      ]
    },
    {
      "cell_type": "code",
      "execution_count": null,
      "metadata": {
        "id": "9WJ8DIhi6qiO"
      },
      "outputs": [],
      "source": [
        "sarscov2_proteins = [\"spike protein\", \"envelope protein\", \"membrane protein\", \"nucleocapsid protein\"]"
      ]
    },
    {
      "cell_type": "markdown",
      "metadata": {
        "id": "lwYEU2qf6vTX"
      },
      "source": [
        "A good practice stated in PEP8 is to keep statements shorter than 79 characters. Let's reduce the size of our list declaration:"
      ]
    },
    {
      "cell_type": "code",
      "execution_count": null,
      "metadata": {
        "id": "XKKnzJPdRubB"
      },
      "outputs": [],
      "source": [
        "sarscov2_proteins = [\"spike protein\",\n",
        "                     \"envelope protein\",\n",
        "                     \"membrane protein\",\n",
        "                     \"nucleocapsid protein\"]"
      ]
    },
    {
      "cell_type": "code",
      "execution_count": null,
      "metadata": {
        "colab": {
          "base_uri": "https://localhost:8080/"
        },
        "id": "gAUNaBb0SETj",
        "outputId": "92475040-cd53-4f8e-eabd-1dcaa80da998"
      },
      "outputs": [
        {
          "output_type": "execute_result",
          "data": {
            "text/plain": [
              "['spike protein',\n",
              " 'envelope protein',\n",
              " 'membrane protein',\n",
              " 'nucleocapsid protein']"
            ]
          },
          "metadata": {},
          "execution_count": 94
        }
      ],
      "source": [
        "sarscov2_proteins"
      ]
    },
    {
      "cell_type": "markdown",
      "metadata": {
        "id": "d6qDUnHRUJVu"
      },
      "source": [
        "Like in string manipulation, we can access elements by index:"
      ]
    },
    {
      "cell_type": "code",
      "execution_count": null,
      "metadata": {
        "colab": {
          "base_uri": "https://localhost:8080/",
          "height": 35
        },
        "id": "lFjxqG6iUHzE",
        "outputId": "f36f9250-6038-430b-d449-bb83de9dcfaf"
      },
      "outputs": [
        {
          "output_type": "execute_result",
          "data": {
            "text/plain": [
              "'envelope protein'"
            ],
            "application/vnd.google.colaboratory.intrinsic+json": {
              "type": "string"
            }
          },
          "metadata": {},
          "execution_count": 95
        }
      ],
      "source": [
        "sarscov2_proteins[1]"
      ]
    },
    {
      "cell_type": "markdown",
      "metadata": {
        "id": "7-mmmpOo6ZHr"
      },
      "source": [
        "However, differently from strings, we can alter the elements in lists because these are mutable."
      ]
    },
    {
      "cell_type": "code",
      "execution_count": null,
      "metadata": {
        "id": "FjyR0q_F6hUf"
      },
      "outputs": [],
      "source": [
        "sarscov2_proteins[1] = \"Envelope protein\""
      ]
    },
    {
      "cell_type": "code",
      "execution_count": null,
      "metadata": {
        "colab": {
          "base_uri": "https://localhost:8080/"
        },
        "id": "RyzEzqgJP9nB",
        "outputId": "6d06956a-ee47-4d2f-e964-a8a83942c955"
      },
      "outputs": [
        {
          "output_type": "execute_result",
          "data": {
            "text/plain": [
              "['spike protein',\n",
              " 'Envelope protein',\n",
              " 'membrane protein',\n",
              " 'nucleocapsid protein']"
            ]
          },
          "metadata": {},
          "execution_count": 97
        }
      ],
      "source": [
        "sarscov2_proteins"
      ]
    },
    {
      "cell_type": "markdown",
      "metadata": {
        "id": "TtFelh2G7Am_"
      },
      "source": [
        "What if we wanted to alter all elements in the list to have the initial letter capitalized?\n",
        "\n",
        "1. Remember we are dealing with strings (each element of our list is an independent string)\n",
        "2. Since we have strings, we can use string methods to reach our objectives"
      ]
    },
    {
      "cell_type": "code",
      "execution_count": null,
      "metadata": {
        "colab": {
          "base_uri": "https://localhost:8080/",
          "height": 35
        },
        "id": "1h-g7COvQAa7",
        "outputId": "9b04a9e7-22ef-4381-9843-11647a7a26d6"
      },
      "outputs": [
        {
          "output_type": "execute_result",
          "data": {
            "text/plain": [
              "'Spike protein'"
            ],
            "application/vnd.google.colaboratory.intrinsic+json": {
              "type": "string"
            }
          },
          "metadata": {},
          "execution_count": 98
        }
      ],
      "source": [
        "sarscov2_proteins[0].capitalize()"
      ]
    },
    {
      "cell_type": "code",
      "execution_count": null,
      "metadata": {
        "id": "pjBn3dVkQMOK"
      },
      "outputs": [],
      "source": [
        "sarscov2_proteins[0] = sarscov2_proteins[0].capitalize()"
      ]
    },
    {
      "cell_type": "code",
      "execution_count": null,
      "metadata": {
        "id": "XabMgoAzQS0g"
      },
      "outputs": [],
      "source": [
        "sarscov2_proteins[0] = sarscov2_proteins[0].capitalize()\n",
        "sarscov2_proteins[1] = sarscov2_proteins[1].capitalize()\n",
        "sarscov2_proteins[2] = sarscov2_proteins[2].capitalize()\n",
        "sarscov2_proteins[3] = sarscov2_proteins[3].capitalize()"
      ]
    },
    {
      "cell_type": "code",
      "execution_count": null,
      "metadata": {
        "colab": {
          "base_uri": "https://localhost:8080/"
        },
        "id": "6hHiWgnqQY5G",
        "outputId": "056b4351-749f-407e-a150-592194ae4ff5"
      },
      "outputs": [
        {
          "output_type": "execute_result",
          "data": {
            "text/plain": [
              "['Spike protein',\n",
              " 'Envelope protein',\n",
              " 'Membrane protein',\n",
              " 'Nucleocapsid protein']"
            ]
          },
          "metadata": {},
          "execution_count": 101
        }
      ],
      "source": [
        "sarscov2_proteins"
      ]
    },
    {
      "cell_type": "markdown",
      "metadata": {
        "id": "bs-kJQkmQs_N"
      },
      "source": [
        "Even though this option is much easier than changing each element by assigning a new value individually, it is still a tedious task in cases the list contains hundreds or thousands of elements."
      ]
    },
    {
      "cell_type": "markdown",
      "metadata": {
        "id": "_8i4llIrPgIU"
      },
      "source": [
        "We are now going to learn a new concept - the `for` loop. As we said at the beginning of this section, sequences are iterable. Let's see what it means."
      ]
    },
    {
      "cell_type": "code",
      "execution_count": null,
      "metadata": {
        "colab": {
          "base_uri": "https://localhost:8080/"
        },
        "id": "BxChyDxg7A1I",
        "outputId": "878cb9ce-478f-4377-e83d-b5a870605e8d"
      },
      "outputs": [
        {
          "output_type": "stream",
          "name": "stdout",
          "text": [
            "Spike protein\n",
            "Envelope protein\n",
            "Membrane protein\n",
            "Nucleocapsid protein\n"
          ]
        }
      ],
      "source": [
        "# PEP8 expects four whitespaces in indentation\n",
        "for protein in sarscov2_proteins:\n",
        "    print(protein)"
      ]
    },
    {
      "cell_type": "markdown",
      "metadata": {
        "id": "nPeZWiEd8Za8"
      },
      "source": [
        "Under the `for` statement, we can add whatever we want to do for each element in our list, as long as the code we add is aligned with the same indentation:"
      ]
    },
    {
      "cell_type": "code",
      "execution_count": null,
      "metadata": {
        "colab": {
          "base_uri": "https://localhost:8080/"
        },
        "id": "HGk1X7N88Le3",
        "outputId": "41748291-deac-4390-f243-7b63c5062bba"
      },
      "outputs": [
        {
          "output_type": "stream",
          "name": "stdout",
          "text": [
            "Spike protein\n",
            "Spike protein\n",
            "Envelope protein\n",
            "Envelope protein\n",
            "Membrane protein\n",
            "Membrane protein\n",
            "Nucleocapsid protein\n",
            "Nucleocapsid protein\n"
          ]
        }
      ],
      "source": [
        "for protein in sarscov2_proteins:\n",
        "    print(protein)\n",
        "    print(protein.capitalize())"
      ]
    },
    {
      "cell_type": "markdown",
      "source": [
        ">**NOTE:** Lists are iterable!"
      ],
      "metadata": {
        "id": "m8prD74uAKuB"
      }
    },
    {
      "cell_type": "markdown",
      "metadata": {
        "id": "F0J9aHKw82YB"
      },
      "source": [
        "There is a function called `enumerate` that can be used to iterate through elements in our list and recover the index and value associated with each list position:"
      ]
    },
    {
      "cell_type": "code",
      "execution_count": null,
      "metadata": {
        "colab": {
          "base_uri": "https://localhost:8080/"
        },
        "id": "7T7Svwnt86gX",
        "outputId": "9e18fdef-d2b6-444c-994a-88d918ce3a2b"
      },
      "outputs": [
        {
          "output_type": "stream",
          "name": "stdout",
          "text": [
            "0\n",
            "Spike protein\n",
            "Spike protein\n",
            "1\n",
            "Envelope protein\n",
            "Envelope protein\n",
            "2\n",
            "Membrane protein\n",
            "Membrane protein\n",
            "3\n",
            "Nucleocapsid protein\n",
            "Nucleocapsid protein\n"
          ]
        }
      ],
      "source": [
        "for position, protein in enumerate(sarscov2_proteins):\n",
        "    print(position)\n",
        "    print(protein)\n",
        "    print(protein.capitalize())\n"
      ]
    },
    {
      "cell_type": "markdown",
      "metadata": {
        "id": "er9V3STy9wEz"
      },
      "source": [
        "We can finally assign new values to each position:"
      ]
    },
    {
      "cell_type": "code",
      "execution_count": null,
      "metadata": {
        "colab": {
          "base_uri": "https://localhost:8080/"
        },
        "id": "TuCKLOq-9Q_p",
        "outputId": "2fb9b3cb-20f4-406d-c822-0997976446f6"
      },
      "outputs": [
        {
          "output_type": "stream",
          "name": "stdout",
          "text": [
            "0\n",
            "Spike protein\n",
            "Spike protein\n",
            "1\n",
            "Envelope protein\n",
            "Envelope protein\n",
            "2\n",
            "Membrane protein\n",
            "Membrane protein\n",
            "3\n",
            "Nucleocapsid protein\n",
            "Nucleocapsid protein\n"
          ]
        }
      ],
      "source": [
        "for position, protein in enumerate(sarscov2_proteins):\n",
        "    print(position)\n",
        "    print(protein)\n",
        "    print(protein.capitalize())\n",
        "    sarscov2_proteins[position] = protein.capitalize()"
      ]
    },
    {
      "cell_type": "code",
      "execution_count": null,
      "metadata": {
        "colab": {
          "base_uri": "https://localhost:8080/"
        },
        "id": "wh0TUgAs9eDb",
        "outputId": "1e190e37-e8e1-4dfd-d3e7-a8032e33f47d"
      },
      "outputs": [
        {
          "output_type": "execute_result",
          "data": {
            "text/plain": [
              "['Spike protein',\n",
              " 'Envelope protein',\n",
              " 'Membrane protein',\n",
              " 'Nucleocapsid protein']"
            ]
          },
          "metadata": {},
          "execution_count": 106
        }
      ],
      "source": [
        "sarscov2_proteins"
      ]
    },
    {
      "cell_type": "markdown",
      "source": [
        ">**NOTE:** Lists are mutable!"
      ],
      "metadata": {
        "id": "7oJxHcfgAW5Q"
      }
    },
    {
      "cell_type": "markdown",
      "metadata": {
        "id": "U17UlREq99qj"
      },
      "source": [
        "Since strings are also iterable, we could loop through list elements:"
      ]
    },
    {
      "cell_type": "code",
      "execution_count": null,
      "metadata": {
        "id": "AG2WswHt9940",
        "colab": {
          "base_uri": "https://localhost:8080/",
          "height": 35
        },
        "outputId": "b2e8f3aa-f178-4559-a212-ecd41633fb48"
      },
      "outputs": [
        {
          "output_type": "execute_result",
          "data": {
            "text/plain": [
              "'respiratory syndrome coronavirus 2 (SARS-CoV-2)'"
            ],
            "application/vnd.google.colaboratory.intrinsic+json": {
              "type": "string"
            }
          },
          "metadata": {},
          "execution_count": 107
        }
      ],
      "source": [
        "full_virus_name = \"respiratory syndrome coronavirus 2 (SARS-CoV-2)\"\n",
        "full_virus_name"
      ]
    },
    {
      "cell_type": "code",
      "execution_count": null,
      "metadata": {
        "colab": {
          "base_uri": "https://localhost:8080/"
        },
        "id": "4Qs7HRAJ-Jd5",
        "outputId": "558d43c3-027f-489b-8b76-744081a21ac8"
      },
      "outputs": [
        {
          "output_type": "stream",
          "name": "stdout",
          "text": [
            "r\n",
            "e\n",
            "s\n",
            "p\n",
            "i\n",
            "r\n",
            "a\n",
            "t\n",
            "o\n",
            "r\n",
            "y\n",
            " \n",
            "s\n",
            "y\n",
            "n\n",
            "d\n",
            "r\n",
            "o\n",
            "m\n",
            "e\n",
            " \n",
            "c\n",
            "o\n",
            "r\n",
            "o\n",
            "n\n",
            "a\n",
            "v\n",
            "i\n",
            "r\n",
            "u\n",
            "s\n",
            " \n",
            "2\n",
            " \n",
            "(\n",
            "S\n",
            "A\n",
            "R\n",
            "S\n",
            "-\n",
            "C\n",
            "o\n",
            "V\n",
            "-\n",
            "2\n",
            ")\n"
          ]
        }
      ],
      "source": [
        "for letter in full_virus_name:\n",
        "    print(letter)"
      ]
    },
    {
      "cell_type": "markdown",
      "metadata": {
        "id": "RiHecoNJ-Qhb"
      },
      "source": [
        "But remember: you can't change elements in strings because they are immutable!"
      ]
    },
    {
      "cell_type": "markdown",
      "metadata": {
        "id": "ljpMJ3ReUVCZ"
      },
      "source": [
        "What if we wanted to check whether a particular object is on our list?\n",
        "\n",
        "For instance, suppose we wanted to check if an accessory protein, ORF8, is in the list of structural proteins:"
      ]
    },
    {
      "cell_type": "code",
      "execution_count": null,
      "metadata": {
        "colab": {
          "base_uri": "https://localhost:8080/"
        },
        "id": "uepAdYH_-gUA",
        "outputId": "c945717f-3219-424c-c341-dcd4eddf4804"
      },
      "outputs": [
        {
          "output_type": "execute_result",
          "data": {
            "text/plain": [
              "['Spike protein',\n",
              " 'Envelope protein',\n",
              " 'Membrane protein',\n",
              " 'Nucleocapsid protein']"
            ]
          },
          "metadata": {},
          "execution_count": 109
        }
      ],
      "source": [
        "sarscov2_proteins"
      ]
    },
    {
      "cell_type": "markdown",
      "metadata": {
        "id": "yW0hch2LZ1Ee"
      },
      "source": [
        "The same keyword `in` we used at the very begining comes in handy again:"
      ]
    },
    {
      "cell_type": "code",
      "execution_count": null,
      "metadata": {
        "colab": {
          "base_uri": "https://localhost:8080/"
        },
        "id": "4I-EcLc_VFxS",
        "outputId": "b31f3b9f-0db4-4e39-f993-71d74f1a58be"
      },
      "outputs": [
        {
          "output_type": "execute_result",
          "data": {
            "text/plain": [
              "False"
            ]
          },
          "metadata": {},
          "execution_count": 110
        }
      ],
      "source": [
        "\"ORF8 protein\" in sarscov2_proteins"
      ]
    },
    {
      "cell_type": "code",
      "execution_count": null,
      "metadata": {
        "colab": {
          "base_uri": "https://localhost:8080/"
        },
        "id": "NbP0ecnLWc17",
        "outputId": "57f6cd9d-7119-4df0-8a3f-c38f26415807"
      },
      "outputs": [
        {
          "output_type": "execute_result",
          "data": {
            "text/plain": [
              "False"
            ]
          },
          "metadata": {},
          "execution_count": 111
        }
      ],
      "source": [
        "\"spike protein\" in sarscov2_proteins"
      ]
    },
    {
      "cell_type": "markdown",
      "metadata": {
        "id": "n_0bAIVN-oUC"
      },
      "source": [
        "It is important to remember that Python is case-sensitive. Tests like this will also be sensitive and return `True` only if they match perfectly. We previously capitalized the first letter in each element:"
      ]
    },
    {
      "cell_type": "code",
      "execution_count": null,
      "metadata": {
        "colab": {
          "base_uri": "https://localhost:8080/"
        },
        "id": "sNaEXSc2-zBd",
        "outputId": "a44c8206-f5d2-4945-fdac-7f20b1a825a6"
      },
      "outputs": [
        {
          "output_type": "execute_result",
          "data": {
            "text/plain": [
              "True"
            ]
          },
          "metadata": {},
          "execution_count": 112
        }
      ],
      "source": [
        "\"Spike protein\" in sarscov2_proteins"
      ]
    },
    {
      "cell_type": "markdown",
      "metadata": {
        "id": "_tj4c-heWfTH"
      },
      "source": [
        "As we saw previously, booleans return `True` or `False`, depending on the result of our operation given the inputs."
      ]
    },
    {
      "cell_type": "markdown",
      "metadata": {
        "id": "EyYL_u7o_txY"
      },
      "source": [
        "We will see more loops soon!"
      ]
    },
    {
      "cell_type": "markdown",
      "metadata": {
        "id": "3MWei9pxWzBe"
      },
      "source": [
        "#### Control flow using `if` statements\n"
      ]
    },
    {
      "cell_type": "markdown",
      "metadata": {
        "id": "wPAXf2oLXQDp"
      },
      "source": [
        "When we need our promram to make decisions based on the results of evaluations in our code, we use control flow. The keyword for doing so in Python is `if`."
      ]
    },
    {
      "cell_type": "markdown",
      "metadata": {
        "id": "cNSkDYN_fgf9"
      },
      "source": [
        "Let's make a statement that checks whether some of the genomes we discussed so far are smaller than that of SARS-CoV-2."
      ]
    },
    {
      "cell_type": "code",
      "execution_count": 7,
      "metadata": {
        "id": "XowaGXRPd8XH"
      },
      "outputs": [],
      "source": [
        "coronavirus_genome_size = 29.0\n",
        "DENV1_genome_size = 10.5\n",
        "EAV_genome_size = 14\n",
        "PSCNV_genome_size = 41.0"
      ]
    },
    {
      "cell_type": "code",
      "execution_count": null,
      "metadata": {
        "colab": {
          "base_uri": "https://localhost:8080/"
        },
        "id": "vjrt99emex8V",
        "outputId": "2d22f9dd-8f84-483e-fb26-178c2a7f6bfe"
      },
      "outputs": [
        {
          "output_type": "stream",
          "name": "stdout",
          "text": [
            "Genome of DENV1 is smaller than of SARS-CoV-2\n"
          ]
        }
      ],
      "source": [
        "if DENV1_genome_size < coronavirus_genome_size:\n",
        "    print(\"Genome of DENV1 is smaller than of SARS-CoV-2\")"
      ]
    },
    {
      "cell_type": "code",
      "execution_count": null,
      "metadata": {
        "colab": {
          "base_uri": "https://localhost:8080/"
        },
        "id": "Rcn44rDGfSwx",
        "outputId": "56b9f5f3-92cb-4521-fc60-1836c4a70e2a"
      },
      "outputs": [
        {
          "output_type": "execute_result",
          "data": {
            "text/plain": [
              "True"
            ]
          },
          "metadata": {},
          "execution_count": 115
        }
      ],
      "source": [
        "DENV1_genome_size < coronavirus_genome_size"
      ]
    },
    {
      "cell_type": "code",
      "execution_count": 8,
      "metadata": {
        "id": "S1tkk3WFfVTR"
      },
      "outputs": [],
      "source": [
        "if PSCNV_genome_size < coronavirus_genome_size:\n",
        "    print(\"Genome of PSCNV is smaller than of SARS-CoV-2\")"
      ]
    },
    {
      "cell_type": "code",
      "execution_count": null,
      "metadata": {
        "colab": {
          "base_uri": "https://localhost:8080/"
        },
        "id": "zT-8K1C-fdGW",
        "outputId": "589c3284-6c07-4bc4-f9fb-7bb846b036b6"
      },
      "outputs": [
        {
          "output_type": "execute_result",
          "data": {
            "text/plain": [
              "False"
            ]
          },
          "metadata": {},
          "execution_count": 117
        }
      ],
      "source": [
        "PSCNV_genome_size < coronavirus_genome_size"
      ]
    },
    {
      "cell_type": "markdown",
      "metadata": {
        "id": "tgENq_Chg2TP"
      },
      "source": [
        "The `if` statement can be associated with an `else` statement that considers a given action for cases where `False` is returned from the evaluation."
      ]
    },
    {
      "cell_type": "code",
      "execution_count": null,
      "metadata": {
        "colab": {
          "base_uri": "https://localhost:8080/"
        },
        "id": "aOq__hPig1us",
        "outputId": "70d9356a-ccd7-4a16-8ef0-b4813a63c7e0"
      },
      "outputs": [
        {
          "output_type": "stream",
          "name": "stdout",
          "text": [
            "Genome of DENV1 is smaller than of SARS-CoV-2\n"
          ]
        }
      ],
      "source": [
        "if DENV1_genome_size > coronavirus_genome_size:\n",
        "    print(\"Genome of DENV1 is larger than of SARS-CoV-2\")\n",
        "else:\n",
        "    print(\"Genome of DENV1 is smaller than of SARS-CoV-2\")"
      ]
    },
    {
      "cell_type": "markdown",
      "metadata": {
        "id": "CU-KfrSiimYB"
      },
      "source": [
        "Control flow can be incorporated in `for` loops. For example, if we want to check if each of the values in `genome_sizes` is greater than `coronavirus_genome_size`, we could write:"
      ]
    },
    {
      "cell_type": "code",
      "execution_count": null,
      "metadata": {
        "id": "y0xKCypGimlz"
      },
      "outputs": [],
      "source": [
        "genome_sizes = [DENV1_genome_size,\n",
        "                PSCNV_genome_size,\n",
        "                EAV_genome_size]"
      ]
    },
    {
      "cell_type": "code",
      "execution_count": null,
      "metadata": {
        "colab": {
          "base_uri": "https://localhost:8080/"
        },
        "id": "iZ-_9uCyjkkh",
        "outputId": "32b82088-4ba3-4769-cdb8-2967529f3f45"
      },
      "outputs": [
        {
          "output_type": "stream",
          "name": "stdout",
          "text": [
            "10.5\n",
            "41.0\n",
            "14\n"
          ]
        }
      ],
      "source": [
        "for genome_size in genome_sizes:\n",
        "    print(genome_size)"
      ]
    },
    {
      "cell_type": "code",
      "execution_count": null,
      "metadata": {
        "colab": {
          "base_uri": "https://localhost:8080/"
        },
        "id": "Sx0BjD-_j1z1",
        "outputId": "cfed5ea5-7cf5-4f51-883d-e2c090eb3649"
      },
      "outputs": [
        {
          "output_type": "stream",
          "name": "stdout",
          "text": [
            "10.5 is smaller than 29.0\n",
            "41.0 is bigger than 29.0\n",
            "14 is smaller than 29.0\n"
          ]
        }
      ],
      "source": [
        "for genome_size in genome_sizes:\n",
        "    if genome_size < coronavirus_genome_size:\n",
        "        print(f'{genome_size} is smaller than {coronavirus_genome_size}')\n",
        "    else:\n",
        "        print(f'{genome_size} is bigger than {coronavirus_genome_size}')"
      ]
    },
    {
      "cell_type": "markdown",
      "metadata": {
        "id": "XV3oEPTokpZt"
      },
      "source": [
        "Here we only have a list with the genome sizes. Using only lists, there is not a very simple way of also printing which virus name each of the genome sizes are associated to. A natural way of doing so is using another data structure we now introduce, `dictionaries`:"
      ]
    },
    {
      "cell_type": "code",
      "execution_count": null,
      "metadata": {
        "colab": {
          "base_uri": "https://localhost:8080/"
        },
        "id": "aaT0ZFeXgbVT",
        "outputId": "1bb4c2fe-33f1-48da-d0ec-dc1af16e267c"
      },
      "outputs": [
        {
          "output_type": "stream",
          "name": "stdout",
          "text": [
            "DENV1's genome is smaller than coronavirus'.\n",
            "EAV's genome is smaller than coronavirus'.\n",
            "PSCNV's genome is bigger than coronavirus'.\n"
          ]
        }
      ],
      "source": [
        "genome_sizes_dict = {'DENV1': 10.5, 'EAV': 14, 'PSCNV': 41.0}\n",
        "                     \n",
        "for virus, size in genome_sizes_dict.items():\n",
        "    if size < coronavirus_genome_size:\n",
        "        print(f\"{virus}'s genome is smaller than coronavirus'.\")\n",
        "    else:\n",
        "        print(f\"{virus}'s genome is bigger than coronavirus'.\")"
      ]
    },
    {
      "cell_type": "markdown",
      "metadata": {
        "id": "pm6DM2Xi0Pvq"
      },
      "source": [
        "#### Dictionaries in Python\n",
        "Dictionaries are collections of paired elements. Each pair is an **item**. The first element of each pair is an immutable object (such as a string or a number, but not a list) that serves as an item's identifier. We call it the **key** of the pair. The second element is the actual **value** we are interested to store.\n",
        "\n",
        " * Keys: immutable identifiers;\n",
        " * Values: objects to store;\n",
        " * Items: combined key-value pairs.\n",
        "\n",
        "\n"
      ]
    },
    {
      "cell_type": "code",
      "execution_count": null,
      "metadata": {
        "id": "T7rIDlmNsrf5",
        "colab": {
          "base_uri": "https://localhost:8080/"
        },
        "outputId": "28520cdc-2288-48d4-faf8-f61d4d25f61f"
      },
      "outputs": [
        {
          "output_type": "execute_result",
          "data": {
            "text/plain": [
              "{'first key': 100, 'second key': 200, 'third key': 300}"
            ]
          },
          "metadata": {},
          "execution_count": 123
        }
      ],
      "source": [
        "# Dictionary anatomy:\n",
        "{\"first key\": \"first value\",    # First item\n",
        " \"second key\": \"second value\",  # Second item\n",
        " \"third key\": \"third value\"}    # Third and final item\n",
        "\n",
        "# You could also write it in a single line, if not too difficult to read:\n",
        "{\"first key\": 100, \"second key\": 200, \"third key\": 300}"
      ]
    },
    {
      "cell_type": "markdown",
      "metadata": {
        "id": "vSfWxj2mxv3x"
      },
      "source": [
        "But let's revisit our very first example to demonstrate how useful dictionaries can be."
      ]
    },
    {
      "cell_type": "code",
      "execution_count": null,
      "metadata": {
        "id": "kwydB2np0Pvq",
        "colab": {
          "base_uri": "https://localhost:8080/"
        },
        "outputId": "738e70df-5945-458b-f245-9aeaafd59868"
      },
      "outputs": [
        {
          "output_type": "execute_result",
          "data": {
            "text/plain": [
              "{'alpha': 'RLFRKSNLKPFERDISTEIYQAGSTPCNGVEGFNCYFPLQSYGFQPTYGV',\n",
              " 'beta': 'RLFRKSNLKPFERDISTEIYQAGSTPCNGVKGFNCYFPLQSYGFQPTYGV',\n",
              " 'delta': 'YRLFRKSNLKPFERDISTEIYQAGSKPCNGVEGFNCYFPLQSYGFQPTNG',\n",
              " 'gamma': 'YLYRLFRKSNLKPFERDISTEIYQAGSTPCNGVKGFNCYFPLQSYGFQPT'}"
            ]
          },
          "metadata": {},
          "execution_count": 124
        }
      ],
      "source": [
        "{'alpha': 'RLFRKSNLKPFERDISTEIYQAGSTPCNGVEGFNCYFPLQSYGFQPTYGV',  # See whitespaces, PEP8 convention (https://www.python.org/dev/peps/pep-0008/#whitespace-in-expressions-and-statements)\n",
        " 'beta': 'RLFRKSNLKPFERDISTEIYQAGSTPCNGVKGFNCYFPLQSYGFQPTYGV',\n",
        " 'gamma': 'YLYRLFRKSNLKPFERDISTEIYQAGSTPCNGVKGFNCYFPLQSYGFQPT',\n",
        " 'delta': 'YRLFRKSNLKPFERDISTEIYQAGSKPCNGVEGFNCYFPLQSYGFQPTNG'}"
      ]
    },
    {
      "cell_type": "markdown",
      "metadata": {
        "id": "ErO-SVv40Pvr"
      },
      "source": [
        "We put all RBD segments we found grouped together in a single dictionary, identifying each segment as we previously did with variables. We can create a single variable to store our whole dictionary!"
      ]
    },
    {
      "cell_type": "code",
      "execution_count": null,
      "metadata": {
        "id": "dLNVMVjh0Pvr"
      },
      "outputs": [],
      "source": [
        "rbd_segment = {'alpha': 'RLFRKSNLKPFERDISTEIYQAGSTPCNGVEGFNCYFPLQSYGFQPTYGV',\n",
        "               'beta': 'RLFRKSNLKPFERDISTEIYQAGSTPCNGVKGFNCYFPLQSYGFQPTYGV',\n",
        "               'gamma': 'YLYRLFRKSNLKPFERDISTEIYQAGSTPCNGVKGFNCYFPLQSYGFQPT',\n",
        "               'delta': 'YRLFRKSNLKPFERDISTEIYQAGSKPCNGVEGFNCYFPLQSYGFQPTNG'}"
      ]
    },
    {
      "cell_type": "markdown",
      "metadata": {
        "id": "_kqSuDGe0Pvr"
      },
      "source": [
        "We can access the values from each item with the notation: `dict[key]`.\n",
        "\n",
        "For example, to get the RBD sequence of the Gamma variable, we run:"
      ]
    },
    {
      "cell_type": "code",
      "execution_count": null,
      "metadata": {
        "colab": {
          "base_uri": "https://localhost:8080/",
          "height": 35
        },
        "id": "OtmUhYaS0Pvr",
        "outputId": "192863b0-c42e-40f4-9038-295b9766dd73"
      },
      "outputs": [
        {
          "output_type": "execute_result",
          "data": {
            "text/plain": [
              "'YLYRLFRKSNLKPFERDISTEIYQAGSTPCNGVKGFNCYFPLQSYGFQPT'"
            ],
            "application/vnd.google.colaboratory.intrinsic+json": {
              "type": "string"
            }
          },
          "metadata": {},
          "execution_count": 126
        }
      ],
      "source": [
        "rbd_segment['gamma']"
      ]
    },
    {
      "cell_type": "markdown",
      "metadata": {
        "id": "S9DnGF8r0Pvt"
      },
      "source": [
        "To add a key/value pair to the dict, we use the following syntax, very similar to how we use variables:"
      ]
    },
    {
      "cell_type": "code",
      "execution_count": null,
      "metadata": {
        "id": "J4kXlvr20Pvt"
      },
      "outputs": [],
      "source": [
        "rbd_segment['omicron'] = \"RLFRKSNLKPFERDISTEIYQAGNKPCNGVAGFNCYFPLRSYSFRPTYGV\""
      ]
    },
    {
      "cell_type": "markdown",
      "metadata": {
        "id": "wVUYHr6o2ZK5"
      },
      "source": [
        "Let's check our dictionary again:"
      ]
    },
    {
      "cell_type": "code",
      "execution_count": null,
      "metadata": {
        "colab": {
          "base_uri": "https://localhost:8080/"
        },
        "id": "Cgv2Xj8_2lps",
        "outputId": "9b788752-4d19-4014-86b9-1c26cce89630"
      },
      "outputs": [
        {
          "output_type": "execute_result",
          "data": {
            "text/plain": [
              "{'alpha': 'RLFRKSNLKPFERDISTEIYQAGSTPCNGVEGFNCYFPLQSYGFQPTYGV',\n",
              " 'beta': 'RLFRKSNLKPFERDISTEIYQAGSTPCNGVKGFNCYFPLQSYGFQPTYGV',\n",
              " 'delta': 'YRLFRKSNLKPFERDISTEIYQAGSKPCNGVEGFNCYFPLQSYGFQPTNG',\n",
              " 'gamma': 'YLYRLFRKSNLKPFERDISTEIYQAGSTPCNGVKGFNCYFPLQSYGFQPT',\n",
              " 'omicron': 'RLFRKSNLKPFERDISTEIYQAGNKPCNGVAGFNCYFPLRSYSFRPTYGV'}"
            ]
          },
          "metadata": {},
          "execution_count": 128
        }
      ],
      "source": [
        "rbd_segment"
      ]
    },
    {
      "cell_type": "markdown",
      "metadata": {
        "id": "6FzMqUTFsMa-"
      },
      "source": [
        "If you notice, dictionaries work a lot like groups of variables, where we have each variable's name associated to its value. But using dictionary items instead have some key advantages over defining multiple variables:\n",
        "\n",
        " * **Dictionaries are iterable:** We can easily reapeat the same procedure for all items;\n",
        " * **They are more flexible:** Dictionary keys are much less restricted than variables' names. They can be strings (with any whitespace or weird character) or even floats, for example.\n",
        " * **They can be automated:** Dictionary items can be created programatically, in a `for` loop, for instance. We cannot create variables with different names in a `for` loop.\n",
        " \n",
        "> **Side note:** We actually can, but it is highly discouraged in general and much more complicated, way beyond the scope of this course.\n",
        " "
      ]
    },
    {
      "cell_type": "markdown",
      "metadata": {
        "id": "rVMN8y2z1qoY"
      },
      "source": [
        "Now, look how simply we can solve the introductory problem, using the same idea as before:"
      ]
    },
    {
      "cell_type": "code",
      "execution_count": null,
      "metadata": {
        "colab": {
          "base_uri": "https://localhost:8080/"
        },
        "id": "ZF9vFnwF5rtc",
        "outputId": "e3223e2f-7173-4f45-f444-4b79455f2ac8"
      },
      "outputs": [
        {
          "output_type": "execute_result",
          "data": {
            "text/plain": [
              "{'alpha': 'RLFRKSNLKPFERDISTEIYQAGSTPCNGVEGFNCYFPLQSYGFQPTYGV',\n",
              " 'beta': 'RLFRKSNLKPFERDISTEIYQAGSTPCNGVKGFNCYFPLQSYGFQPTYGV',\n",
              " 'delta': 'YRLFRKSNLKPFERDISTEIYQAGSKPCNGVEGFNCYFPLQSYGFQPTNG',\n",
              " 'gamma': 'YLYRLFRKSNLKPFERDISTEIYQAGSTPCNGVKGFNCYFPLQSYGFQPT',\n",
              " 'omicron': 'RLFRKSNLKPFERDISTEIYQAGNKPCNGVAGFNCYFPLRSYSFRPTYGV'}"
            ]
          },
          "metadata": {},
          "execution_count": 129
        }
      ],
      "source": [
        "rbd_segment  # In case you need a refresher of how our dict looks like."
      ]
    },
    {
      "cell_type": "code",
      "execution_count": null,
      "metadata": {
        "colab": {
          "base_uri": "https://localhost:8080/"
        },
        "id": "ZqN5Ppr23zm-",
        "outputId": "9bd713ea-949b-4a69-fee2-154e6b5e7a86"
      },
      "outputs": [
        {
          "output_type": "stream",
          "name": "stdout",
          "text": [
            "The sample possibly contains the Delta variant's genome!\n"
          ]
        }
      ],
      "source": [
        "for variant, segment in rbd_segment.items():\n",
        "    if segment in sequenced_protein:\n",
        "        print(f\"The sample possibly contains the {variant.capitalize()} \"\n",
        "               \"variant's genome!\")"
      ]
    },
    {
      "cell_type": "markdown",
      "metadata": {
        "id": "Vc0XwVOy5gOS"
      },
      "source": [
        "Using the `dict.items()` method, we can access each key and value for each item. They will be stored in the variables defined in the loop statement. That is:"
      ]
    },
    {
      "cell_type": "code",
      "execution_count": null,
      "metadata": {
        "colab": {
          "base_uri": "https://localhost:8080/"
        },
        "id": "6tUKkuSA7QQ5",
        "outputId": "6d83f84e-f2f9-4c93-e064-cb23a9a27d3b"
      },
      "outputs": [
        {
          "output_type": "stream",
          "name": "stdout",
          "text": [
            "My key is 'first key'. My value is 100.\n",
            "My key is 'second key'. My value is 200.\n",
            "My key is 'third key'. My value is 300.\n"
          ]
        }
      ],
      "source": [
        "my_dict = {\"first key\": 100, \"second key\": 200, \"third key\": 300}\n",
        "\n",
        "for key, value in my_dict.items():\n",
        "    print(f\"My key is '{key}'. My value is {value}.\")"
      ]
    },
    {
      "cell_type": "markdown",
      "metadata": {
        "id": "t3f-p7PF0Pvr"
      },
      "source": [
        "There are several useful functions and methods like `dict.items()` to deal with dictionaries. Here are some examples:"
      ]
    },
    {
      "cell_type": "code",
      "execution_count": null,
      "metadata": {
        "colab": {
          "base_uri": "https://localhost:8080/"
        },
        "id": "ALLa03fE0Pvr",
        "outputId": "199040ab-674f-41d7-ef07-ab3bb0dbbb1d"
      },
      "outputs": [
        {
          "output_type": "execute_result",
          "data": {
            "text/plain": [
              "5"
            ]
          },
          "metadata": {},
          "execution_count": 132
        }
      ],
      "source": [
        "# Return the number of itens in the dictionary\n",
        "len(rbd_segment)"
      ]
    },
    {
      "cell_type": "code",
      "execution_count": null,
      "metadata": {
        "colab": {
          "base_uri": "https://localhost:8080/"
        },
        "id": "bwnLy7Pt0Pvr",
        "outputId": "f89efc08-a819-43cb-cdc5-3b715d3a606e"
      },
      "outputs": [
        {
          "output_type": "execute_result",
          "data": {
            "text/plain": [
              "dict_keys(['alpha', 'beta', 'gamma', 'delta', 'omicron'])"
            ]
          },
          "metadata": {},
          "execution_count": 133
        }
      ],
      "source": [
        "# Return the keys of the dictionary\n",
        "rbd_segment.keys()"
      ]
    },
    {
      "cell_type": "markdown",
      "metadata": {
        "id": "tw3nBocB0Pvs"
      },
      "source": [
        "Notice that the output above is in an unusual format, but don't mind it in this course. We can convert it to a list for easier interpretation."
      ]
    },
    {
      "cell_type": "code",
      "execution_count": null,
      "metadata": {
        "colab": {
          "base_uri": "https://localhost:8080/"
        },
        "id": "ZniMlF6B0Pvs",
        "outputId": "1b8b74e1-3b20-46f0-9ab9-50f7eab1006e"
      },
      "outputs": [
        {
          "output_type": "execute_result",
          "data": {
            "text/plain": [
              "['alpha', 'beta', 'gamma', 'delta', 'omicron']"
            ]
          },
          "metadata": {},
          "execution_count": 134
        }
      ],
      "source": [
        "# Return list of all keys\n",
        "list(rbd_segment.keys())"
      ]
    },
    {
      "cell_type": "code",
      "execution_count": null,
      "metadata": {
        "colab": {
          "base_uri": "https://localhost:8080/"
        },
        "id": "TTbLaBUU0Pvt",
        "outputId": "a058d693-d62a-4138-d2fc-14569b903152"
      },
      "outputs": [
        {
          "output_type": "execute_result",
          "data": {
            "text/plain": [
              "['RLFRKSNLKPFERDISTEIYQAGSTPCNGVEGFNCYFPLQSYGFQPTYGV',\n",
              " 'RLFRKSNLKPFERDISTEIYQAGSTPCNGVKGFNCYFPLQSYGFQPTYGV',\n",
              " 'YLYRLFRKSNLKPFERDISTEIYQAGSTPCNGVKGFNCYFPLQSYGFQPT',\n",
              " 'YRLFRKSNLKPFERDISTEIYQAGSKPCNGVEGFNCYFPLQSYGFQPTNG',\n",
              " 'RLFRKSNLKPFERDISTEIYQAGNKPCNGVAGFNCYFPLRSYSFRPTYGV']"
            ]
          },
          "metadata": {},
          "execution_count": 135
        }
      ],
      "source": [
        "# Return list of all values\n",
        "list(rbd_segment.values())"
      ]
    },
    {
      "cell_type": "markdown",
      "metadata": {
        "id": "CoEIITX80Pvu"
      },
      "source": [
        "The values of the `rbd_segment` were strings. But remember that dictionary values in Python can be of any type.\n",
        "\n",
        "Just as an example, let's create a dictionary of lists, with the RBD sequence as the first item of the list, and the variant ID as the second item:"
      ]
    },
    {
      "cell_type": "code",
      "execution_count": null,
      "metadata": {
        "id": "ubKmtmzw0Pvu"
      },
      "outputs": [],
      "source": [
        "rbd_segment_id = {'alpha': ['RLFRKSNLKPFERDISTEIYQAGSTPCNGVEGFNCYFPLQSYGFQPTYGV','B.1.1.7'],\n",
        "                  'beta': ['RLFRKSNLKPFERDISTEIYQAGSTPCNGVKGFNCYFPLQSYGFQPTYGV','B.1.351'],\n",
        "                  'gamma': ['YLYRLFRKSNLKPFERDISTEIYQAGSTPCNGVKGFNCYFPLQSYGFQPT','P1'],\n",
        "                  'delta': ['YRLFRKSNLKPFERDISTEIYQAGSKPCNGVEGFNCYFPLQSYGFQPTNG','B.1.617.2']}"
      ]
    },
    {
      "cell_type": "code",
      "execution_count": null,
      "metadata": {
        "colab": {
          "base_uri": "https://localhost:8080/"
        },
        "id": "ey7dY0Dg0Pvu",
        "outputId": "cc3cd758-fc59-4fbf-b9a9-08bb69799afb"
      },
      "outputs": [
        {
          "output_type": "execute_result",
          "data": {
            "text/plain": [
              "['YRLFRKSNLKPFERDISTEIYQAGSKPCNGVEGFNCYFPLQSYGFQPTNG', 'B.1.617.2']"
            ]
          },
          "metadata": {},
          "execution_count": 137
        }
      ],
      "source": [
        "rbd_segment_id['delta']"
      ]
    },
    {
      "cell_type": "markdown",
      "metadata": {
        "id": "qMtWKskC0Pvv"
      },
      "source": [
        "Notice that the result of the above is a `list`. We can access the values of this list by its index, using the `[]` notation.\n",
        "\n",
        "Remember that the first item has an index of 0."
      ]
    },
    {
      "cell_type": "code",
      "execution_count": null,
      "metadata": {
        "colab": {
          "base_uri": "https://localhost:8080/",
          "height": 35
        },
        "id": "zdGw26pP0Pvv",
        "outputId": "8ba839b8-47e3-4639-9192-813d0af89049"
      },
      "outputs": [
        {
          "output_type": "execute_result",
          "data": {
            "text/plain": [
              "'P1'"
            ],
            "application/vnd.google.colaboratory.intrinsic+json": {
              "type": "string"
            }
          },
          "metadata": {},
          "execution_count": 138
        }
      ],
      "source": [
        "# Return the ID of the gamma variant\n",
        "rbd_segment_id['gamma'][1]"
      ]
    },
    {
      "cell_type": "markdown",
      "metadata": {
        "id": "V7nwCeS99ei1"
      },
      "source": [
        "Here is a more complicated example so you can better visualize the variety of possibilities:"
      ]
    },
    {
      "cell_type": "code",
      "execution_count": null,
      "metadata": {
        "id": "bXBhZrcixp7f"
      },
      "outputs": [],
      "source": [
        "\n",
        "complicated_dictionary = {\n",
        "    'First key': 'My first value!',  # This is the first item\n",
        "    'Second key': 222222,            # This is the second item\n",
        "    'Third...': ['A whole list could be here.', 3, 'Three!'],\n",
        "    4: 'Fourth key is an integer!',\n",
        "    5.023: \"I'm item 5. My key is a float!\",\n",
        "    'Sixth': {\"Wait..\": \"Another dictionary!\"}\n",
        "}"
      ]
    },
    {
      "cell_type": "markdown",
      "metadata": {
        "id": "G2YodE8E0Pvv"
      },
      "source": [
        "<div id='m3' />\n",
        "\n",
        "### M3: Loading content from files\n",
        "[Back to table of contents](#table-of-contents)\n",
        "\n",
        "**Estimated study load**: 50 minutes\n",
        "\n",
        "**Learning objectives**\n",
        "* Uploading files to Colab;\n",
        "* Basic use of `with` blocks;\n",
        "* Basic ways of reading text from external files."
      ]
    },
    {
      "cell_type": "markdown",
      "metadata": {
        "id": "KnBAbEgI0Pvx"
      },
      "source": [
        "Using small chunks of information at a time makes it easy to just create lists, dictionaries or strings as we have been doing. But as the information amount grows, it becomes much more convenient to store this data separately from our program, in their own **files**. Take for instance the DNA sequences at the beginning of this tutorial that create very long cumbersome lines of code. They would greatly benefit from being stored in FASTA files.\n",
        "\n",
        "We are constantly working with sequence files in Bioinformatics - sequences downloaded from NCBI databases, from organism-specific sources, and this is usually how we store information locally, for further analysis. Therefore, one of the important things we're going to learn today is how to read and write files (input/output).\n",
        "\n",
        "At this point, please go to the repository https://github.com/SantosRAC/intro_python_ismb2022, download the following files and upload them to this notebook by clicking `Browse` after running the next cell.\n",
        "\n",
        "* File `Wuhan-Hu-1_19A.fasta` is a FASTA file containing a spike protein sequence of the reference strain;\n",
        "* `spike_proteins.fasta` contains additional FASTA sequences, that correspond to other virus variants."
      ]
    },
    {
      "cell_type": "code",
      "execution_count": 9,
      "metadata": {
        "colab": {
          "base_uri": "https://localhost:8080/",
          "height": 394
        },
        "id": "3ntxDmxqZDvV",
        "outputId": "59aee51c-6237-49bf-b0b9-425962694215"
      },
      "outputs": [
        {
          "output_type": "display_data",
          "data": {
            "text/plain": [
              "<IPython.core.display.HTML object>"
            ],
            "text/html": [
              "\n",
              "     <input type=\"file\" id=\"files-0fb93a8b-0424-432d-9085-3749d2d13010\" name=\"files[]\" multiple disabled\n",
              "        style=\"border:none\" />\n",
              "     <output id=\"result-0fb93a8b-0424-432d-9085-3749d2d13010\">\n",
              "      Upload widget is only available when the cell has been executed in the\n",
              "      current browser session. Please rerun this cell to enable.\n",
              "      </output>\n",
              "      <script src=\"/nbextensions/google.colab/files.js\"></script> "
            ]
          },
          "metadata": {}
        },
        {
          "output_type": "error",
          "ename": "MessageError",
          "evalue": "ignored",
          "traceback": [
            "\u001b[0;31m---------------------------------------------------------------------------\u001b[0m",
            "\u001b[0;31mMessageError\u001b[0m                              Traceback (most recent call last)",
            "\u001b[0;32m<ipython-input-9-21dc3c638f66>\u001b[0m in \u001b[0;36m<module>\u001b[0;34m()\u001b[0m\n\u001b[1;32m      1\u001b[0m \u001b[0;32mfrom\u001b[0m \u001b[0mgoogle\u001b[0m\u001b[0;34m.\u001b[0m\u001b[0mcolab\u001b[0m \u001b[0;32mimport\u001b[0m \u001b[0mfiles\u001b[0m\u001b[0;34m\u001b[0m\u001b[0;34m\u001b[0m\u001b[0m\n\u001b[0;32m----> 2\u001b[0;31m \u001b[0muploaded\u001b[0m \u001b[0;34m=\u001b[0m \u001b[0mfiles\u001b[0m\u001b[0;34m.\u001b[0m\u001b[0mupload\u001b[0m\u001b[0;34m(\u001b[0m\u001b[0;34m)\u001b[0m\u001b[0;34m\u001b[0m\u001b[0;34m\u001b[0m\u001b[0m\n\u001b[0m",
            "\u001b[0;32m/usr/local/lib/python3.7/dist-packages/google/colab/files.py\u001b[0m in \u001b[0;36mupload\u001b[0;34m()\u001b[0m\n\u001b[1;32m     44\u001b[0m   \"\"\"\n\u001b[1;32m     45\u001b[0m \u001b[0;34m\u001b[0m\u001b[0m\n\u001b[0;32m---> 46\u001b[0;31m   \u001b[0muploaded_files\u001b[0m \u001b[0;34m=\u001b[0m \u001b[0m_upload_files\u001b[0m\u001b[0;34m(\u001b[0m\u001b[0mmultiple\u001b[0m\u001b[0;34m=\u001b[0m\u001b[0;32mTrue\u001b[0m\u001b[0;34m)\u001b[0m\u001b[0;34m\u001b[0m\u001b[0;34m\u001b[0m\u001b[0m\n\u001b[0m\u001b[1;32m     47\u001b[0m   \u001b[0;31m# Mapping from original filename to filename as saved locally.\u001b[0m\u001b[0;34m\u001b[0m\u001b[0;34m\u001b[0m\u001b[0;34m\u001b[0m\u001b[0m\n\u001b[1;32m     48\u001b[0m   \u001b[0mlocal_filenames\u001b[0m \u001b[0;34m=\u001b[0m \u001b[0mdict\u001b[0m\u001b[0;34m(\u001b[0m\u001b[0;34m)\u001b[0m\u001b[0;34m\u001b[0m\u001b[0;34m\u001b[0m\u001b[0m\n",
            "\u001b[0;32m/usr/local/lib/python3.7/dist-packages/google/colab/files.py\u001b[0m in \u001b[0;36m_upload_files\u001b[0;34m(multiple)\u001b[0m\n\u001b[1;32m    121\u001b[0m   result = _output.eval_js(\n\u001b[1;32m    122\u001b[0m       'google.colab._files._uploadFiles(\"{input_id}\", \"{output_id}\")'.format(\n\u001b[0;32m--> 123\u001b[0;31m           input_id=input_id, output_id=output_id))\n\u001b[0m\u001b[1;32m    124\u001b[0m   \u001b[0mfiles\u001b[0m \u001b[0;34m=\u001b[0m \u001b[0m_collections\u001b[0m\u001b[0;34m.\u001b[0m\u001b[0mdefaultdict\u001b[0m\u001b[0;34m(\u001b[0m\u001b[0m_six\u001b[0m\u001b[0;34m.\u001b[0m\u001b[0mbinary_type\u001b[0m\u001b[0;34m)\u001b[0m\u001b[0;34m\u001b[0m\u001b[0;34m\u001b[0m\u001b[0m\n\u001b[1;32m    125\u001b[0m \u001b[0;34m\u001b[0m\u001b[0m\n",
            "\u001b[0;32m/usr/local/lib/python3.7/dist-packages/google/colab/output/_js.py\u001b[0m in \u001b[0;36meval_js\u001b[0;34m(script, ignore_result, timeout_sec)\u001b[0m\n\u001b[1;32m     38\u001b[0m   \u001b[0;32mif\u001b[0m \u001b[0mignore_result\u001b[0m\u001b[0;34m:\u001b[0m\u001b[0;34m\u001b[0m\u001b[0;34m\u001b[0m\u001b[0m\n\u001b[1;32m     39\u001b[0m     \u001b[0;32mreturn\u001b[0m\u001b[0;34m\u001b[0m\u001b[0;34m\u001b[0m\u001b[0m\n\u001b[0;32m---> 40\u001b[0;31m   \u001b[0;32mreturn\u001b[0m \u001b[0m_message\u001b[0m\u001b[0;34m.\u001b[0m\u001b[0mread_reply_from_input\u001b[0m\u001b[0;34m(\u001b[0m\u001b[0mrequest_id\u001b[0m\u001b[0;34m,\u001b[0m \u001b[0mtimeout_sec\u001b[0m\u001b[0;34m)\u001b[0m\u001b[0;34m\u001b[0m\u001b[0;34m\u001b[0m\u001b[0m\n\u001b[0m\u001b[1;32m     41\u001b[0m \u001b[0;34m\u001b[0m\u001b[0m\n\u001b[1;32m     42\u001b[0m \u001b[0;34m\u001b[0m\u001b[0m\n",
            "\u001b[0;32m/usr/local/lib/python3.7/dist-packages/google/colab/_message.py\u001b[0m in \u001b[0;36mread_reply_from_input\u001b[0;34m(message_id, timeout_sec)\u001b[0m\n\u001b[1;32m    104\u001b[0m         reply.get('colab_msg_id') == message_id):\n\u001b[1;32m    105\u001b[0m       \u001b[0;32mif\u001b[0m \u001b[0;34m'error'\u001b[0m \u001b[0;32min\u001b[0m \u001b[0mreply\u001b[0m\u001b[0;34m:\u001b[0m\u001b[0;34m\u001b[0m\u001b[0;34m\u001b[0m\u001b[0m\n\u001b[0;32m--> 106\u001b[0;31m         \u001b[0;32mraise\u001b[0m \u001b[0mMessageError\u001b[0m\u001b[0;34m(\u001b[0m\u001b[0mreply\u001b[0m\u001b[0;34m[\u001b[0m\u001b[0;34m'error'\u001b[0m\u001b[0;34m]\u001b[0m\u001b[0;34m)\u001b[0m\u001b[0;34m\u001b[0m\u001b[0;34m\u001b[0m\u001b[0m\n\u001b[0m\u001b[1;32m    107\u001b[0m       \u001b[0;32mreturn\u001b[0m \u001b[0mreply\u001b[0m\u001b[0;34m.\u001b[0m\u001b[0mget\u001b[0m\u001b[0;34m(\u001b[0m\u001b[0;34m'data'\u001b[0m\u001b[0;34m,\u001b[0m \u001b[0;32mNone\u001b[0m\u001b[0;34m)\u001b[0m\u001b[0;34m\u001b[0m\u001b[0;34m\u001b[0m\u001b[0m\n\u001b[1;32m    108\u001b[0m \u001b[0;34m\u001b[0m\u001b[0m\n",
            "\u001b[0;31mMessageError\u001b[0m: TypeError: google.colab._files is undefined"
          ]
        }
      ],
      "source": [
        "from google.colab import files\n",
        "uploaded = files.upload()"
      ]
    },
    {
      "cell_type": "code",
      "execution_count": null,
      "metadata": {
        "id": "nRa8WT2b0Pvx"
      },
      "outputs": [],
      "source": [
        "open('Data/Wuhan-Hu-1_19A.fasta', 'r')"
      ]
    },
    {
      "cell_type": "markdown",
      "metadata": {
        "id": "MCatsPzW0Pvx"
      },
      "source": [
        "`r` means that you are opening the file for reading. Other options could be to wipe down and write something into the file (`w`) or to append new information to it (`a`). We can do both things at the same time as well (`r+`).\n",
        "\n",
        "If a string with the relative file path is passed, but no additional argument is provided, python will assume we are only reading the file."
      ]
    },
    {
      "cell_type": "code",
      "execution_count": null,
      "metadata": {
        "id": "xow73c6_0Pvy"
      },
      "outputs": [],
      "source": [
        "open('Data/Wuhan-Hu-1_19A.fasta')"
      ]
    },
    {
      "cell_type": "markdown",
      "metadata": {
        "id": "2kSXAMiA0Pvy"
      },
      "source": [
        "Like other Python objects, we can use variables to store file content in memory."
      ]
    },
    {
      "cell_type": "code",
      "execution_count": null,
      "metadata": {
        "id": "KI83RGbw0Pvy"
      },
      "outputs": [],
      "source": [
        "ref_sequence_file = open('Data/Wuhan-Hu-1_19A.fasta', 'r')"
      ]
    },
    {
      "cell_type": "code",
      "execution_count": null,
      "metadata": {
        "id": "RoQ4qGBt0Pvy"
      },
      "outputs": [],
      "source": [
        "ref_sequence_file"
      ]
    },
    {
      "cell_type": "markdown",
      "metadata": {
        "id": "ejmwH7XI0Pvz"
      },
      "source": [
        "Lines in text files (like in FASTA format) are usually read as `strings`.\n",
        "\n",
        "A good practice when reading files (or lines in text files) is to use the `with` keyword (see link at the bottom of this notebook). As you saw a few lines before, we have to `open` a file and it is important to ensure it is closed after reading. The `with` statement takes charge of doing it properly when its inner block of code ends."
      ]
    },
    {
      "cell_type": "code",
      "execution_count": null,
      "metadata": {
        "id": "lLiDLv400Pvz"
      },
      "outputs": [],
      "source": [
        "ref_sequence_file.closed"
      ]
    },
    {
      "cell_type": "code",
      "execution_count": null,
      "metadata": {
        "id": "3NDVCMgu0Pvz"
      },
      "outputs": [],
      "source": [
        "ref_sequence_file.close()"
      ]
    },
    {
      "cell_type": "code",
      "execution_count": null,
      "metadata": {
        "id": "tcHya2cZ0Pvz"
      },
      "outputs": [],
      "source": [
        "with open('Data/Wuhan-Hu-1_19A.fasta', 'r') as ref_sequence_file:\n",
        "    file = ref_sequence_file.read()\n",
        "    print(file)"
      ]
    },
    {
      "cell_type": "markdown",
      "source": [
        "> **NOTE:** Using `with` makes sure the file is closed after we finish using it."
      ],
      "metadata": {
        "id": "WRpXdCCHEQ2z"
      }
    },
    {
      "cell_type": "markdown",
      "metadata": {
        "id": "L8_lhVlg0Pv0"
      },
      "source": [
        "We learned previously many functions and methods that can be used to manipulate `strings`.\n",
        "\n",
        "Now, we are going to convert the multiple lines representing the sequence of one single SARS-CoV-2 variant into a single string. For this purpose, we must:\n",
        "\n",
        " * Create a variable to store a string (our virus sequence)\n",
        " * Read each line of the file\n",
        "  * For each line, we have to check if it starts with a `>`\n",
        "   * If it does not, then we have to add that line to a variable we've just created\n",
        "\n",
        "Now we are going to see additional methods:\n",
        " * `startswith`\n",
        " * `strip`\n",
        "\n",
        "For this, we will practice `for` loops and `conditionals`."
      ]
    },
    {
      "cell_type": "code",
      "execution_count": null,
      "metadata": {
        "id": "IA2C1Z5W0Pv0"
      },
      "outputs": [],
      "source": [
        "with open('Data/Wuhan-Hu-1_19A.fasta', 'r') as ref_sequence_file:\n",
        "    print(ref_sequence_file.readline())"
      ]
    },
    {
      "cell_type": "markdown",
      "metadata": {
        "id": "nNo4IBDz0Pv0"
      },
      "source": [
        "After python reads the file, every time `readline` is called, it will print the next line in that file. This will be done until it is closed or until the blocks of code inside the `with` keyword finish.\n"
      ]
    },
    {
      "cell_type": "code",
      "execution_count": null,
      "metadata": {
        "id": "88YvkitF0Pv1"
      },
      "outputs": [],
      "source": [
        "with open('Data/Wuhan-Hu-1_19A.fasta', 'r') as ref_sequence_file:\n",
        "    print(ref_sequence_file.readline())\n",
        "    print(ref_sequence_file.readline())"
      ]
    },
    {
      "cell_type": "markdown",
      "metadata": {
        "id": "J5e_bqxf0Pv1"
      },
      "source": [
        "The file object `ref_sequence_file` we created can be iterated through with a `for` loop, similarly to how we did earlier with lists, dictionaries and strings, to analyze each line of the file as a string:"
      ]
    },
    {
      "cell_type": "code",
      "execution_count": null,
      "metadata": {
        "id": "Qek7wdmp0Pv1"
      },
      "outputs": [],
      "source": [
        "with open('Data/Wuhan-Hu-1_19A.fasta', 'r') as ref_sequence_file:\n",
        "    for line in ref_sequence_file:\n",
        "        if not line.startswith('>'):\n",
        "            print(line)"
      ]
    },
    {
      "cell_type": "markdown",
      "source": [
        ">**NOTE:** Files are iterable!"
      ],
      "metadata": {
        "id": "s-krslCoE9GO"
      }
    },
    {
      "cell_type": "markdown",
      "metadata": {
        "id": "8JxPyRzd0Pv2"
      },
      "source": [
        "There are at least two methods that can be used to remove the additional new line after reading each line: `strp` and `replace`. We already learned how to use the `replace` one. Let's try the former."
      ]
    },
    {
      "cell_type": "code",
      "execution_count": null,
      "metadata": {
        "id": "Yc7sI1mN0Pv2"
      },
      "outputs": [],
      "source": [
        "with open('Data/Wuhan-Hu-1_19A.fasta', 'r') as ref_sequence_file:\n",
        "    for line in ref_sequence_file:\n",
        "        if not line.startswith('>'):\n",
        "            print(line.strip('\\n'))"
      ]
    },
    {
      "cell_type": "markdown",
      "metadata": {
        "id": "0gKOLely0Pv2"
      },
      "source": [
        "We are almost there!\n",
        "\n",
        "Now, let's go back to the first step in our algorithm and create a variable able to store this information:"
      ]
    },
    {
      "cell_type": "code",
      "execution_count": null,
      "metadata": {
        "id": "j0JLeMsj0Pv2"
      },
      "outputs": [],
      "source": [
        "wuhan_variant_seq = ''\n",
        "\n",
        "with open('Data/Wuhan-Hu-1_19A.fasta', 'r') as ref_sequence_file:\n",
        "    for line in ref_sequence_file:\n",
        "        if not line.startswith('>'):\n",
        "            wuhan_variant_seq = wuhan_variant_seq + line.strip('\\n')"
      ]
    },
    {
      "cell_type": "code",
      "execution_count": null,
      "metadata": {
        "id": "hgXZCt5w0Pv3"
      },
      "outputs": [],
      "source": [
        "wuhan_variant_seq"
      ]
    },
    {
      "cell_type": "markdown",
      "metadata": {
        "id": "VAREbdrwM2bX"
      },
      "source": [
        "It works!"
      ]
    },
    {
      "cell_type": "markdown",
      "metadata": {
        "id": "_TBwRcOd4q3j"
      },
      "source": [
        "The code above is already working really well for files containing a single sequence. However, to read multi-sequence FASTA files, some refinements are needed.\n",
        "\n",
        "In the multi-FASTA format, different sequences are separated with description lines (those starting with the `>` character), each description line marking the beginning of a new sequence and providing an identifier and a short description text to it. Therefore, each time we encounter a line starting with `>` we must extract the sequence's name (identifier) from it and proceed to record the following lines as the content of that sequence specifically. \n",
        "\n",
        "To store each sequence content separately, we attribute them to different entries of a dictionary as we did before."
      ]
    },
    {
      "cell_type": "code",
      "execution_count": null,
      "metadata": {
        "id": "fJ8tnlId0Pv9"
      },
      "outputs": [],
      "source": [
        "# Create an empty dictionary and store it in a variable called spike_proteins\n",
        "spike_proteins = {}\n",
        "\n",
        "# Open the fasta file and store it in the spike_proteins_fasta variable\n",
        "with open('Data/spike_proteins.fasta') as spike_proteins_fasta:\n",
        "    # Iterate across the file lines\n",
        "    for line in spike_proteins_fasta:\n",
        "        # If the current line is a description line\n",
        "        if line.startswith('>'):\n",
        "            # Get the variant's name from the description line\n",
        "            variant_name = line.strip(' >\\n').split()[0]\n",
        "            # Create a new dictionary item with variant_name as the key and an\n",
        "            # empty string as the value\n",
        "            spike_proteins[variant_name] = ''\n",
        "        else:\n",
        "            # Append the sequence piece to the coresponding dictionary item\n",
        "            spike_proteins[variant_name] += line.strip()"
      ]
    },
    {
      "cell_type": "code",
      "source": [
        "spike_proteins"
      ],
      "metadata": {
        "colab": {
          "base_uri": "https://localhost:8080/",
          "height": 169
        },
        "id": "g8yo1fxuFTGe",
        "outputId": "84aa0fe6-1cfa-4a2d-b92f-298bc5cfa139"
      },
      "execution_count": 10,
      "outputs": [
        {
          "output_type": "error",
          "ename": "NameError",
          "evalue": "ignored",
          "traceback": [
            "\u001b[0;31m---------------------------------------------------------------------------\u001b[0m",
            "\u001b[0;31mNameError\u001b[0m                                 Traceback (most recent call last)",
            "\u001b[0;32m<ipython-input-10-bb3b8af7e6ba>\u001b[0m in \u001b[0;36m<module>\u001b[0;34m()\u001b[0m\n\u001b[0;32m----> 1\u001b[0;31m \u001b[0mspike_proteins\u001b[0m\u001b[0;34m\u001b[0m\u001b[0;34m\u001b[0m\u001b[0m\n\u001b[0m",
            "\u001b[0;31mNameError\u001b[0m: name 'spike_proteins' is not defined"
          ]
        }
      ]
    },
    {
      "cell_type": "markdown",
      "metadata": {
        "id": "_x5FiPGFM-xv"
      },
      "source": [
        "Now we can read multi-FASTA files as well!"
      ]
    },
    {
      "cell_type": "markdown",
      "metadata": {
        "id": "K0bHbHlxBDGz"
      },
      "source": [
        "But what if several cells of code later we realize there are some more files we need to read? Based on what we've been doing, one might be tempted to simply copy-paste the cell above. However, having to do this multiple times can get highly impractical. Tomorrow we will revisit this issue in more detail and provide ways for you to get around it."
      ]
    },
    {
      "cell_type": "markdown",
      "metadata": {
        "id": "0tWYGY9m0Pv8"
      },
      "source": [
        "## Second day - July 7th, 2022"
      ]
    },
    {
      "cell_type": "markdown",
      "metadata": {
        "id": "p_4SbVcK0Pv8",
        "tags": []
      },
      "source": [
        "<div id='m4' />\n",
        "\n",
        "### M4: Functions\n",
        "[Back to table of contents](#table-of-contents)\n",
        "\n",
        "**Estimated study load**: 80 minutes\n",
        "\n",
        "**Learning objectives**\n",
        "* Functions and modules"
      ]
    },
    {
      "cell_type": "markdown",
      "metadata": {
        "id": "PviXjjgf0Pv8"
      },
      "source": [
        "Note that in previous cells we used a lot of repeated, copy-pasted code. Revisiting them you will notice a lot of very similar cells, differing only regarding a few lines, a file path, or maybe a variable's name.\n",
        "\n",
        "Consider the case in which you want to read several fasta files, saving each one's data into its variable, uniquely named. Following the previous cells, one might be tempted to do this as follows:"
      ]
    },
    {
      "cell_type": "code",
      "execution_count": null,
      "metadata": {
        "id": "Iys4y961CbKC"
      },
      "outputs": [],
      "source": [
        "envelope_fasta = 'Data/envelope_protein.fasta'\n",
        "nucleocapsid_fasta = 'Data/nucleocapsid_phosphoprotein.fasta'\n",
        "surface_fasta = 'Data/surface_glycoprotein.fasta'\n",
        "\n",
        "proteins = {}\n",
        "\n",
        "with open(envelope_fasta) as proteins_fasta:\n",
        "    for line in proteins_fasta:\n",
        "        if line.startswith('>'):\n",
        "            variant_name = line.strip(' >\\n').split()[0]\n",
        "            proteins[variant_name] = ''\n",
        "        else:\n",
        "            proteins[variant_name] += line.strip()\n",
        "\n",
        "with open(nucleocapsid_fasta) as proteins_fasta:\n",
        "    for line in proteins_fasta:\n",
        "        if line.startswith('>'):\n",
        "            variant_name = line.strip(' >\\n').split()[0]\n",
        "            proteins[variant_name] = ''\n",
        "        else:\n",
        "            proteins[variant_name] += line.strip()\n",
        "\n",
        "with open(surface_fasta) as proteins_fasta:\n",
        "    for line in proteins_fasta:\n",
        "        if line.startswith('>'):\n",
        "            variant_name = line.strip(' >\\n').split()[0]\n",
        "            proteins[variant_name] = ''\n",
        "        else:\n",
        "            proteins[variant_name] += line.strip()\n"
      ]
    },
    {
      "cell_type": "markdown",
      "metadata": {
        "id": "qrdCzLWkHYpq"
      },
      "source": [
        "Or, as shown yesterday, at least read the files altogether with a `for` loop:"
      ]
    },
    {
      "cell_type": "code",
      "execution_count": null,
      "metadata": {
        "id": "GvTxE1ayHnmy"
      },
      "outputs": [],
      "source": [
        "fasta_files = [\n",
        "    'Data/envelope_protein.fasta'\n",
        "    'Data/nucleocapsid_phosphoprotein.fasta'\n",
        "    'Data/surface_glycoprotein.fasta'\n",
        "]\n",
        "\n",
        "proteins = {}\n",
        "\n",
        "for file_path in fasta_files:\n",
        "    with open(file_path) as proteins_fasta:\n",
        "        for line in proteins_fasta:\n",
        "            if line.startswith('>'):\n",
        "                variant_name = line.strip(' >\\n').split()[0]\n",
        "                proteins[variant_name] = ''\n",
        "            else:\n",
        "                proteins[variant_name] += line.strip()"
      ]
    },
    {
      "cell_type": "markdown",
      "metadata": {
        "id": "18NijPsWHxED"
      },
      "source": [
        "Even so, we still had to copy that code from the previous cell and will need to do it again if more FASTA files come up to be read."
      ]
    },
    {
      "cell_type": "markdown",
      "metadata": {
        "id": "3NniFazHCw1-"
      },
      "source": [
        "However, an important goal we should have while writing programs is to avoid repetitions like that as much as we can. Repeated code is often much harder to be adapted, corrected, and improved by yourself and other programmers who might use your code in the future, because each tiny change has to be reproduced across all copy-pasted sections making updating your code a laborious and error-prone task.\n",
        "\n",
        "For instance, imagine you realize that the sequences you have been reading contain soft-masked basepairs, i.e. lower case characters indicating low confidence in these sequenced regions. If you intend to ignore this information and use upper case for easier sequence comparison afterwards, you would then modify the fasta reading procedure to the following:"
      ]
    },
    {
      "cell_type": "code",
      "execution_count": null,
      "metadata": {
        "id": "xZPWY_MSKNL9"
      },
      "outputs": [],
      "source": [
        "fasta_files = [\n",
        "    'Data/envelope_protein.fasta'\n",
        "    'Data/nucleocapsid_phosphoprotein.fasta'\n",
        "    'Data/surface_glycoprotein.fasta'\n",
        "]\n",
        "\n",
        "proteins = {}\n",
        "\n",
        "for file_path in fasta_files:\n",
        "    with open(file_path) as proteins_fasta:\n",
        "        for line in proteins_fasta:\n",
        "            if line.startswith('>'):\n",
        "                variant_name = line.strip(' >\\n').split()[0]\n",
        "                proteins[variant_name] = ''\n",
        "            else:\n",
        "                # The only modified line:\n",
        "                proteins[variant_name] += line.strip().upper()"
      ]
    },
    {
      "cell_type": "markdown",
      "metadata": {
        "id": "QjIB6r-4IJkO"
      },
      "source": [
        "Note that every single part of the code in which you have read a FASTA file now needs this small modification, and now you have to go through all your code, searching for all of them, worrying about missing some.\n",
        "\n",
        "Given there are only a few small additions needed throughout this notebook, you might not be convinced yet of the burden's size. Imagine though you have written a huge set of programs, with dozens of FASTA reads spread across multiple files. The work a simple update will cost you may quickly escalate if your code is full of those redundancies. So yes,\n",
        "\n",
        "> **NOTE:** Redundant code is much more laborious and error-prone to be corrected and updated.\n",
        "\n",
        "But how can we solve that? A crucial concept in almost every programming language to deal with this kind of situation is called **functions**. Functions enable us to wrap and concisely reuse important pieces of code. Let's wrap the fasta reading procedure we came up with earlier."
      ]
    },
    {
      "cell_type": "code",
      "execution_count": null,
      "metadata": {
        "id": "XVkHS0jJ7dio"
      },
      "outputs": [],
      "source": [
        "def read_fasta(filepath):\n",
        "    result = {}\n",
        "\n",
        "    with open(filepath) as protein_fasta:\n",
        "        for line in protein_fasta:\n",
        "            if line.startswith('>'):\n",
        "                sequence_name = line.strip(' >\\n').split()[0]\n",
        "                result[sequence_name] = ''\n",
        "            else:\n",
        "                result[sequence_name] += line.strip().upper()\n",
        "\n",
        "    return result"
      ]
    },
    {
      "cell_type": "markdown",
      "metadata": {
        "id": "R4jYE9O8RCtu"
      },
      "source": [
        "Now, reading three different fasta files is as simple as doing:"
      ]
    },
    {
      "cell_type": "code",
      "execution_count": null,
      "metadata": {
        "id": "DvCcVWBmQ_Hd"
      },
      "outputs": [],
      "source": [
        "envelope_seq = read_fasta(filepath='Data/envelope_protein.fasta')\n",
        "nucleocapsid_seq = read_fasta(filepath='Data/nucleocapsid_phosphoprotein.fasta')\n",
        "# Specifying 'filepath=' is optional.\n",
        "surface_seq = read_fasta('Data/surface_glycoprotein.fasta')"
      ]
    },
    {
      "cell_type": "markdown",
      "metadata": {
        "id": "o-1uVdD-CoB8"
      },
      "source": [
        "> **Note:** Functions can make your code much cleaner, concise and readable."
      ]
    },
    {
      "cell_type": "markdown",
      "metadata": {
        "id": "bk2064WH8sa0"
      },
      "source": [
        "But let's dive into how the function syntax works.\n",
        "\n",
        "The `def` keyword is used to define functions. We then provide a name for our function (before parentheses) and a bunch of names (inside parentheses) for variables we would like to change each time we run the code below them. These variables are what we call **arguments** or **parameters** of a function. This first line of code is called the function **header**. The indented lines below the header (the function's **body**) will be executed every time we write the function's name followed by parentheses and a set of parameter values (a function **call**)."
      ]
    },
    {
      "cell_type": "code",
      "execution_count": null,
      "metadata": {
        "id": "lVqsraNnATqF"
      },
      "outputs": [],
      "source": [
        "# Anatomy of a function definition.\n",
        "\n",
        "# Function's header.\n",
        "def function_name(parameter_1, parameter_2, parameter_3):\n",
        "    # Function's body.\n",
        "    # Code...\n",
        "    # More code...\n",
        "    # Doing a lot of stuff here.\n",
        "    return result_of_our_code"
      ]
    },
    {
      "cell_type": "markdown",
      "metadata": {
        "id": "cMuDpRMUBsVC"
      },
      "source": [
        "Normally, every variable we create inside a function cannot be accessed outside of it. To \"export\" the results of our computation, we must then use the `return` keyword, terminating the function execution and exposing back to the main program the values we intended to get in the first place when calling the function. Let's take a look at one more example."
      ]
    },
    {
      "cell_type": "code",
      "execution_count": null,
      "metadata": {
        "id": "-ZJq3NTyG_d8"
      },
      "outputs": [],
      "source": [
        "def dna_to_rna(dna_sequence):\n",
        "    rna_sequence = ''\n",
        "    \n",
        "    for bp in dna_sequence:\n",
        "        if bp == 't':\n",
        "            rna_sequence += 'u'\n",
        "        elif bp == 'T':\n",
        "            rna_sequence += 'U'\n",
        "        else:\n",
        "            rna_sequence += bp\n",
        "\n",
        "    return rna_sequence"
      ]
    },
    {
      "cell_type": "markdown",
      "metadata": {
        "id": "-Mg3TI2hIsp-"
      },
      "source": [
        "We have defined a function to convert a DNA string to an RNA equivalent. Now we can call our new function on a random example sequence:"
      ]
    },
    {
      "cell_type": "code",
      "execution_count": null,
      "metadata": {
        "id": "HHql_ookH-RE"
      },
      "outputs": [],
      "source": [
        "rna = dna_to_rna(dna_sequence='ggatgtggtgaGATGAGtagtGATGGATGATGT')\n",
        "print(rna)"
      ]
    },
    {
      "cell_type": "markdown",
      "metadata": {
        "id": "V_r5i652LG9W"
      },
      "source": [
        "What happens can be imagined as if the value returned from the function body (using the `return` keyword) would \"replace\" the whole function call in the \"external\" code. In our example, if the variable `rna_sequence` inside the function scope holds the returned value, we could understand what happens as if we were running the following code:"
      ]
    },
    {
      "cell_type": "code",
      "execution_count": null,
      "metadata": {
        "id": "9gPezM-DOIHa"
      },
      "outputs": [],
      "source": [
        "# We call the dna_to_rna function.\n",
        "rna = dna_to_rna('ggatgtggtgaGATGAGtagtGATGGATGATGT')\n",
        "# Side note: in the function call, we can provide only the values we want to\n",
        "# set to our parameters (only one in this case), without specifying their\n",
        "# names. Their identity is inferred from the order in which they are\n",
        "# presented.\n",
        "\n",
        "# >>>> Entering the function scope.\n",
        "# Inside the function body, that's what will happen.\n",
        "\n",
        "# The function parameters receive their values based on the function call.\n",
        "dna_sequence = 'ggatgtggtgaGATGAGtagtGATGGATGATGT'\n",
        "\n",
        "# The function body is executed with the defined parameters.\n",
        "rna_sequence = ''\n",
        "\n",
        "for bp in dna_sequence:\n",
        "    if bp == 't':\n",
        "        rna_sequence += 'u'\n",
        "    elif bp == 'T':\n",
        "        rna_sequence += 'U'\n",
        "    else:\n",
        "        rna_sequence += bp\n",
        "\n",
        "# return rna_sequence\n",
        "# <<<< Exiting the function scope.\n",
        "\n",
        "# We exit the function and return to the first code line of this cell,\n",
        "# where the function was called, substituting the call by the returned\n",
        "# value.\n",
        "rna = rna_sequence\n",
        "# Continue to the remaining of the code after the function call.\n",
        "print(rna)"
      ]
    },
    {
      "cell_type": "markdown",
      "metadata": {
        "id": "djTOy8hjTWqM"
      },
      "source": [
        "The above thus represents the following \"transformation\":"
      ]
    },
    {
      "cell_type": "code",
      "execution_count": null,
      "metadata": {
        "id": "K9i9lqv9Sr8f"
      },
      "outputs": [],
      "source": [
        "rna = dna_to_rna('ggatgtggtgaGATGAGtagtGATGGATGATGT')\n",
        "#         |    |    |\n",
        "#         V    V    V\n",
        "rna = 'ggauguggugaGAUGAGuaguGAUGGAUGAUGU'"
      ]
    },
    {
      "cell_type": "markdown",
      "metadata": {
        "id": "t8JfSdDfaZSm"
      },
      "source": [
        "Functions are everywhere. Some functions we have been using, such as `print()` or `enumerate()`, are already pre-defined in any program and available to use anytime we would like so. For that reason, we often call them *built-in* functions, as we saw earlier. Some other functions exist \"inside\" another object in Python. In such cases, we use the dot notation to indicate an  object\n",
        "belongs to or is contained inside another:"
      ]
    },
    {
      "cell_type": "code",
      "execution_count": null,
      "metadata": {
        "id": "6pJVSVOWcita"
      },
      "outputs": [],
      "source": [
        "list(rbd_segment.keys())"
      ]
    },
    {
      "cell_type": "markdown",
      "metadata": {
        "id": "W3XQQtjbdDpy"
      },
      "source": [
        "The function `keys()` lives \"inside\" or \"belongs to\" the dictionary we stored earlier in the variable `rbd_segment`. When called, it returns the keys of the dictionary in `rbd_segment`."
      ]
    },
    {
      "cell_type": "markdown",
      "metadata": {
        "id": "3uQ7_xjjeF5x"
      },
      "source": [
        "We give those \"functions belonging to objects\" the slightly different name **methods**, but their role remains essentially the same: wrapping and reusing useful code. We thus say `keys()` is a method of dictionaries, in the same way, `replace()` and `join()` are string methods.\n"
      ]
    },
    {
      "cell_type": "markdown",
      "metadata": {
        "id": "cjU0H-VaCQJQ"
      },
      "source": [
        "> **NOTE:** Methods are functions \"inside\" or \"belonging to\" Python objects."
      ]
    },
    {
      "cell_type": "markdown",
      "metadata": {
        "id": "dx5KPgq8krjv"
      },
      "source": [
        "Functions and modules concepts will be revisited in the following sections."
      ]
    },
    {
      "cell_type": "markdown",
      "metadata": {
        "id": "hJBXwH_o0Pv8"
      },
      "source": [
        "<div id='m5' />\n",
        "\n",
        "### M5: Comparing biological sequences\n",
        "[Back to table of contents](#table-of-contents)\n",
        "\n",
        "**Estimated study load**: 50 minutes\n",
        "**Learning objectives**\n",
        "* Comparing biological sequences"
      ]
    },
    {
      "cell_type": "markdown",
      "metadata": {
        "id": "lJCwpxxQ0Pv8"
      },
      "source": [
        "#### Reading spike protein sequences\n",
        "In this block, we will see how we can compare biological sequences using some of these powerful tools Python provides us.\n",
        "\n",
        "Let's revisit the sequences of different SARS-CoV-2 spike proteins we have been using. We now have a function to import those sequences from a FASTA file and store them in a dictionary:"
      ]
    },
    {
      "cell_type": "code",
      "execution_count": 21,
      "metadata": {
        "id": "xrHnrxIu0Pv-",
        "tags": [],
        "colab": {
          "base_uri": "https://localhost:8080/",
          "height": 187
        },
        "outputId": "e8363205-b221-464c-ac55-810135a0b12d"
      },
      "outputs": [
        {
          "output_type": "error",
          "ename": "NameError",
          "evalue": "ignored",
          "traceback": [
            "\u001b[0;31m---------------------------------------------------------------------------\u001b[0m",
            "\u001b[0;31mNameError\u001b[0m                                 Traceback (most recent call last)",
            "\u001b[0;32m<ipython-input-21-cba6010c803c>\u001b[0m in \u001b[0;36m<module>\u001b[0;34m()\u001b[0m\n\u001b[0;32m----> 1\u001b[0;31m \u001b[0mspike_proteins\u001b[0m \u001b[0;34m=\u001b[0m \u001b[0mread_fasta\u001b[0m\u001b[0;34m(\u001b[0m\u001b[0;34m'Data/spike_proteins.fasta'\u001b[0m\u001b[0;34m)\u001b[0m\u001b[0;34m\u001b[0m\u001b[0;34m\u001b[0m\u001b[0m\n\u001b[0m\u001b[1;32m      2\u001b[0m \u001b[0mprint\u001b[0m\u001b[0;34m(\u001b[0m\u001b[0mspike_proteins\u001b[0m\u001b[0;34m)\u001b[0m\u001b[0;34m\u001b[0m\u001b[0;34m\u001b[0m\u001b[0m\n",
            "\u001b[0;31mNameError\u001b[0m: name 'read_fasta' is not defined"
          ]
        }
      ],
      "source": [
        "spike_proteins = read_fasta('Data/spike_proteins.fasta')\n",
        "print(spike_proteins)"
      ]
    },
    {
      "cell_type": "markdown",
      "source": [
        "> **Side note:** This is how we retrieved the RBD segments for the first example! See if you can understand what is going on."
      ],
      "metadata": {
        "id": "ZfaChuE2Iage"
      }
    },
    {
      "cell_type": "code",
      "execution_count": 12,
      "metadata": {
        "id": "Vh4ikJYJmGEz",
        "colab": {
          "base_uri": "https://localhost:8080/"
        },
        "outputId": "48028ec2-ccf0-4525-856f-0da83409032b"
      },
      "outputs": [
        {
          "output_type": "stream",
          "name": "stdout",
          "text": [
            "alpha = RLFRKSNLKPFERDISTEIYQAGSTPCNGVEGFNCYFPLQSYGFQPTYGV\n",
            "beta = RLFRKSNLKPFERDISTEIYQAGSTPCNGVKGFNCYFPLQSYGFQPTYGV\n",
            "gamma = YLYRLFRKSNLKPFERDISTEIYQAGSTPCNGVKGFNCYFPLQSYGFQPT\n",
            "delta = YRLFRKSNLKPFERDISTEIYQAGSKPCNGVEGFNCYFPLQSYGFQPTNG\n",
            "omicron = RLFRKSNLKPFERDISTEIYQAGNKPCNGVAGFNCYFPLRSYSFRPTYGV\n",
            "omicron = RLFRKSNLKPFERDISTEIYQAGNKPCNGVAGFNCYFPLRSYGFRPTYGV\n"
          ]
        }
      ],
      "source": [
        "for variant, sequence in spike_proteins.items():\n",
        "    print(variant.lower().split('_')[0], '=', sequence[450:500])"
      ]
    },
    {
      "cell_type": "markdown",
      "metadata": {
        "id": "45NnWCmS0Pv-"
      },
      "source": [
        "Now that we have those sequences in a convenient format for our explorations, how can we begin extracting useful information from them? How can we determine conserved regions and important residue insertions, deletions, and substitutions?\n",
        "\n",
        "A first approach might come up as the following function."
      ]
    },
    {
      "cell_type": "code",
      "execution_count": 13,
      "metadata": {
        "id": "5qchJxFi0Pv-"
      },
      "outputs": [],
      "source": [
        "def seq_align_1(seq1, seq2):\n",
        "    alignment = ''\n",
        "\n",
        "    for residue1, residue2 in zip(seq1, seq2):\n",
        "        if residue1 == residue2:\n",
        "            alignment += residue1\n",
        "        else:\n",
        "            alignment += '.'\n",
        "\n",
        "    return alignment "
      ]
    },
    {
      "cell_type": "markdown",
      "source": [
        "> **Side note:** The built-in function `zip` can be used to iterate through two or more sequences at the same time. How would you rewrite our function above to work without using `zip`?"
      ],
      "metadata": {
        "id": "OM6-Jc_wJnVq"
      }
    },
    {
      "cell_type": "markdown",
      "metadata": {
        "id": "zVa68DgO0Pv_"
      },
      "source": [
        "The function receives two strings representing the pair of protein sequences we intend to compare. We then compare the first residue of the first protein with the first residue of the second. Then the second residue of the first protein with the second residue of the second. Then the third residue of both proteins, then the fourth, and so on. If the compared residues at each iteration match, we add their one-letter representation to the `alignment` string. Otherwise, we add a `.` character to indicate the mismatch. In the end, the returned `alignment` variable will represent a consensus sequence between the two compared proteins, showing matching residues and omitting mismatched ones with a `.` in their corresponding place."
      ]
    },
    {
      "cell_type": "code",
      "execution_count": 14,
      "metadata": {
        "id": "mA2sDi1z0Pv_",
        "colab": {
          "base_uri": "https://localhost:8080/",
          "height": 35
        },
        "outputId": "94983ecf-bc45-4ede-91e5-9c5d90a754bd"
      },
      "outputs": [
        {
          "output_type": "execute_result",
          "data": {
            "text/plain": [
              "'A..DEF.'"
            ],
            "application/vnd.google.colaboratory.intrinsic+json": {
              "type": "string"
            }
          },
          "metadata": {},
          "execution_count": 14
        }
      ],
      "source": [
        "seq_align_1(\"ABCDEFG\", \"ACBDEFP\")"
      ]
    },
    {
      "cell_type": "markdown",
      "metadata": {
        "id": "qI3ZRWEI0Pv_"
      },
      "source": [
        "But how will our function perform on real-world biological sequences? Let's test it on SARS-CoV-2 data. The labels of available sequences can be shown with"
      ]
    },
    {
      "cell_type": "code",
      "execution_count": 15,
      "metadata": {
        "id": "pcdUrRYN0Pv_",
        "colab": {
          "base_uri": "https://localhost:8080/"
        },
        "outputId": "00818b64-0692-47f4-9ec7-55fa8a10fcf1"
      },
      "outputs": [
        {
          "output_type": "execute_result",
          "data": {
            "text/plain": [
              "dict_keys(['Alpha_B.1.1.7', 'Beta_B.1.351', 'Gamma_P1', 'Delta_B.1.617.2', 'Omicron_BA.1', 'Omicron_BA.2'])"
            ]
          },
          "metadata": {},
          "execution_count": 15
        }
      ],
      "source": [
        "spike_proteins.keys()"
      ]
    },
    {
      "cell_type": "markdown",
      "metadata": {
        "id": "cUgAal580PwA"
      },
      "source": [
        "So let's compare the **Beta_B.1.351** variant with **Alpha_B.1.1.7**:"
      ]
    },
    {
      "cell_type": "code",
      "execution_count": 16,
      "metadata": {
        "id": "Y2XGuYnA0PwA",
        "colab": {
          "base_uri": "https://localhost:8080/"
        },
        "outputId": "a2a82c8a-9103-4ce9-f497-5540a32ec5c7"
      },
      "outputs": [
        {
          "output_type": "stream",
          "name": "stdout",
          "text": [
            "MFVFLVLLPLVSSQCVNLTTRTQLPPAYTNSFTRGVYYPDKVFRSSVLHSTQDLFLPFFSNVTWFHAI................................................................F.............K............................L....G...N.....................................L..L..............LHRSYLTPGDSSSGWTAGAAAYYVGYLQPRTFLLKYNENGTITDAVDCALDPLSETKCTLKSFTVEKGIYQTSNFRVQPTESIVRFPNITNLCPFGEVFNATRFASVYAWNRKRISNCVADYSVLYNSASFSTFKCYGVSPTKLNDLCFTNVYADSFVIRGDEVRQIAPGQTG.IADYNYKLPDDFTGCVIAWNSNNLDSKVGGNYNYLYRLFRKSNLKPFERDISTEIYQAGSTPCNGV.GFNCYFPLQSYGFQPTYGVGYQPYRVVVLSFELLHAPATVCGPKKSTNLVKNKCVNFNFNGLTGTGVLTESNKKFLPFQQFGRDI.DTTDAVRDPQTLEILDITPCSFGGVSVITPGTNTSNQVAVLYQGVNCTEVPVAIHADQLTPTWRVYSTGSNVFQTRAGCLIGAEHVNNSYECDIPIGAGICASYQTQTNS.RRARSVASQSIIAYTMSLG.ENSVAYSNNSIAIP.NFTISVTTEILPVSMTKTSVDCTMYICGDSTECSNLLLQYGSFCTQLNRALTGIAVEQDKNTQEVFAQVKQIYKTPPIKDFGGFNFSQILPDPSKPSKRSFIEDLLFNKVTLADAGFIKQYGDCLGDIAARDLICAQKFNGLTVLPPLLTDEMIAQYTSALLAGTITSGWTFGAGAALQIPFAMQMAYRFNGIGVTQNVLYENQKLIANQFNSAIGKIQDSLSSTASALGKLQDVVNQNAQALNTLVKQLSSNFGAISSVLNDIL.RLDKVEAEVQIDRLITGRLQSLQTYVTQQLIRAAEIRASANLAATKMSECVLGQSKRVDFCGKGYHLMSFPQSAPHGVVFLHVTYVPAQEKNFTTAPAICHDGKAHFPREGVFVSNGTHWFVTQRNFYEPQIITT.NTFVSGNCDVVIGIVNNTVYDPLQPELDSFKEELDKYFKNHTSPDVDLGDISGINASVVNIQKEIDRLNEVAKNLNESLIDLQELGKYEQYIKWPWYIWLGFIAGLIAIVMVTIMLCCMTSCCSCLKGCCSCGSCCKFDEDDSEPVLKGVKLHYT\n"
          ]
        }
      ],
      "source": [
        "alignment = seq_align_1(spike_proteins['Beta_B.1.351'], spike_proteins['Alpha_B.1.1.7'])\n",
        "print(alignment)"
      ]
    },
    {
      "cell_type": "markdown",
      "metadata": {
        "id": "_OBPK9dy0PwA"
      },
      "source": [
        "Although the alignment shows a large mismatching region between both proteins, more careful inspection of the beginning of this region reveals they are not so different as may be thought:"
      ]
    },
    {
      "cell_type": "code",
      "execution_count": 17,
      "metadata": {
        "id": "HcaMhh-y0PwA",
        "colab": {
          "base_uri": "https://localhost:8080/"
        },
        "outputId": "582c91c5-0072-4b1c-eb96-14ab228fe33b"
      },
      "outputs": [
        {
          "output_type": "stream",
          "name": "stdout",
          "text": [
            "TQDLFLPFFSNVTWFHAI................................................................F.............K...\n",
            "TQDLFLPFFSNVTWFHAIHVSGTNGTKRFANPVLPFNDGVYFASTEKSNIIRGWIFGTTLDSKTQSLLIVNNATNVVIKVCEFQFCNDPFLGVYYHKNNK\n",
            "TQDLFLPFFSNVTWFHAISGTNGTKRFDNPVLPFNDGVYFASTEKSNIIRGWIFGTTLDSKTQSLLIVNNATNVVIKVCEFQFCNDPFLGVYHKNNKSWM\n"
          ]
        }
      ],
      "source": [
        "start, end = 50, 150\n",
        "print(alignment[start:end])\n",
        "print(spike_proteins['Beta_B.1.351'][start:end])\n",
        "print(spike_proteins['Alpha_B.1.1.7'][start:end])"
      ]
    },
    {
      "cell_type": "markdown",
      "metadata": {
        "id": "OT-oDjWH0PwA"
      },
      "source": [
        "More specifically, if we consider the histidine-valine pair at positions 67 and 68 as an insertion and realign the sequences from position 70 on, we see a much higher resemblance of both proteins:"
      ]
    },
    {
      "cell_type": "code",
      "execution_count": 18,
      "metadata": {
        "id": "DSh2y_0z0PwA",
        "colab": {
          "base_uri": "https://localhost:8080/"
        },
        "outputId": "b05c2a5a-e811-4adc-c044-0d15c905e83c"
      },
      "outputs": [
        {
          "output_type": "stream",
          "name": "stdout",
          "text": [
            "TQDLFLPFFSNVTWFHAI    SGTNGTKRF.NPVLPFNDGVYFASTEKSNIIRGWIFGTTLDSKTQSLLIVNNATNVVIKVCEFQFCNDPFLGVY...N..\n",
            "TQDLFLPFFSNVTWFHAI(HV)SGTNGTKRFANPVLPFNDGVYFASTEKSNIIRGWIFGTTLDSKTQSLLIVNNATNVVIKVCEFQFCNDPFLGVYYHKNNK\n",
            "TQDLFLPFFSNVTWFHAI    SGTNGTKRFDNPVLPFNDGVYFASTEKSNIIRGWIFGTTLDSKTQSLLIVNNATNVVIKVCEFQFCNDPFLGVYHKNNKS\n"
          ]
        }
      ],
      "source": [
        "start, end = 50, 150\n",
        "istart, iend = 68, 70  # Insertion start, insertion end\n",
        "seqB = spike_proteins['Beta_B.1.351'] \n",
        "seqA = spike_proteins['Alpha_B.1.1.7']\n",
        "blank = ' ' * (iend-istart+2)  # For printing purposes\n",
        "\n",
        "new_alignment = seq_align_1(seqB[iend:], seqA[istart:])\n",
        "\n",
        "print(alignment[start:istart] + blank + new_alignment[:end-iend])\n",
        "print(seqB[start:istart] + '(' + seqB[istart:iend]+ ')' + seqB[iend:end])\n",
        "print(seqA[start:istart] + blank + seqA[istart:end-2])"
      ]
    },
    {
      "cell_type": "markdown",
      "metadata": {
        "id": "6qBsf4d_0PwB"
      },
      "source": [
        "The same issue seems to occur with the tyrosine insertion next to the end of the region shown above, and has a much more drastic effect when comparing other variants such as **Gamma_P1** and **Alpha_B.1.1.7**:"
      ]
    },
    {
      "cell_type": "code",
      "execution_count": 19,
      "metadata": {
        "id": "_k_lP9Xj0PwB",
        "colab": {
          "base_uri": "https://localhost:8080/",
          "height": 268
        },
        "outputId": "cc2e464d-88c0-4a9f-ce31-f98d2f04a372"
      },
      "outputs": [
        {
          "output_type": "execute_result",
          "data": {
            "text/plain": [
              "'MFVFLVLLPLVSSQCVN.T.RTQLP.AYTNSFTRGVYYPDKVFRSSVLHSTQDLFLPFFSNVTWFHAI................................................................F.............K............................L....G...N.....................................L..L..............L..................A.....Y....................D.....L.....T...............................N..........................................F............L.........................G.......................N..............L.R...........................G......................Y.......................................G.............F..F.....D..D..........L.I..............T...N...................A.............S............................................R...S.....................S.......T...................................................................Q............F...........PSK.S............................................L..L..............A.............A..................................N.....I.....S..S....L........Q....L.....................L...................LQ...T...............A..........................................V...................................................T......................P.............K..........D...I...........................L..L.....Y.......W........................SC......C.SC......D........K....'"
            ],
            "application/vnd.google.colaboratory.intrinsic+json": {
              "type": "string"
            }
          },
          "metadata": {},
          "execution_count": 19
        }
      ],
      "source": [
        "seq_align_1(spike_proteins['Gamma_P1'], spike_proteins['Alpha_B.1.1.7'])"
      ]
    },
    {
      "cell_type": "markdown",
      "metadata": {
        "id": "KLNwlO1V0PwB"
      },
      "source": [
        "We then feel the need for more sophisticated alignment functions, capable of\n",
        "\n",
        "1. Taking insertions and deletions into consideration;\n",
        "\n",
        "2. Weighting substitutions differently, based on their probability of occurring in nature. For instance, an alanine to proline substitution is likely to have much more impact on the protein's structure than an alanine to valine substitution;\n",
        "\n",
        "3. Performing local alignments, i.e. identifying highly matching regions instead of a global single alignment and\n",
        "\n",
        "4. Performing not only pairwise but multiple sequence alignments at once.\n",
        "\n",
        "Coming up with algorithms or searching for them in the scientific literature and implementing them as Python functions would cost us considerable time. Luckily, a lot of people have run into this same task, so ready-to-use implementations were already meticulously developed and are available to everyone who needs them.\n",
        "\n",
        "These pre-made functions come in what we call **modules**. Modules can be understood as groups of functions, constants, or any other objects ready to be added, or **imported** to our code at any moment.\n",
        "\n",
        "For instance, if you ever need the $\\pi$ constant or the $\\log(x)$ mathematical function, they can be found inside the built-in module `math`. We can load the `math` module with the `import` keyword as shown below."
      ]
    },
    {
      "cell_type": "code",
      "execution_count": 20,
      "metadata": {
        "id": "RFs5SvYT3KLD",
        "colab": {
          "base_uri": "https://localhost:8080/"
        },
        "outputId": "4fe6157f-9618-4640-81f2-702a152526f6"
      },
      "outputs": [
        {
          "output_type": "stream",
          "name": "stdout",
          "text": [
            "3.141592653589793\n",
            "6.907755278982137\n",
            "3.141592653589793\n",
            "6.907755278982137\n"
          ]
        }
      ],
      "source": [
        "# Modules are imported with the 'import' keyword.\n",
        "import math\n",
        "\n",
        "# We can access constants and functions inside imported modules\n",
        "# using the dot ('.') notation. \n",
        "print(math.pi)\n",
        "print(math.log(1000))\n",
        "\n",
        "# We can use them directly though, if we employ the 'from' keyword as well.\n",
        "from math import pi, log\n",
        "\n",
        "print(pi)\n",
        "print(log(1000))"
      ]
    },
    {
      "cell_type": "markdown",
      "metadata": {
        "id": "8vZQoFYU2HYd"
      },
      "source": [
        "This module contains several mathematical functions and constants ready to use, saving us the trouble of writing these (often pretty complicated) functions ourselves.\n",
        "\n",
        "Functions and modules made by other people to expand Python capabilities are further wrapped and distributed in what we call **packages**, that can be downloaded and installed. Packages are identical to modules in the way we access them from our programs in Python, exposing their inner objects with dots.  However, among the objects they hold, we frequently find whole modules. Thus, they can be interpreted as \"modules of modules\". If modules are files containing objects in Python code (similar to the code cells we have been using), packages are folders containing these files.\n",
        "\n",
        "From this moment on, we will explore some functionalities of the `biopython` package, which provides plenty of tools for reading and processing biological data."
      ]
    },
    {
      "cell_type": "markdown",
      "metadata": {
        "id": "7nukRnPe0PwC"
      },
      "source": [
        "<div id='m6' />\n",
        "\n",
        "### M6: Biopython, file parsing, and multiple sequence analysis\n",
        "[Back to table of contents](#table-of-contents)\n",
        "\n",
        "**Estimated study load**: 50 minutes\n",
        "\n",
        "**Learning objectives**:\n",
        "* Introduce Biopython to work with computational molecular biology;\n",
        "* Demonstrate how to parse fasta file;\n",
        "* Align protein sequences;\n",
        "* Extract alignment regions;\n",
        "\n",
        "\n",
        "The official documentation of biopython is available [here](http://biopython.org/DIST/docs/tutorial/Tutorial.html)."
      ]
    },
    {
      "cell_type": "markdown",
      "metadata": {
        "id": "8CYkJYC20PwC"
      },
      "source": [
        "#### What is Biopython and how do I install it?\n",
        "\n",
        "Biopython is a set of free tools for computational molecular biology written in Python by an international team of developers. You can use biopython to parse several bioinformatics file formats, including FASTA, GBK, and BLAST output.\n",
        "\n",
        "It is very important for a bioinformatician to become familiar with Biopython, as it is a Swiss Army knife that can help you in many situations. At this point in the tutorial, you've noticed that there are several file formats that we can use to store information. A classic format is the FASTA.\n",
        "\n",
        "When we say \"parsing\" a FASTA file, we want to extract the information and store it so that we have more control to process it. However, before we start exploring the potential of Biopython to handle files, let's install it."
      ]
    },
    {
      "cell_type": "code",
      "execution_count": null,
      "metadata": {
        "id": "lNp3yz7a0PwC"
      },
      "outputs": [],
      "source": [
        "!pip install biopython"
      ]
    },
    {
      "cell_type": "markdown",
      "metadata": {
        "id": "c6ffW5TEE_HC"
      },
      "source": [
        "> **Side note:** `pip` is a recursive acronym for *pip installs packages*. It is the most standart tool to manage Python packages on your machine."
      ]
    },
    {
      "cell_type": "markdown",
      "metadata": {
        "id": "jWDLCmgU4ZQ9"
      },
      "source": [
        "We are now ready to import the Biopython package! Note that the Biopython developers established that when importing Biopython, we should call it just `Bio`, for short."
      ]
    },
    {
      "cell_type": "code",
      "execution_count": null,
      "metadata": {
        "id": "30MBSeNK0PwC"
      },
      "outputs": [],
      "source": [
        "import Bio\n",
        "\n",
        "# Inside Bio, there is a string variable named __version__, that\n",
        "# identifies the version of the biopython package we have installed.\n",
        "print(Bio.__version__)"
      ]
    },
    {
      "cell_type": "markdown",
      "metadata": {
        "id": "JvH1mljC0PwD"
      },
      "source": [
        "#### Parsing a FASTA file"
      ]
    },
    {
      "cell_type": "markdown",
      "metadata": {
        "id": "HDhaAwTt0PwD"
      },
      "source": [
        "Let's read the FASTA file containing the spike protein for seven SARS-CoV-2 lineages."
      ]
    },
    {
      "cell_type": "code",
      "execution_count": null,
      "metadata": {
        "id": "NLkKMTKL0PwD"
      },
      "outputs": [],
      "source": [
        "# 'SeqIO' (sequence input/output) is a module contained in Biopython.\n",
        "from Bio import SeqIO\n",
        "\n",
        "file_path = \"Data/spike_proteins.fasta\"\n",
        "\n",
        "# 'parse' is a function inside the module 'SeqIO'\n",
        "for seq_record in SeqIO.parse(file_path, \"fasta\"):\n",
        "    print(seq_record.id)         # Sequence name after each \">\"\n",
        "    print(repr(seq_record.seq))  # Part of protein sequence\n",
        "    print(len(seq_record))       # Sequence length"
      ]
    },
    {
      "cell_type": "markdown",
      "metadata": {
        "id": "S2B4_zDL0PwD"
      },
      "source": [
        "We did it! Now we have gathered the information contained in the FASTA file much faster than in the previous tutorial blocks. And we can do better! Let's store this information in a Python dictionary."
      ]
    },
    {
      "cell_type": "code",
      "execution_count": null,
      "metadata": {
        "id": "xB0QIC9v0PwD"
      },
      "outputs": [],
      "source": [
        "with open(file_path, \"r\") as fasta_file:\n",
        "    record_dict = SeqIO.to_dict(SeqIO.parse(fasta_file, \"fasta\"))"
      ]
    },
    {
      "cell_type": "code",
      "execution_count": null,
      "metadata": {
        "id": "MkutkE4t0PwE"
      },
      "outputs": [],
      "source": [
        "record_dict"
      ]
    },
    {
      "cell_type": "markdown",
      "metadata": {
        "id": "GzqEz3IW0PwE"
      },
      "source": [
        "In this dictionary, we have each sequence name as a key and all related information as values. "
      ]
    },
    {
      "cell_type": "code",
      "execution_count": null,
      "metadata": {
        "id": "jLF9pKGU0PwE"
      },
      "outputs": [],
      "source": [
        "# How many sequences have we read?\n",
        "len(record_dict)"
      ]
    },
    {
      "cell_type": "code",
      "execution_count": null,
      "metadata": {
        "id": "R1wzQiDS0PwE"
      },
      "outputs": [],
      "source": [
        "# Getting sequences names\n",
        "list(record_dict.keys())"
      ]
    },
    {
      "cell_type": "code",
      "execution_count": null,
      "metadata": {
        "id": "PX45nh5m0PwE"
      },
      "outputs": [],
      "source": [
        "# Sequence information for Omicron BA.2 variant\n",
        "record_dict[\"Omicron_BA.2\"]"
      ]
    },
    {
      "cell_type": "code",
      "execution_count": null,
      "metadata": {
        "id": "mtNGTllmKhV9"
      },
      "outputs": [],
      "source": [
        "type(record_dict[\"Omicron_BA.2\"])"
      ]
    },
    {
      "cell_type": "markdown",
      "metadata": {
        "id": "Vkd3iTCy0PwF"
      },
      "source": [
        "As you can see, `SeqRecord` is a type of object defined in Biopython specifically to hold information about biological sequences. `SeqRecord`-typed objects offer a lot of information as **attributes**, including:\n",
        "  - `.seq`: the sequence itself.\n",
        "  - `.id`: the primary ID used to identify the sequence.\n",
        "  - `.name`: similar to id.\n",
        "  - `.description`: expansive name of the fasta sequence in a more readable presentation.\n"
      ]
    },
    {
      "cell_type": "code",
      "execution_count": null,
      "metadata": {
        "id": "mIgZ1OhU0PwF"
      },
      "outputs": [],
      "source": [
        "# Retrieving the sequence as a Seq object\n",
        "record_dict[\"Omicron_BA.2\"].seq"
      ]
    },
    {
      "cell_type": "code",
      "execution_count": null,
      "metadata": {
        "id": "yU2h94nt0PwF"
      },
      "outputs": [],
      "source": [
        "# Sequence description\n",
        "record_dict[\"Omicron_BA.2\"].description"
      ]
    },
    {
      "cell_type": "markdown",
      "source": [
        "> **Side note:** Similarly to the distinction between functions and modules, we call `attributes` the variables \"inside\" or \"belonging to\" some Python objects. Variables inside variables!"
      ],
      "metadata": {
        "id": "YJqE29G_M-So"
      }
    },
    {
      "cell_type": "markdown",
      "metadata": {
        "id": "oxfoQkYj0PwF"
      },
      "source": [
        "#### Multiple Sequence analysis (MSA)\n",
        "\n",
        "Multiple sequence analysis is the alignment of three or more biological sequences like DNA or proteins. We can use such outputs of allignment tools to infer evolutionary relationships. In this section, we will use a multiple sequence alignment (MSA) of the spike proteins to explore mutations."
      ]
    },
    {
      "cell_type": "code",
      "execution_count": 22,
      "metadata": {
        "id": "Q1ZdnbJF0PwG",
        "colab": {
          "base_uri": "https://localhost:8080/",
          "height": 384
        },
        "outputId": "9f98814e-8351-4d47-fd1c-b0f18b18f6d1"
      },
      "outputs": [
        {
          "output_type": "error",
          "ename": "ModuleNotFoundError",
          "evalue": "ignored",
          "traceback": [
            "\u001b[0;31m---------------------------------------------------------------------------\u001b[0m",
            "\u001b[0;31mModuleNotFoundError\u001b[0m                       Traceback (most recent call last)",
            "\u001b[0;32m<ipython-input-22-dac247f2cd7e>\u001b[0m in \u001b[0;36m<module>\u001b[0;34m()\u001b[0m\n\u001b[0;32m----> 1\u001b[0;31m \u001b[0;32mfrom\u001b[0m \u001b[0mBio\u001b[0m \u001b[0;32mimport\u001b[0m \u001b[0mAlignIO\u001b[0m\u001b[0;34m\u001b[0m\u001b[0;34m\u001b[0m\u001b[0m\n\u001b[0m\u001b[1;32m      2\u001b[0m \u001b[0;34m\u001b[0m\u001b[0m\n\u001b[1;32m      3\u001b[0m \u001b[0mmsa_file\u001b[0m \u001b[0;34m=\u001b[0m \u001b[0;34m\"Data/clustal_spike_msa.txt\"\u001b[0m\u001b[0;34m\u001b[0m\u001b[0;34m\u001b[0m\u001b[0m\n\u001b[1;32m      4\u001b[0m \u001b[0mspike_align\u001b[0m \u001b[0;34m=\u001b[0m \u001b[0mAlignIO\u001b[0m\u001b[0;34m.\u001b[0m\u001b[0mread\u001b[0m\u001b[0;34m(\u001b[0m\u001b[0mmsa_file\u001b[0m\u001b[0;34m,\u001b[0m \u001b[0;34m\"clustal\"\u001b[0m\u001b[0;34m)\u001b[0m\u001b[0;34m\u001b[0m\u001b[0;34m\u001b[0m\u001b[0m\n\u001b[1;32m      5\u001b[0m \u001b[0mprint\u001b[0m\u001b[0;34m(\u001b[0m\u001b[0mspike_align\u001b[0m\u001b[0;34m)\u001b[0m\u001b[0;34m\u001b[0m\u001b[0;34m\u001b[0m\u001b[0m\n",
            "\u001b[0;31mModuleNotFoundError\u001b[0m: No module named 'Bio'",
            "",
            "\u001b[0;31m---------------------------------------------------------------------------\u001b[0;32m\nNOTE: If your import is failing due to a missing package, you can\nmanually install dependencies using either !pip or !apt.\n\nTo view examples of installing some common dependencies, click the\n\"Open Examples\" button below.\n\u001b[0;31m---------------------------------------------------------------------------\u001b[0m\n"
          ],
          "errorDetails": {
            "actions": [
              {
                "action": "open_url",
                "actionText": "Open Examples",
                "url": "/notebooks/snippets/importing_libraries.ipynb"
              }
            ]
          }
        }
      ],
      "source": [
        "from Bio import AlignIO\n",
        "\n",
        "msa_file = \"Data/clustal_spike_msa.txt\"\n",
        "spike_align = AlignIO.read(msa_file, \"clustal\")\n",
        "print(spike_align)"
      ]
    },
    {
      "cell_type": "code",
      "execution_count": 23,
      "metadata": {
        "id": "aCtZ4HR80PwG",
        "colab": {
          "base_uri": "https://localhost:8080/",
          "height": 205
        },
        "outputId": "3a2e3a61-4821-4bfe-be8c-ddb79d8c5433"
      },
      "outputs": [
        {
          "output_type": "error",
          "ename": "NameError",
          "evalue": "ignored",
          "traceback": [
            "\u001b[0;31m---------------------------------------------------------------------------\u001b[0m",
            "\u001b[0;31mNameError\u001b[0m                                 Traceback (most recent call last)",
            "\u001b[0;32m<ipython-input-23-b8e2d42a2113>\u001b[0m in \u001b[0;36m<module>\u001b[0;34m()\u001b[0m\n\u001b[1;32m      1\u001b[0m \u001b[0mstart\u001b[0m \u001b[0;34m=\u001b[0m \u001b[0;36m501\u001b[0m \u001b[0;34m+\u001b[0m \u001b[0;36m1\u001b[0m  \u001b[0;31m# Remember that python is 0-indexed.\u001b[0m\u001b[0;34m\u001b[0m\u001b[0;34m\u001b[0m\u001b[0m\n\u001b[1;32m      2\u001b[0m \u001b[0mend\u001b[0m \u001b[0;34m=\u001b[0m \u001b[0;36m503\u001b[0m\u001b[0;34m\u001b[0m\u001b[0;34m\u001b[0m\u001b[0m\n\u001b[0;32m----> 3\u001b[0;31m \u001b[0mprint\u001b[0m\u001b[0;34m(\u001b[0m\u001b[0mspike_align\u001b[0m\u001b[0;34m[\u001b[0m\u001b[0;34m:\u001b[0m\u001b[0;34m,\u001b[0m \u001b[0mstart\u001b[0m\u001b[0;34m:\u001b[0m\u001b[0mend\u001b[0m\u001b[0;34m]\u001b[0m\u001b[0;34m)\u001b[0m\u001b[0;34m\u001b[0m\u001b[0;34m\u001b[0m\u001b[0m\n\u001b[0m",
            "\u001b[0;31mNameError\u001b[0m: name 'spike_align' is not defined"
          ]
        }
      ],
      "source": [
        "start = 501 + 1  # Remember that python is 0-indexed.\n",
        "end = 503\n",
        "print(spike_align[:, start:end])"
      ]
    },
    {
      "cell_type": "markdown",
      "metadata": {
        "id": "WtRjeAuK0PwG"
      },
      "source": [
        "We can see that now we have a multiple sequence alignment by the gaps inserted in the Omicron_BA.2 sequence. Let's explore the `MultipleSeqAlignment` object. Here is the spike protein alignment figure again for reference:\n",
        "\n",
        "![sars-cov-2](https://viralzone.expasy.org/resources/Variants_graph.svg)\n",
        "**Image source:** https://viralzone.expasy.org/9556"
      ]
    },
    {
      "cell_type": "markdown",
      "metadata": {
        "id": "aueTdxcH0PwG"
      },
      "source": [
        "You can check in the image that all lineages, except Delta B.1.617.2 and Wuhan-Hu-1, present a mutation that changes asparagine to tyrosine in position 501 (N501Y). You can also create a simple function to retrieve a specific position in the alignment."
      ]
    },
    {
      "cell_type": "code",
      "execution_count": 24,
      "metadata": {
        "id": "00J6aFOB0PwG",
        "colab": {
          "base_uri": "https://localhost:8080/",
          "height": 205
        },
        "outputId": "97253ca9-19a6-4ad0-98f2-dc6634acc5dc"
      },
      "outputs": [
        {
          "output_type": "error",
          "ename": "NameError",
          "evalue": "ignored",
          "traceback": [
            "\u001b[0;31m---------------------------------------------------------------------------\u001b[0m",
            "\u001b[0;31mNameError\u001b[0m                                 Traceback (most recent call last)",
            "\u001b[0;32m<ipython-input-24-1c2143458a47>\u001b[0m in \u001b[0;36m<module>\u001b[0;34m()\u001b[0m\n\u001b[1;32m      3\u001b[0m \u001b[0;34m\u001b[0m\u001b[0m\n\u001b[1;32m      4\u001b[0m \u001b[0;31m# Retrieving position 417\u001b[0m\u001b[0;34m\u001b[0m\u001b[0;34m\u001b[0m\u001b[0;34m\u001b[0m\u001b[0m\n\u001b[0;32m----> 5\u001b[0;31m \u001b[0mprint\u001b[0m\u001b[0;34m(\u001b[0m\u001b[0mget_alignment_position\u001b[0m\u001b[0;34m(\u001b[0m\u001b[0mspike_align\u001b[0m\u001b[0;34m,\u001b[0m \u001b[0mstart\u001b[0m\u001b[0;34m=\u001b[0m\u001b[0;36m417\u001b[0m\u001b[0;34m,\u001b[0m \u001b[0mend\u001b[0m\u001b[0;34m=\u001b[0m\u001b[0;36m419\u001b[0m\u001b[0;34m)\u001b[0m\u001b[0;34m)\u001b[0m\u001b[0;34m\u001b[0m\u001b[0;34m\u001b[0m\u001b[0m\n\u001b[0m",
            "\u001b[0;31mNameError\u001b[0m: name 'spike_align' is not defined"
          ]
        }
      ],
      "source": [
        "def get_alignment_position(alignment, start, end):\n",
        "    return alignment[:, start+1:end]\n",
        "\n",
        "# Retrieving position 417\n",
        "get_alignment_position(spike_align, start=417, end=419)"
      ]
    },
    {
      "cell_type": "markdown",
      "metadata": {
        "id": "r4rdstOY0PwH"
      },
      "source": [
        "#### Distance tree from MSA\n",
        "\n",
        "We can also use Python to construct a simple tree based on sequence distance."
      ]
    },
    {
      "cell_type": "code",
      "execution_count": null,
      "metadata": {
        "id": "yIqGk4QX0PwH"
      },
      "outputs": [],
      "source": [
        "from Bio.Phylo.TreeConstruction import DistanceCalculator\n",
        "\n",
        "# Instance assignment\n",
        "calculator = DistanceCalculator('identity')\n",
        "\n",
        "# Calculate distance matrix (dm) from SARS-CoV-2 spike sequences\n",
        "dm = calculator.get_distance(spike_align)\n",
        "print(dm)"
      ]
    },
    {
      "cell_type": "code",
      "execution_count": 25,
      "metadata": {
        "id": "9lW3scRi0PwH",
        "colab": {
          "base_uri": "https://localhost:8080/",
          "height": 384
        },
        "outputId": "6f3c661e-fc28-4cf2-e2c8-2d95b9132a58"
      },
      "outputs": [
        {
          "output_type": "error",
          "ename": "ModuleNotFoundError",
          "evalue": "ignored",
          "traceback": [
            "\u001b[0;31m---------------------------------------------------------------------------\u001b[0m",
            "\u001b[0;31mModuleNotFoundError\u001b[0m                       Traceback (most recent call last)",
            "\u001b[0;32m<ipython-input-25-2ae88e2300bd>\u001b[0m in \u001b[0;36m<module>\u001b[0;34m()\u001b[0m\n\u001b[1;32m      1\u001b[0m \u001b[0;31m# Constructing the distance tree\u001b[0m\u001b[0;34m\u001b[0m\u001b[0;34m\u001b[0m\u001b[0;34m\u001b[0m\u001b[0m\n\u001b[0;32m----> 2\u001b[0;31m \u001b[0;32mfrom\u001b[0m \u001b[0mBio\u001b[0m\u001b[0;34m.\u001b[0m\u001b[0mPhylo\u001b[0m\u001b[0;34m.\u001b[0m\u001b[0mTreeConstruction\u001b[0m \u001b[0;32mimport\u001b[0m \u001b[0mDistanceTreeConstructor\u001b[0m\u001b[0;34m\u001b[0m\u001b[0;34m\u001b[0m\u001b[0m\n\u001b[0m\u001b[1;32m      3\u001b[0m \u001b[0;34m\u001b[0m\u001b[0m\n\u001b[1;32m      4\u001b[0m \u001b[0mconstructor\u001b[0m \u001b[0;34m=\u001b[0m \u001b[0mDistanceTreeConstructor\u001b[0m\u001b[0;34m(\u001b[0m\u001b[0;34m)\u001b[0m\u001b[0;34m\u001b[0m\u001b[0;34m\u001b[0m\u001b[0m\n\u001b[1;32m      5\u001b[0m \u001b[0mtree\u001b[0m \u001b[0;34m=\u001b[0m \u001b[0mconstructor\u001b[0m\u001b[0;34m.\u001b[0m\u001b[0mupgma\u001b[0m\u001b[0;34m(\u001b[0m\u001b[0mdm\u001b[0m\u001b[0;34m)\u001b[0m\u001b[0;34m\u001b[0m\u001b[0;34m\u001b[0m\u001b[0m\n",
            "\u001b[0;31mModuleNotFoundError\u001b[0m: No module named 'Bio'",
            "",
            "\u001b[0;31m---------------------------------------------------------------------------\u001b[0;32m\nNOTE: If your import is failing due to a missing package, you can\nmanually install dependencies using either !pip or !apt.\n\nTo view examples of installing some common dependencies, click the\n\"Open Examples\" button below.\n\u001b[0;31m---------------------------------------------------------------------------\u001b[0m\n"
          ],
          "errorDetails": {
            "actions": [
              {
                "action": "open_url",
                "actionText": "Open Examples",
                "url": "/notebooks/snippets/importing_libraries.ipynb"
              }
            ]
          }
        }
      ],
      "source": [
        "# Constructing the distance tree\n",
        "from Bio.Phylo.TreeConstruction import DistanceTreeConstructor\n",
        "\n",
        "constructor = DistanceTreeConstructor()\n",
        "tree = constructor.upgma(dm)\n",
        "tree.root_with_outgroup(\"Wuhan-Hu-1_19A\", outgroup_branch_length=0.002)\n",
        "\n",
        "# Visualize the distance tree\n",
        "Bio.Phylo.draw_ascii(tree=tree)"
      ]
    },
    {
      "cell_type": "markdown",
      "metadata": {
        "id": "CTa_jHKG0PwI"
      },
      "source": [
        "In this course module, we explored the potential of Biopython to work with biological sequences. We saw how to parse FASTA files, how to work with multiple sequence alignments, and how to build a simple distance tree using SARS-CoV-2 as a model organism.\n",
        "\n",
        "There are many utilities that you can further explore with Biopython. This course has shown you only some of the possibilities.\n",
        "\n",
        "> **NOTE:** Biopython has lots of useful stuff!\n"
      ]
    },
    {
      "cell_type": "markdown",
      "metadata": {
        "id": "dNKffHSR0PwI"
      },
      "source": [
        "## Conclusion\n",
        "[Back to table of contents](#table-of-contents)\n",
        "\n",
        "At this point, we hope you got a better understanding of how a programming language can be an useful tool for analyzing biological data. We saw some basic Python data types (numbers, booleans and strings), some useful collections of objects (lists and dictionaries), how to read files, how to write our own functions and how external packages can help us (with special attention to Biopython). We intended to provide you with the minimum set of tools to get you efficiently started in solving computational problems.\n",
        "\n",
        "However, there is still a lot of interesting concepts and ideas that could not be brought to you within the time we had available. We then bring to you a handful of Python and bioinformatics learning resources bellow, hoping to keep you motivated on this journey of computer programming.\n",
        "\n",
        "All the material we developed for this tutorial will be publicly and permanently available at [this GitHub repository](https://github.com/SantosRAC/intro_python_ismb2022).\n",
        "\n",
        "Finally, we would appreciate if you could provide us feedback on our tutorial organization and execution:\n",
        "\n",
        "> **[Feedback survey](https://docs.google.com/forms/d/e/1FAIpQLSftVbI5O-P6EidL-PBgmqjdVE9QX3SfsgGKqkX6DDxJzGvrfQ/viewform)**\n",
        "\n",
        "Thank you!\n",
        "\n",
        "\n",
        "### What next?\n",
        "The [Biology Meets Programming: Bioinformatics for Beginners](https://www.coursera.org/learn/bioinformatics) is a great course to learn Python already in a biologic setting. The instructors are the authors of the [Bioinformatics Algorithms](https://www.bioinformaticsalgorithms.org/) textbook, another recommended resource developed with the hands-on approach in mind.\n",
        "\n",
        "If you would like to further practice computer programming while developing your problem solving skills, [Rosalind](https://rosalind.info/problems/locations/) is a nice place to visit from time to time. It is an open bank of bioinformatics problems to be solved with any programming language. They start from beginner-friendly introductory exercises and progress to interesting and more complex applications. \n",
        "\n",
        "Biology aside, probably the most popular way of learning Python today is through the [Codeacademy](https://www.codecademy.com/learn/learn-python-3) platform. Such interactive style of lessons are considered by many the best way of learning how to code.\n",
        "\n",
        "These and some other resources that may interest you can be found bellow.\n",
        "\n",
        "### Interactive tutorials\n",
        " - [Code Academy - Learn Python 3](https://www.codecademy.com/learn/learn-python-3)\n",
        " - [Code Academy - All Python courses](https://www.codecademy.com/catalog/language/python)\n",
        " \n",
        "### Bioinformatics problems database\n",
        "- [Rosalind](https://rosalind.info/problems/locations/)\n",
        "\n",
        "### Video resources\n",
        "- [Coursera - Biology Meets Programming: Bioinformatics for Beginners](https://www.coursera.org/learn/bioinformatics)\n",
        "- [Coursera - Bioinformatics Specialization](https://www.coursera.org/specializations/bioinformatics)\n",
        "\n",
        "- [Datacamp - Introduction to Python](https://www.datacamp.com/courses/intro-to-python-for-data-science?utm_source=learnpython_com&utm_campaign=learnpython_tutorials)\n",
        "- [YouTube - StatQuest's high throughput sequencing playlist](https://www.youtube.com/playlist?list=PLblh5JKOoLUJo2Q6xK4tZElbIvAACEykp)\n",
        "\n",
        "### Textbooks\n",
        "- Python Crash Course, 2nd Edition: A Hands-On, Project-Based Introduction to Programming, Eric Matthes, 2016\n",
        "- [Automate the Boring Stuff with Python](https://automatetheboringstuff.com/)\n",
        "- [Bioinformatics Algorithms - Phillip Compeau, Pavel Pevzner, 2018](https://www.bioinformaticsalgorithms.org/)\n",
        "- [Mastering Python for Bioinformatics - Ken Youens-Clark, 2021](https://www.oreilly.com/library/view/mastering-python-for/9781098100872/)\n",
        "- Python for Bioinformatics - Sebastian Bassi, 2018\n",
        "- [Bioinformatics Programming Using Python - Mitchell L Model, 2009](https://www.oreilly.com/library/view/bioinformatics-programming-using/9780596804725/)\n",
        "- Bioinformatics Algorithms: Design and Implementation in Python - Rocha and Ferreira, 2018\n",
        "- Bioinformatics with Python Cookbook - Second Edition: Learn how to use modern Python bioinformatics libraries and applications to do cutting-edge research in computational biology - Antao 2018\n",
        "\n"
      ]
    },
    {
      "cell_type": "markdown",
      "metadata": {
        "id": "97B8IGv10PwI"
      },
      "source": [
        "### References and links\n",
        "\n",
        "#### Books\n",
        "\n",
        "* Libeskind-Hadas, Ran, and Eliot Bush. Computing for biologists: Python programming and principles. Cambridge University Press, 2014.\n",
        "* Hunt, John. \"A Beginners Guide to Python 3 Programming.\" (2021).\n",
        "\n",
        "#### Pages of the official Python documentation\n",
        "\n",
        "* [Reading and writing files](https://docs.python.org/3/tutorial/inputoutput.html#reading-and-writing-files)\n"
      ]
    }
  ],
  "metadata": {
    "colab": {
      "collapsed_sections": [
        "G2YodE8E0Pvv",
        "p_4SbVcK0Pv8",
        "hJBXwH_o0Pv8",
        "lJCwpxxQ0Pv8",
        "8CYkJYC20PwC",
        "JvH1mljC0PwD",
        "oxfoQkYj0PwF",
        "r4rdstOY0PwH",
        "97B8IGv10PwI"
      ],
      "name": "ISMB_2022_Python.ipynb",
      "provenance": [],
      "toc_visible": true
    },
    "interpreter": {
      "hash": "e7370f93d1d0cde622a1f8e1c04877d8463912d04d973331ad4851f04de6915a"
    },
    "kernelspec": {
      "display_name": "Python 3.10.4 64-bit",
      "language": "python",
      "name": "python3"
    },
    "language_info": {
      "name": "python",
      "version": "3.10.4"
    },
    "orig_nbformat": 4
  },
  "nbformat": 4,
  "nbformat_minor": 0
}
