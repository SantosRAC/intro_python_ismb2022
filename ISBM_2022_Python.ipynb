{
  "cells": [
    {
      "cell_type": "markdown",
      "metadata": {},
      "source": [
        "# Introduction to Python programming for bioscientists - ISMB 2022\n",
        "\n",
        "Organizer(s):\n",
        "- Hemanoel Passarelli Araujo, Federal University of Minas Gerais, Brazil (passarelli@ufmg.br)\n",
        "\n",
        "- Pedro de Carvalho Braga Ilídio Silva, University of São Paulo, Brazil (ilidio@alumni.usp.br)\n",
        "\n",
        "- Renato Augusto Corrêa dos Santos, University of Campinas, Brazil (renatoacsantos@gmail.com)\n",
        "\n",
        "- Vinícius Henrique Franceschini dos Santos, University of São Paulo, Brazil (vinicius6.santos@usp.br)\n"
      ]
    },
    {
      "cell_type": "markdown",
      "metadata": {},
      "source": [
        "# Learning Objectives for Tutorial:\n",
        "\n",
        "Programming skills have become crucial for bioscientists. In this tutorial, we will introduce python basic concepts and we will compare SARS-CoV-2 genomes to show how powerfull the Biopython toolkit can be to analyze biological sequences.\n",
        "\n",
        "The main objectives are:\n",
        "\n",
        "- To introduce Google Colab digital notebooks;\n",
        "- To present the basic logic and data structures in Python;\n",
        "- To provide hands-on experience in analyzing biological sequences using Biopython."
      ]
    },
    {
      "cell_type": "markdown",
      "metadata": {},
      "source": [
        "# Notebook struture "
      ]
    }
  ],
  "metadata": {
    "colab": {
      "authorship_tag": "ABX9TyMlBnE1UVBC2S104CKCxzKz",
      "include_colab_link": true,
      "name": "ISBM_2022_Python.ipynb",
      "provenance": []
    },
    "kernelspec": {
      "display_name": "Python 3",
      "name": "python3"
    },
    "language_info": {
      "name": "python"
    }
  },
  "nbformat": 4,
  "nbformat_minor": 0
}
