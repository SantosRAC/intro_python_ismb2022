{
  "cells": [
    {
      "cell_type": "markdown",
      "metadata": {},
      "source": [
        "# Introduction to Python programming for bioscientists - ISMB 2022\n",
        "\n",
        "Organizer(s):\n",
        "- Hemanoel Passarelli Araujo, Federal University of Minas Gerais, Brazil (passarelli@ufmg.br)\n",
        "\n",
        "- Pedro de Carvalho Braga Ilídio Silva, University of São Paulo, Brazil (ilidio@alumni.usp.br)\n",
        "\n",
        "- Renato Augusto Corrêa dos Santos, University of Campinas, Brazil (renatoacsantos@gmail.com)\n",
        "\n",
        "- Vinícius Henrique Franceschini dos Santos, University of São Paulo, Brazil (vinicius6.santos@usp.br)\n"
      ]
    },
    {
      "cell_type": "markdown",
      "metadata": {},
      "source": [
        "# Learning Objectives for Tutorial:\n",
        "\n",
        "Programming skills have become crucial for bioscientists. In this tutorial, we will introduce python basic concepts and we will compare SARS-CoV-2 genomes to show how powerfull the Biopython toolkit can be to analyze biological sequences.\n",
        "\n",
        "The main objectives are:\n",
        "\n",
        "- To introduce Google Colab digital notebooks;\n",
        "- To present the basic logic and data structures in Python;\n",
        "- To provide hands-on experience in analyzing biological sequences using Biopython."
      ]
    },
    {
      "cell_type": "markdown",
      "metadata": {},
      "source": [
        "# Notebook struture \n",
        "\n",
        "This notebook is structured into six modules (M):\n",
        "\n",
        "- M1: Introduction to python and data structures (study-load: 80 minutes);\n",
        "\n",
        "- M2: Logical operations (study-load: 50 minutes);\n",
        "\n",
        "- M3: Loops and iteration (study-load: 50 minutes);\n",
        "\n",
        "- M4: Functions (study-load: 80 minutes);\n",
        "\n",
        "- M5: Biopython and file parsing (study-load: 50 minutes);\n",
        "\n",
        "- M6: Multiple sequence analysis with Bio.Align package (study-load: 50 minutes);\n",
        "\n",
        "We assume that you are already familiar with google colab notebooks. Check our notebook on this topic: <link to \"how to use colab notebook\">. \n"
      ]
    },
    {
      "cell_type": "markdown",
      "metadata": {},
      "source": [
        "# Practical Project: COVID-19 and SARS-CoV-2\n",
        "\n",
        "Coronaviruses are RNA viruses able to infect both human and animals. The severe acute respiratory syndrome coronavirus 2 (SARS-CoV-2) caused the coronavirus disease 2019 (COVID-19) and new viruses lineages still emerge in 2022. \n",
        "\n",
        "The large amount of data generated during the pandemics allowed us to better understand the SARS-CoV-2 genome and understand the main genetic mechanisms of virus transmission. It is normal for viruses to change over time and accumulate mutations. The set of mutations in a genome can be used to define a viral lineage. \n",
        "\n",
        "The SARS-CoV-2 genome comprises about 30 Kbp and contains four structural proteins, including spike (S), envelope (E), membrane (M), and nucleocapsid (N) proteins. SARS-CoV-2 viruses rely on their S protein to interact with the human ACE2 receptor to enter in the cell and start the infection. The S protein has two subunits: S1 and S2. The S1 subunit is located in the N-terminus of the S protein and engage with the ACE2 human receptor, while the S2 subunit mediate the fusion with the host cell membrane.  \n",
        "\n",
        "The combination of mutations in the S protein is usually employed to discriminate SARS-CoV-2 lineages. See in the image below the main variants of concern of SARS-CoV-2:\n",
        "\n",
        "![sars-cov-2](sars-cov-2-aln.jpg)\n",
        "image source: https://viralzone.expasy.org/9556\n",
        "\n",
        "In this tutorial, we will use the spike protein sequences of several SARS-CoV-2 strains to explore Python's potential for working with biological data.\n"
      ]
    },
    {
      "cell_type": "markdown",
      "metadata": {},
      "source": [
        "# M1: Introduction to python and data structures\n",
        "\n",
        "Learning objective: <Insert here the learning objective for this module.>\n",
        "\n",
        "Estimated study-load: 80 minutes\n",
        "\n",
        "## Python\n",
        "\n",
        "## Variables and native functions"
      ]
    },
    {
      "cell_type": "markdown",
      "metadata": {},
      "source": [
        "# M5: Biopython and file parsing\n",
        "\n",
        "Learning objective: <Insert here the learning objective for this module.>\n",
        "\n",
        "Estimated study-load: 80 minutes"
      ]
    }
  ],
  "metadata": {
    "colab": {
      "authorship_tag": "ABX9TyMlBnE1UVBC2S104CKCxzKz",
      "include_colab_link": true,
      "name": "ISBM_2022_Python.ipynb",
      "provenance": []
    },
    "kernelspec": {
      "display_name": "Python 3",
      "name": "python3"
    },
    "language_info": {
      "codemirror_mode": {
        "name": "ipython",
        "version": 3
      },
      "file_extension": ".py",
      "mimetype": "text/x-python",
      "name": "python",
      "nbconvert_exporter": "python",
      "pygments_lexer": "ipython3",
      "version": "3.9.5"
    }
  },
  "nbformat": 4,
  "nbformat_minor": 0
}
