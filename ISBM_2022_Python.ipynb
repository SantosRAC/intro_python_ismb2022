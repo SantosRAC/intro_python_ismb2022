{
  "cells": [
    {
      "cell_type": "markdown",
      "metadata": {},
      "source": [
        "# Introduction to Python programming for bioscientists - ISMB 2022\n",
        "\n",
        "Organizer(s):\n",
        "- Hemanoel Passarelli Araujo, Federal University of Minas Gerais, Brazil (passarelli@ufmg.br)\n",
        "\n",
        "- Pedro de Carvalho Braga Ilídio Silva, University of São Paulo, Brazil (ilidio@alumni.usp.br)\n",
        "\n",
        "- Renato Augusto Corrêa dos Santos, University of Campinas, Brazil (renatoacsantos@gmail.com)\n",
        "\n",
        "- Vinícius Henrique Franceschini dos Santos, University of São Paulo, Brazil (vinicius6.santos@usp.br)\n"
      ]
    },
    {
      "cell_type": "markdown",
      "metadata": {},
      "source": [
        "# Learning Objectives for Tutorial:\n",
        "\n",
        "Programming skills have become crucial for bioscientists. In this tutorial, we will introduce python basic concepts and we will compare SARS-CoV-2 genomes to show how powerfull the Biopython toolkit can be to analyze biological sequences.\n",
        "\n",
        "The main objectives are:\n",
        "\n",
        "- To introduce Google Colab digital notebooks;\n",
        "- To present the basic logic and data structures in Python;\n",
        "- To provide hands-on experience in analyzing biological sequences using Biopython."
      ]
    },
    {
      "cell_type": "markdown",
      "metadata": {},
      "source": [
        "# Notebook struture \n",
        "\n",
        "This notebook is structured into six modules (M):\n",
        "\n",
        "- M1: Introduction to python and data structures (study-load: 80 minutes);\n",
        "\n",
        "- M2: Logical operations (study-load: 50 minutes);\n",
        "\n",
        "- M3: Loops and iteration (study-load: 50 minutes);\n",
        "\n",
        "- M4: Functions (study-load: 80 minutes);\n",
        "\n",
        "- M5: Interacting with the operating system (study-load: 50 minutes);\n",
        "\n",
        "- M6: Biopython, file parsing, and multiple sequence analysis (study-load: 50 minutes);\n",
        "\n",
        "We assume that you are already familiar with google colab notebooks. Check our notebook on this topic: <link to \"how to use colab notebook\">. \n"
      ]
    },
    {
      "cell_type": "markdown",
      "metadata": {},
      "source": [
        "# Practical Project: COVID-19 and SARS-CoV-2\n",
        "\n",
        "Coronaviruses are RNA viruses able to infect both human and animals. The severe acute respiratory syndrome coronavirus 2 (SARS-CoV-2) caused the coronavirus disease 2019 (COVID-19) and new viruses lineages still emerge in 2022. \n",
        "\n",
        "The large amount of data generated during the pandemics allowed us to better understand the SARS-CoV-2 genome and understand the main genetic mechanisms of virus transmission. It is normal for viruses to change over time and accumulate mutations. The set of mutations in a genome can be used to define a viral lineage. \n",
        "\n",
        "The SARS-CoV-2 genome comprises about 30 Kbp and contains four structural proteins, including spike (S), envelope (E), membrane (M), and nucleocapsid (N) proteins. SARS-CoV-2 viruses rely on their S protein to interact with the human ACE2 receptor to enter in the cell and start the infection. The S protein has two subunits: S1 and S2. The S1 subunit is located in the N-terminus of the S protein and engage with the ACE2 human receptor, while the S2 subunit mediate the fusion with the host cell membrane.  \n",
        "\n",
        "The combination of mutations in the S protein is usually employed to discriminate SARS-CoV-2 lineages. See in the image below the main variants of concern of SARS-CoV-2:\n",
        "\n",
        "![sars-cov-2](sars-cov-2-aln.jpg)\n",
        "image source: https://viralzone.expasy.org/9556\n",
        "\n",
        "In this tutorial, we will use the spike protein sequences of several SARS-CoV-2 strains to explore Python's potential for working with biological data.\n"
      ]
    },
    {
      "cell_type": "markdown",
      "metadata": {},
      "source": [
        "# M1: Introduction to python and data structures\n",
        "\n",
        "Learning objective: <Insert here the learning objective for this module.>\n",
        "\n",
        "Estimated study-load: 80 minutes\n",
        "\n",
        "## Python\n",
        "\n",
        "## Variables and native functions"
      ]
    },
    {
      "cell_type": "markdown",
      "metadata": {},
      "source": [
        "# M6: Biopython, file parsing, and multiple sequence analysis\n",
        "\n",
        "Learning objectives: \n",
        "\n",
        "    - Introduce Biopython to work with computational molecular biology;\n",
        "\n",
        "    - Demonstrate how to parse fasta file;\n",
        "\n",
        "    - Align protein sequences;\n",
        "\n",
        "    - Extract alignment regions;\n",
        "\n",
        "Estimated study-load: 50 minutes\n",
        "\n",
        "The official documentation of biopython is available [here](http://biopython.org/DIST/docs/tutorial/Tutorial.html)."
      ]
    },
    {
      "cell_type": "markdown",
      "metadata": {},
      "source": [
        "## What is biopython and how to install?\n",
        "\n",
        "Biopython is a set of freely tools for computational molecular biology written in Python by an international team of developers. You can use biopython to parse several bioinformatic file formats, including fasta, gbk, and Blast output.\n",
        "\n",
        "It is very important for a bioinformatist to become familiar with Biopython, as it is literally a Swiss Army knife that can help you in many situations. At this point in the tutorial, you've noticed that there are several file formats that we can use to store information. A classic format is the fasta.\n",
        "\n",
        "When we mention about \"parsing\" a fasta file, we want to extract the information and store it so that we have more control to process it. However, before we start exploring the potential of biopython to handle files, let's install it."
      ]
    },
    {
      "cell_type": "code",
      "execution_count": 2,
      "metadata": {},
      "outputs": [
        {
          "name": "stdout",
          "output_type": "stream",
          "text": [
            "Collecting biopython\n",
            "  Downloading biopython-1.79-cp39-cp39-macosx_10_9_x86_64.whl (2.3 MB)\n",
            "\u001b[K     |████████████████████████████████| 2.3 MB 1.0 MB/s eta 0:00:01\n",
            "\u001b[?25hRequirement already satisfied: numpy in /Users/hemanoel/miniconda3/lib/python3.9/site-packages (from biopython) (1.21.5)\n",
            "Installing collected packages: biopython\n",
            "Successfully installed biopython-1.79\n"
          ]
        }
      ],
      "source": [
        "!pip install biopython"
      ]
    },
    {
      "cell_type": "code",
      "execution_count": 3,
      "metadata": {},
      "outputs": [
        {
          "name": "stdout",
          "output_type": "stream",
          "text": [
            "1.79\n"
          ]
        }
      ],
      "source": [
        "import Bio\n",
        "print(Bio.__version__)"
      ]
    },
    {
      "cell_type": "markdown",
      "metadata": {},
      "source": [
        "## Parsing a fasta file"
      ]
    },
    {
      "cell_type": "markdown",
      "metadata": {},
      "source": [
        "Let's read the fasta file containing the spike protein for seven SARS-CoV-2 lineages."
      ]
    },
    {
      "cell_type": "code",
      "execution_count": 22,
      "metadata": {},
      "outputs": [
        {
          "name": "stdout",
          "output_type": "stream",
          "text": [
            "Wuhan-Hu-1_19A\n",
            "Seq('MFVFLVLLPLVSSQCVNLTTRTQLPPAYTNSFTRGVYYPDKVFRSSVLHSTQDL...HYT')\n",
            "1273\n",
            "Alpha_B.1.1.7\n",
            "Seq('MFVFLVLLPLVSSQCVNLTTRTQLPPAYTNSFTRGVYYPDKVFRSSVLHSTQDL...HYT')\n",
            "1270\n",
            "Beta_B.1.351\n",
            "Seq('MFVFLVLLPLVSSQCVNLTTRTQLPPAYTNSFTRGVYYPDKVFRSSVLHSTQDL...HYT')\n",
            "1270\n",
            "Gamma_P1\n",
            "Seq('MFVFLVLLPLVSSQCVNFTNRTQLPSAYTNSFTRGVYYPDKVFRSSVLHSTQDL...HYT')\n",
            "1273\n",
            "Delta_B.1.617.2\n",
            "Seq('MFVFLVLLPLVSSQCVNLRTRTQLPPAYTNSFTRGVYYPDKVFRSSVLHSTQDL...HYT')\n",
            "1271\n",
            "Omicron_BA.1\n",
            "Seq('MFVFLVLLPLVSSQCVNLTTRTQLPPAYTNSFTRGVYYPDKVFRSSVLHSTQDL...HYT')\n",
            "1270\n",
            "Omicron_BA.2\n",
            "Seq('MFVFLVLLPLVSSQCVNLITRTQSYTNSFTRGVYYPDKVFRSSVLHSTQDLFLP...HYT')\n",
            "1270\n"
          ]
        }
      ],
      "source": [
        "from Bio import SeqIO\n",
        "\n",
        "file_path = \"spike_proteins.fasta\"\n",
        "\n",
        "for seq_record in Bio.SeqIO.parse(file_path, \"fasta\"):\n",
        "    print(seq_record.id) #sequence name after each \">\"\n",
        "    print(repr(seq_record.seq)) # part of protein sequence\n",
        "    print(len(seq_record)) #sequence length"
      ]
    },
    {
      "cell_type": "markdown",
      "metadata": {},
      "source": [
        "We did it! Now we have gathered the information contained in the fasta file much faster than in the previuos modules. We can do better! Let's store this information in a python dictionary."
      ]
    },
    {
      "cell_type": "code",
      "execution_count": 7,
      "metadata": {},
      "outputs": [],
      "source": [
        "with open(file_path, \"r\") as fh: #fh = file handle\n",
        "    record_dict = SeqIO.to_dict(SeqIO.parse(fh, \"fasta\"))"
      ]
    },
    {
      "cell_type": "code",
      "execution_count": 8,
      "metadata": {},
      "outputs": [
        {
          "data": {
            "text/plain": [
              "{'Wuhan-Hu-1_19A': SeqRecord(seq=Seq('MFVFLVLLPLVSSQCVNLTTRTQLPPAYTNSFTRGVYYPDKVFRSSVLHSTQDL...HYT'), id='Wuhan-Hu-1_19A', name='Wuhan-Hu-1_19A', description='Wuhan-Hu-1_19A sp|P0DTC2|SPIKE_SARS2 Spike glycoprotein OS=Severe acute respiratory syndrome coronavirus 2 OX=2697049 GN=S PE=1 SV=1', dbxrefs=[]),\n",
              " 'Alpha_B.1.1.7': SeqRecord(seq=Seq('MFVFLVLLPLVSSQCVNLTTRTQLPPAYTNSFTRGVYYPDKVFRSSVLHSTQDL...HYT'), id='Alpha_B.1.1.7', name='Alpha_B.1.1.7', description='Alpha_B.1.1.7 tr|A0A7T8KZF1|A0A7T8KZF1_SARS2 Spike glycoprotein OS=Severe acute respiratory syndrome coronavirus 2 OX=2697049 GN=S PE=3 SV=1', dbxrefs=[]),\n",
              " 'Beta_B.1.351': SeqRecord(seq=Seq('MFVFLVLLPLVSSQCVNLTTRTQLPPAYTNSFTRGVYYPDKVFRSSVLHSTQDL...HYT'), id='Beta_B.1.351', name='Beta_B.1.351', description='Beta_B.1.351 QRN78347.1 surface glycoprotein [Severe acute respiratory syndrome coronavirus 2]', dbxrefs=[]),\n",
              " 'Gamma_P1': SeqRecord(seq=Seq('MFVFLVLLPLVSSQCVNFTNRTQLPSAYTNSFTRGVYYPDKVFRSSVLHSTQDL...HYT'), id='Gamma_P1', name='Gamma_P1', description='Gamma_P1 QVE55289.1 surface glycoprotein [Severe acute respiratory syndrome coronavirus 2]', dbxrefs=[]),\n",
              " 'Delta_B.1.617.2': SeqRecord(seq=Seq('MFVFLVLLPLVSSQCVNLRTRTQLPPAYTNSFTRGVYYPDKVFRSSVLHSTQDL...HYT'), id='Delta_B.1.617.2', name='Delta_B.1.617.2', description='Delta_B.1.617.2 QWK65230.1 surface glycoprotein [Severe acute respiratory syndrome coronavirus 2]', dbxrefs=[]),\n",
              " 'Omicron_BA.1': SeqRecord(seq=Seq('MFVFLVLLPLVSSQCVNLTTRTQLPPAYTNSFTRGVYYPDKVFRSSVLHSTQDL...HYT'), id='Omicron_BA.1', name='Omicron_BA.1', description='Omicron_BA.1 UFO69279.1 surface glycoprotein [Severe acute respiratory syndrome coronavirus 2]', dbxrefs=[]),\n",
              " 'Omicron_BA.2': SeqRecord(seq=Seq('MFVFLVLLPLVSSQCVNLITRTQSYTNSFTRGVYYPDKVFRSSVLHSTQDLFLP...HYT'), id='Omicron_BA.2', name='Omicron_BA.2', description='Omicron_BA.2 UJE45220.1 surface glycoprotein [Severe acute respiratory syndrome coronavirus 2]', dbxrefs=[])}"
            ]
          },
          "execution_count": 8,
          "metadata": {},
          "output_type": "execute_result"
        }
      ],
      "source": [
        "record_dict"
      ]
    },
    {
      "cell_type": "markdown",
      "metadata": {},
      "source": [
        "In this dictionary, we have each sequence name as a key and all related information as values. "
      ]
    },
    {
      "cell_type": "code",
      "execution_count": 9,
      "metadata": {},
      "outputs": [
        {
          "name": "stdout",
          "output_type": "stream",
          "text": [
            "7\n"
          ]
        }
      ],
      "source": [
        "# How many sequences have we read?\n",
        "print(len(record_dict))"
      ]
    },
    {
      "cell_type": "code",
      "execution_count": 15,
      "metadata": {},
      "outputs": [
        {
          "name": "stdout",
          "output_type": "stream",
          "text": [
            "dict_keys(['Wuhan-Hu-1_19A', 'Alpha_B.1.1.7', 'Beta_B.1.351', 'Gamma_P1', 'Delta_B.1.617.2', 'Omicron_BA.1', 'Omicron_BA.2'])\n"
          ]
        }
      ],
      "source": [
        "# Getting sequences names\n",
        "print((record_dict.keys()))"
      ]
    },
    {
      "cell_type": "code",
      "execution_count": 17,
      "metadata": {},
      "outputs": [
        {
          "data": {
            "text/plain": [
              "SeqRecord(seq=Seq('MFVFLVLLPLVSSQCVNLITRTQSYTNSFTRGVYYPDKVFRSSVLHSTQDLFLP...HYT'), id='Omicron_BA.2', name='Omicron_BA.2', description='Omicron_BA.2 UJE45220.1 surface glycoprotein [Severe acute respiratory syndrome coronavirus 2]', dbxrefs=[])"
            ]
          },
          "execution_count": 17,
          "metadata": {},
          "output_type": "execute_result"
        }
      ],
      "source": [
        "# Sequence information for Omicron BA.2 variant\n",
        "\n",
        "record_dict[\"Omicron_BA.2\"]"
      ]
    },
    {
      "cell_type": "markdown",
      "metadata": {},
      "source": [
        "The SeqRecord object offers a lot of information as attributes, including:\n",
        "\n",
        "    - .seq: the sequence itself.\n",
        "\n",
        "    - .id: the primary ID used to identify the sequence.\n",
        "\n",
        "    - .name: similar to id.\n",
        "\n",
        "    - .description: expasive name of the fasta sequence in a more readable presentation.\n"
      ]
    },
    {
      "cell_type": "code",
      "execution_count": 18,
      "metadata": {},
      "outputs": [
        {
          "data": {
            "text/plain": [
              "Seq('MFVFLVLLPLVSSQCVNLITRTQSYTNSFTRGVYYPDKVFRSSVLHSTQDLFLP...HYT')"
            ]
          },
          "execution_count": 18,
          "metadata": {},
          "output_type": "execute_result"
        }
      ],
      "source": [
        "# Retrieving the sequence as a Seq object\n",
        "record_dict[\"Omicron_BA.2\"].seq"
      ]
    },
    {
      "cell_type": "code",
      "execution_count": 20,
      "metadata": {},
      "outputs": [
        {
          "data": {
            "text/plain": [
              "'Omicron_BA.2 UJE45220.1 surface glycoprotein [Severe acute respiratory syndrome coronavirus 2]'"
            ]
          },
          "execution_count": 20,
          "metadata": {},
          "output_type": "execute_result"
        }
      ],
      "source": [
        "# Sequence description\n",
        "record_dict[\"Omicron_BA.2\"].description"
      ]
    },
    {
      "cell_type": "markdown",
      "metadata": {},
      "source": [
        "## Multiple Sequence analysis (MSA)\n",
        "\n",
        "Multiple sequence analysis is the alignment of three or more biological sequences (DNA or Protein). We can use the output to infer evolutionary relationships. In this section, we will use a multiple sequence alignmet (msa) from spike proteins to explore mutations."
      ]
    },
    {
      "cell_type": "code",
      "execution_count": 68,
      "metadata": {},
      "outputs": [
        {
          "name": "stdout",
          "output_type": "stream",
          "text": [
            "Alignment with 7 rows and 1275 columns\n",
            "MFVFLVLLPLVSSQCVNLTTRTQLPPAYTNSFTRGVYYPDKVFR...HYT Omicron_BA.1\n",
            "MFVFLVLLPLVSSQCVNLITRTQ---SYTNSFTRGVYYPDKVFR...HYT Omicron_BA.2\n",
            "MFVFLVLLPLVSSQCVNLTTRTQLPPAYTNSFTRGVYYPDKVFR...HYT Alpha_B.1.1.7\n",
            "MFVFLVLLPLVSSQCVNFTNRTQLPSAYTNSFTRGVYYPDKVFR...HYT Gamma_P1\n",
            "MFVFLVLLPLVSSQCVNLRTRTQLPPAYTNSFTRGVYYPDKVFR...HYT Delta_B.1.617.2\n",
            "MFVFLVLLPLVSSQCVNLTTRTQLPPAYTNSFTRGVYYPDKVFR...HYT Wuhan-Hu-1_19A\n",
            "MFVFLVLLPLVSSQCVNLTTRTQLPPAYTNSFTRGVYYPDKVFR...HYT Beta_B.1.351\n"
          ]
        }
      ],
      "source": [
        "from Bio import AlignIO\n",
        "\n",
        "msa_file = \"clustal_spike_msa.txt\"\n",
        "spike_align = AlignIO.read(msa_file, \"clustal\")\n",
        "print(spike_align)"
      ]
    },
    {
      "cell_type": "markdown",
      "metadata": {},
      "source": [
        "We can see that now we have a multiple sequence alignment by the gaps inserted in Omicron_BA.2 sequence. Let's explore Bio.Align.MultipleSeqAlignment object. Let's view again the spike protein align.\n",
        "\n",
        "![sars-cov-2](sars-cov-2-aln.jpg)\n",
        "image source: https://viralzone.expasy.org/9556"
      ]
    },
    {
      "cell_type": "code",
      "execution_count": 70,
      "metadata": {},
      "outputs": [
        {
          "name": "stdout",
          "output_type": "stream",
          "text": [
            "Alignment with 7 rows and 1 columns\n",
            "Y Omicron_BA.1\n",
            "Y Omicron_BA.2\n",
            "Y Alpha_B.1.1.7\n",
            "Y Gamma_P1\n",
            "N Delta_B.1.617.2\n",
            "N Wuhan-Hu-1_19A\n",
            "Y Beta_B.1.351\n"
          ]
        }
      ],
      "source": [
        "start= 501 + 1 # remember that python is 0-indexed.\n",
        "end = 503\n",
        "print(spike_align[:, start:end])"
      ]
    },
    {
      "cell_type": "markdown",
      "metadata": {},
      "source": [
        "You can check in the image that all lineages, except Delta B.1.617.2 and Wuhan-Hu-1, present a mutation that changes asparagine to tyrosine in position 501 (N501Y). You can also create a simple function to retrive a specific position in the alignment."
      ]
    },
    {
      "cell_type": "code",
      "execution_count": 78,
      "metadata": {},
      "outputs": [
        {
          "name": "stdout",
          "output_type": "stream",
          "text": [
            "Alignment with 7 rows and 1 columns\n",
            "N Omicron_BA.1\n",
            "N Omicron_BA.2\n",
            "K Alpha_B.1.1.7\n",
            "T Gamma_P1\n",
            "K Delta_B.1.617.2\n",
            "K Wuhan-Hu-1_19A\n",
            "N Beta_B.1.351\n"
          ]
        }
      ],
      "source": [
        "# function to get a position\n",
        "\n",
        "def get_aln_position(aln, start, end):\n",
        "    return aln[:, start+1:end]\n",
        "\n",
        "#Retrieving position 417\n",
        "print(get_aln_position(aln=spike_align, start=417, end=419))"
      ]
    },
    {
      "cell_type": "markdown",
      "metadata": {},
      "source": [
        "### Distance tree from MSA\n",
        "\n",
        "We can also use python to construct a simple tree based on sequence distance."
      ]
    },
    {
      "cell_type": "code",
      "execution_count": 79,
      "metadata": {},
      "outputs": [
        {
          "name": "stdout",
          "output_type": "stream",
          "text": [
            "Omicron_BA.1\t0\n",
            "Omicron_BA.2\t0.02117647058823524\t0\n",
            "Alpha_B.1.1.7\t0.029803921568627434\t0.027450980392156876\t0\n",
            "Gamma_P1\t0.03450980392156866\t0.026666666666666616\t0.014117647058823568\t0\n",
            "Delta_B.1.617.2\t0.0337254901960784\t0.025882352941176467\t0.013333333333333308\t0.015686274509803977\t0\n",
            "Wuhan-Hu-1_19A\t0.03137254901960784\t0.02431372549019606\t0.007843137254901933\t0.009411764705882342\t0.007843137254901933\t0\n",
            "Beta_B.1.351\t0.0337254901960784\t0.026666666666666616\t0.01254901960784316\t0.0117647058823529\t0.014117647058823568\t0.007843137254901933\t0\n",
            "\tOmicron_BA.1\tOmicron_BA.2\tAlpha_B.1.1.7\tGamma_P1\tDelta_B.1.617.2\tWuhan-Hu-1_19A\tBeta_B.1.351\n"
          ]
        }
      ],
      "source": [
        "from Bio.Phylo.TreeConstruction import DistanceCalculator\n",
        "\n",
        "# instance assignment\n",
        "calculator = DistanceCalculator('identity')\n",
        "\n",
        "# calculate distance matrix (dm) from SARS-CoV-2 spike sequences\n",
        "\n",
        "dm = calculator.get_distance(spike_align)\n",
        "print(dm)"
      ]
    },
    {
      "cell_type": "code",
      "execution_count": 94,
      "metadata": {},
      "outputs": [
        {
          "name": "stdout",
          "output_type": "stream",
          "text": [
            "                                       ______________________ Omicron_BA.2\n",
            "            __________________________|\n",
            "          _|                          |______________________ Omicron_BA.1\n",
            "         | |\n",
            "        _| |_______________ Gamma_P1\n",
            "       | |\n",
            "      _| |_____________ Delta_B.1.617.2\n",
            "     | |\n",
            "  ___| |__________ Alpha_B.1.1.7\n",
            " |   |\n",
            "_|   |_______ Beta_B.1.351\n",
            " |\n",
            " |___ Wuhan-Hu-1_19A\n",
            "\n"
          ]
        }
      ],
      "source": [
        "# Constructing the distance tree\n",
        "from Bio.Phylo.TreeConstruction import DistanceTreeConstructor\n",
        "constructor = DistanceTreeConstructor()\n",
        "tree = constructor.upgma(dm)\n",
        "tree.root_with_outgroup(\"Wuhan-Hu-1_19A\",outgroup_branch_length=0.002)\n",
        "\n",
        "#visualize the distance tree\n",
        "Bio.Phylo.draw_ascii(tree=tree)"
      ]
    },
    {
      "cell_type": "markdown",
      "metadata": {},
      "source": [
        "In this course module, we explored the potential of Biopython to work with biological sequences. We saw how to parse fasta files, how to work with multiple sequence alignments, and how to build a simple distance tree using SARS-CoV-2 as a model organism.\n",
        "\n",
        "There are many utilities that you can further explore with Biopython. This course has showed you some possibilities. Keep up with your studies.\n",
        "\n",
        "See you soon."
      ]
    }
  ],
  "metadata": {
    "colab": {
      "authorship_tag": "ABX9TyMlBnE1UVBC2S104CKCxzKz",
      "include_colab_link": true,
      "name": "ISBM_2022_Python.ipynb",
      "provenance": []
    },
    "kernelspec": {
      "display_name": "Python 3",
      "name": "python3"
    },
    "language_info": {
      "codemirror_mode": {
        "name": "ipython",
        "version": 3
      },
      "file_extension": ".py",
      "mimetype": "text/x-python",
      "name": "python",
      "nbconvert_exporter": "python",
      "pygments_lexer": "ipython3",
      "version": "3.9.5"
    }
  },
  "nbformat": 4,
  "nbformat_minor": 0
}
