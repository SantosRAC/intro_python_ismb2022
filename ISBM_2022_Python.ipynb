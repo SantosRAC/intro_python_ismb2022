{
  "cells": [
    {
      "cell_type": "markdown",
      "metadata": {
        "colab_type": "text",
        "id": "view-in-github"
      },
      "source": [
        "<a href=\"https://colab.research.google.com/github/SantosRAC/intro_python_ismb2022/blob/main/ISBM_2022_Python.ipynb\" target=\"_parent\"><img src=\"https://colab.research.google.com/assets/colab-badge.svg\" alt=\"Open In Colab\"/></a>"
      ]
    },
    {
      "cell_type": "markdown",
      "metadata": {},
      "source": [
        "# Introduction to Python programming for bioscientists\n",
        "\n",
        "Tutorial in the 30th Conference on Intelligent Systems for Molecular Biology (ISMB 2022)\n",
        "\n",
        "**Instructors**\n",
        "\n",
        " * Renato Augusto Corrêa dos Santos, PhD\n",
        " * PhD candidate Hemanoel Passarelli\n",
        " * Master student Pedro Ilídio\n",
        " * Vinícius Frasceschini\n",
        "\n",
        "**Learning objectives**\n",
        "\n",
        " * Introduce Google Colab digital notebooks;\n",
        " * Present the basic logic and data structures in Python;\n",
        " * Provide hands-on experience in analyzing biological sequences using Biopython.\n",
        "\n",
        "\n"
      ]
    },
    {
      "cell_type": "markdown",
      "metadata": {},
      "source": [
        "# Day 1 (July 6th, 2022)"
      ]
    },
    {
      "cell_type": "markdown",
      "metadata": {},
      "source": [
        "## Block 1\n",
        "\n",
        "**Timing**: 1h30min\n",
        "\n",
        "**Learning objectives**\n",
        "\n",
        " * Run basic Python code and introduce students to documentation with Markdown on Google Colab notebooks\n",
        " * Introduce the basics of variables, numeric operations, strings, and booleans\n",
        " * Introduce built-in functions (print)\n",
        " * Show how to import a library and use functions beyond the built-in functions (math)"
      ]
    },
    {
      "cell_type": "markdown",
      "metadata": {},
      "source": [
        "**Quick view of Google Colab's functionalities**"
      ]
    },
    {
      "cell_type": "code",
      "execution_count": null,
      "metadata": {
        "id": "VCv7IX9kj4P1"
      },
      "outputs": [],
      "source": []
    },
    {
      "cell_type": "code",
      "execution_count": null,
      "metadata": {},
      "outputs": [],
      "source": []
    },
    {
      "cell_type": "markdown",
      "metadata": {},
      "source": [
        "**Python can be used in arithmetic operations**"
      ]
    },
    {
      "cell_type": "code",
      "execution_count": null,
      "metadata": {},
      "outputs": [],
      "source": []
    },
    {
      "cell_type": "markdown",
      "metadata": {},
      "source": [
        "**What variables are and how to define variables in Python**\n",
        "\n",
        "Variables have:\n",
        " * Type\n",
        " * Value\n",
        "\n",
        "There are also rules we must follow to name variables:\n",
        " * They can have letters, numbers, or even \n",
        " * They must NOT have whitespace\n",
        " * They must NOT be reserved, special words of the Python language (we'll see some of these reserved words soon)\n",
        "\n",
        "We will see later that operators that we use in several tasks also cannot be used for naming variables.\n",
        "\n",
        "The `=` sign is used to assign values to variables."
      ]
    },
    {
      "cell_type": "code",
      "execution_count": 2,
      "metadata": {},
      "outputs": [],
      "source": [
        "name = \"Renato\""
      ]
    },
    {
      "cell_type": "code",
      "execution_count": 1,
      "metadata": {},
      "outputs": [],
      "source": [
        "number = 10"
      ]
    },
    {
      "cell_type": "markdown",
      "metadata": {},
      "source": [
        "**Best practices in Python programming and the PEP8 conventions**\n",
        "\n",
        "Try your best to provide names that are as descriptive as possible."
      ]
    },
    {
      "cell_type": "code",
      "execution_count": null,
      "metadata": {},
      "outputs": [],
      "source": []
    },
    {
      "cell_type": "markdown",
      "metadata": {},
      "source": [
        "**Looking for help**"
      ]
    },
    {
      "cell_type": "code",
      "execution_count": null,
      "metadata": {},
      "outputs": [],
      "source": []
    },
    {
      "cell_type": "markdown",
      "metadata": {},
      "source": [
        "## Block 2\n",
        "\n",
        "**Timing**: 1h\n",
        "\n",
        "**Learning objectives**\n",
        "\n",
        "* Introduce basic functions and methods for string manipulation and a comparative analysis with sequences (lists and tuples)\n",
        "* Introduce dictionaries and a comparative analysis between sequence indexing and dictionary keys"
      ]
    },
    {
      "cell_type": "code",
      "execution_count": null,
      "metadata": {},
      "outputs": [],
      "source": []
    },
    {
      "cell_type": "markdown",
      "metadata": {},
      "source": [
        "## Block 3\n",
        "\n",
        "**Timing**: 1h\n",
        "\n",
        "**Learning objectives**\n",
        "\n",
        "* Show how to build functions"
      ]
    },
    {
      "cell_type": "code",
      "execution_count": null,
      "metadata": {},
      "outputs": [],
      "source": []
    },
    {
      "cell_type": "markdown",
      "metadata": {},
      "source": [
        "# References and links\n",
        "\n",
        "* Computing for Biologists\n",
        "* A Beginners Guide to Python 3 Programming\n",
        "* \n"
      ]
    }
  ],
  "metadata": {
    "colab": {
      "authorship_tag": "ABX9TyMlBnE1UVBC2S104CKCxzKz",
      "include_colab_link": true,
      "name": "ISBM_2022_Python.ipynb",
      "provenance": []
    },
    "kernelspec": {
      "display_name": "Python 3",
      "name": "python3"
    },
    "language_info": {
      "codemirror_mode": {
        "name": "ipython",
        "version": 3
      },
      "file_extension": ".py",
      "mimetype": "text/x-python",
      "name": "python",
      "nbconvert_exporter": "python",
      "pygments_lexer": "ipython3",
      "version": "3.9.7"
    }
  },
  "nbformat": 4,
  "nbformat_minor": 0
}
