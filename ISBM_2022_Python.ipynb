{
  "cells": [
    {
      "cell_type": "markdown",
      "metadata": {
        "colab_type": "text",
        "id": "view-in-github"
      },
      "source": [
        "<a href=\"https://colab.research.google.com/github/SantosRAC/intro_python_ismb2022/blob/main/ISBM_2022_Python.ipynb\" target=\"_parent\"><img src=\"https://colab.research.google.com/assets/colab-badge.svg\" alt=\"Open In Colab\"/></a>"
      ]
    },
    {
      "cell_type": "markdown",
      "metadata": {},
      "source": [
        "# Introduction to Python programming for bioscientists\n",
        "\n",
        "Tutorial in the 30th Conference on Intelligent Systems for Molecular Biology (ISMB 2022)\n",
        "\n",
        "**Instructors**\n",
        "\n",
        " * Renato Augusto Corrêa dos Santos, PhD\n",
        " * PhD candidate Hemanoel Passarelli\n",
        " * Master student Pedro Ilídio\n",
        " * Vinícius Frasceschini\n",
        "\n",
        "**Learning objectives**\n",
        "\n",
        " * Introduce Google Colab digital notebooks;\n",
        " * Present the basic logic and data structures in Python;\n",
        " * Provide hands-on experience in analyzing biological sequences using Biopython.\n",
        "\n",
        "\n"
      ]
    },
    {
      "cell_type": "markdown",
      "metadata": {},
      "source": [
        "# Day 1 (July 6, 2022)"
      ]
    },
    {
      "cell_type": "markdown",
      "metadata": {},
      "source": [
        "## Block 1\n",
        "\n",
        "**Timing**: 1h30min\n",
        "\n",
        "**Learning objectives**\n",
        "\n",
        " * Run basic Python code and introduce students to documentation with Markdown on Google Colab notebooks\n",
        " * Introduce the basics of variables, numeric operations, strings, and booleans\n",
        " * Introduce built-in functions (print)\n",
        " * Show how to import a library and use functions beyond the built-in functions (math)"
      ]
    },
    {
      "cell_type": "markdown",
      "metadata": {},
      "source": [
        "Quick view of Google Colab's functionalities"
      ]
    },
    {
      "cell_type": "code",
      "execution_count": null,
      "metadata": {
        "id": "VCv7IX9kj4P1"
      },
      "outputs": [],
      "source": []
    },
    {
      "cell_type": "code",
      "execution_count": null,
      "metadata": {},
      "outputs": [],
      "source": []
    },
    {
      "cell_type": "markdown",
      "metadata": {},
      "source": [
        "## Block 2\n",
        "\n",
        "**Timing**: 1h\n",
        "\n",
        "**Learning objectives**\n",
        "\n",
        "* Introduce basic functions and methods for string manipulation and a comparative analysis with sequences (lists and tuples)\n",
        "* Introduce dictionaries and a comparative analysis between sequence indexing and dictionary keys"
      ]
    },
    {
      "cell_type": "code",
      "execution_count": null,
      "metadata": {},
      "outputs": [],
      "source": []
    },
    {
      "cell_type": "markdown",
      "metadata": {},
      "source": [
        "## Block 3\n",
        "\n",
        "**Timing**: 1h\n",
        "\n",
        "**Learning objectives**\n",
        "\n",
        "* Show how to build functions"
      ]
    },
    {
      "cell_type": "code",
      "execution_count": null,
      "metadata": {},
      "outputs": [],
      "source": []
    }
  ],
  "metadata": {
    "colab": {
      "authorship_tag": "ABX9TyMlBnE1UVBC2S104CKCxzKz",
      "include_colab_link": true,
      "name": "ISBM_2022_Python.ipynb",
      "provenance": []
    },
    "kernelspec": {
      "display_name": "Python 3",
      "name": "python3"
    },
    "language_info": {
      "name": "python",
      "version": "3.9.7"
    }
  },
  "nbformat": 4,
  "nbformat_minor": 0
}
